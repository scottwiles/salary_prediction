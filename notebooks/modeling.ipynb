{
 "cells": [
  {
   "cell_type": "code",
   "execution_count": 47,
   "metadata": {},
   "outputs": [
    {
     "name": "stdout",
     "output_type": "stream",
     "text": [
      "The autoreload extension is already loaded. To reload it, use:\n",
      "  %reload_ext autoreload\n"
     ]
    }
   ],
   "source": [
    "import pandas as pd\n",
    "import numpy as np\n",
    "import matplotlib.pyplot as plt\n",
    "import seaborn as sns\n",
    "\n",
    "# Custom utility methods\n",
    "from src.EvaluateModels import EvaluatePreprocessors, EvaluateEstimators, EvaluatePipelines\n",
    "from src.model_utils import make_categorical_encoding, plot_learning_curve, plot_validation_curve\n",
    "\n",
    "# Models\n",
    "from sklearn.linear_model import LinearRegression, Ridge, SGDRegressor\n",
    "from sklearn.ensemble import RandomForestRegressor\n",
    "from xgboost.sklearn import XGBRegressor\n",
    "\n",
    "# Pipelines and preprocessing\n",
    "from sklearn.pipeline import Pipeline\n",
    "from sklearn.compose import ColumnTransformer\n",
    "from sklearn.preprocessing import OrdinalEncoder, OneHotEncoder, StandardScaler\n",
    "from sklearn.feature_selection import SelectKBest\n",
    "\n",
    "# Model selection and metrics\n",
    "from sklearn.model_selection import cross_validate, GridSearchCV\n",
    "from sklearn.metrics import mean_squared_error\n",
    "\n",
    "from sklearn import set_config\n",
    "set_config(display = 'diagram')\n",
    "\n",
    "\n",
    "# Dev\n",
    "%load_ext autoreload\n",
    "%autoreload"
   ]
  },
  {
   "cell_type": "markdown",
   "metadata": {},
   "source": [
    "# Import data"
   ]
  },
  {
   "cell_type": "code",
   "execution_count": 2,
   "metadata": {},
   "outputs": [],
   "source": [
    "train_df = pd.read_csv('../data/processed/training_data.csv', index_col = 0)\n",
    "target = train_df.salary\n",
    "train_df.drop(columns = 'salary', inplace=True)"
   ]
  },
  {
   "cell_type": "code",
   "execution_count": 3,
   "metadata": {},
   "outputs": [
    {
     "data": {
      "text/html": [
       "<div>\n",
       "<style scoped>\n",
       "    .dataframe tbody tr th:only-of-type {\n",
       "        vertical-align: middle;\n",
       "    }\n",
       "\n",
       "    .dataframe tbody tr th {\n",
       "        vertical-align: top;\n",
       "    }\n",
       "\n",
       "    .dataframe thead th {\n",
       "        text-align: right;\n",
       "    }\n",
       "</style>\n",
       "<table border=\"1\" class=\"dataframe\">\n",
       "  <thead>\n",
       "    <tr style=\"text-align: right;\">\n",
       "      <th></th>\n",
       "      <th>jobType</th>\n",
       "      <th>degree</th>\n",
       "      <th>major</th>\n",
       "      <th>industry</th>\n",
       "      <th>yearsExperience</th>\n",
       "      <th>milesFromMetropolis</th>\n",
       "    </tr>\n",
       "  </thead>\n",
       "  <tbody>\n",
       "    <tr>\n",
       "      <th>58414</th>\n",
       "      <td>JUNIOR</td>\n",
       "      <td>HIGH_SCHOOL</td>\n",
       "      <td>NONE</td>\n",
       "      <td>WEB</td>\n",
       "      <td>14</td>\n",
       "      <td>84</td>\n",
       "    </tr>\n",
       "    <tr>\n",
       "      <th>902618</th>\n",
       "      <td>SENIOR</td>\n",
       "      <td>MASTERS</td>\n",
       "      <td>COMPSCI</td>\n",
       "      <td>SERVICE</td>\n",
       "      <td>24</td>\n",
       "      <td>86</td>\n",
       "    </tr>\n",
       "    <tr>\n",
       "      <th>778824</th>\n",
       "      <td>JANITOR</td>\n",
       "      <td>NONE</td>\n",
       "      <td>NONE</td>\n",
       "      <td>WEB</td>\n",
       "      <td>4</td>\n",
       "      <td>86</td>\n",
       "    </tr>\n",
       "    <tr>\n",
       "      <th>187593</th>\n",
       "      <td>SENIOR</td>\n",
       "      <td>HIGH_SCHOOL</td>\n",
       "      <td>NONE</td>\n",
       "      <td>WEB</td>\n",
       "      <td>0</td>\n",
       "      <td>42</td>\n",
       "    </tr>\n",
       "    <tr>\n",
       "      <th>574438</th>\n",
       "      <td>VICE_PRESIDENT</td>\n",
       "      <td>MASTERS</td>\n",
       "      <td>BUSINESS</td>\n",
       "      <td>AUTO</td>\n",
       "      <td>16</td>\n",
       "      <td>97</td>\n",
       "    </tr>\n",
       "    <tr>\n",
       "      <th>...</th>\n",
       "      <td>...</td>\n",
       "      <td>...</td>\n",
       "      <td>...</td>\n",
       "      <td>...</td>\n",
       "      <td>...</td>\n",
       "      <td>...</td>\n",
       "    </tr>\n",
       "    <tr>\n",
       "      <th>259179</th>\n",
       "      <td>VICE_PRESIDENT</td>\n",
       "      <td>DOCTORAL</td>\n",
       "      <td>BUSINESS</td>\n",
       "      <td>OIL</td>\n",
       "      <td>9</td>\n",
       "      <td>93</td>\n",
       "    </tr>\n",
       "    <tr>\n",
       "      <th>365839</th>\n",
       "      <td>CFO</td>\n",
       "      <td>DOCTORAL</td>\n",
       "      <td>BUSINESS</td>\n",
       "      <td>HEALTH</td>\n",
       "      <td>15</td>\n",
       "      <td>88</td>\n",
       "    </tr>\n",
       "    <tr>\n",
       "      <th>131933</th>\n",
       "      <td>SENIOR</td>\n",
       "      <td>MASTERS</td>\n",
       "      <td>COMPSCI</td>\n",
       "      <td>HEALTH</td>\n",
       "      <td>18</td>\n",
       "      <td>42</td>\n",
       "    </tr>\n",
       "    <tr>\n",
       "      <th>671158</th>\n",
       "      <td>SENIOR</td>\n",
       "      <td>DOCTORAL</td>\n",
       "      <td>PHYSICS</td>\n",
       "      <td>SERVICE</td>\n",
       "      <td>5</td>\n",
       "      <td>23</td>\n",
       "    </tr>\n",
       "    <tr>\n",
       "      <th>121959</th>\n",
       "      <td>JANITOR</td>\n",
       "      <td>NONE</td>\n",
       "      <td>NONE</td>\n",
       "      <td>FINANCE</td>\n",
       "      <td>14</td>\n",
       "      <td>79</td>\n",
       "    </tr>\n",
       "  </tbody>\n",
       "</table>\n",
       "<p>999995 rows × 6 columns</p>\n",
       "</div>"
      ],
      "text/plain": [
       "               jobType       degree     major industry  yearsExperience  \\\n",
       "58414           JUNIOR  HIGH_SCHOOL      NONE      WEB               14   \n",
       "902618          SENIOR      MASTERS   COMPSCI  SERVICE               24   \n",
       "778824         JANITOR         NONE      NONE      WEB                4   \n",
       "187593          SENIOR  HIGH_SCHOOL      NONE      WEB                0   \n",
       "574438  VICE_PRESIDENT      MASTERS  BUSINESS     AUTO               16   \n",
       "...                ...          ...       ...      ...              ...   \n",
       "259179  VICE_PRESIDENT     DOCTORAL  BUSINESS      OIL                9   \n",
       "365839             CFO     DOCTORAL  BUSINESS   HEALTH               15   \n",
       "131933          SENIOR      MASTERS   COMPSCI   HEALTH               18   \n",
       "671158          SENIOR     DOCTORAL   PHYSICS  SERVICE                5   \n",
       "121959         JANITOR         NONE      NONE  FINANCE               14   \n",
       "\n",
       "        milesFromMetropolis  \n",
       "58414                    84  \n",
       "902618                   86  \n",
       "778824                   86  \n",
       "187593                   42  \n",
       "574438                   97  \n",
       "...                     ...  \n",
       "259179                   93  \n",
       "365839                   88  \n",
       "131933                   42  \n",
       "671158                   23  \n",
       "121959                   79  \n",
       "\n",
       "[999995 rows x 6 columns]"
      ]
     },
     "execution_count": 3,
     "metadata": {},
     "output_type": "execute_result"
    }
   ],
   "source": [
    "train_df"
   ]
  },
  {
   "cell_type": "markdown",
   "metadata": {},
   "source": [
    "## Variables"
   ]
  },
  {
   "cell_type": "code",
   "execution_count": 4,
   "metadata": {},
   "outputs": [],
   "source": [
    "# Specify ordinal levels for categorical variables\n",
    "jobtype_ord_levels = ['JANITOR', 'JUNIOR',  'SENIOR', 'MANAGER', 'VICE_PRESIDENT', 'CFO', 'CTO', 'CEO']\n",
    "degree_ord_levels = ['NONE', 'HIGH_SCHOOL', 'BACHELORS', 'MASTERS', 'DOCTORAL']\n",
    "# industry levels ordered from lowest average salary to highest\n",
    "industry_ord_levels = ['EDUCATION', 'SERVICE', 'AUTO', 'HEALTH', 'WEB', 'FINANCE', 'OIL']\n",
    "\n",
    "# Scoring metric for modeling\n",
    "SCORING_METRIC = 'neg_mean_squared_error'"
   ]
  },
  {
   "cell_type": "markdown",
   "metadata": {},
   "source": [
    "# Basic Model - Linear Regression\n",
    "\n",
    "I want to start modeling with something a little more basic and see how a linear regression measures up to the best baseline score that was found without ML.\n",
    "\n",
    "**Best baseline score (MSE):** `371.22`\n",
    "\n",
    "Plan:\n",
    "1. Encode categorical variables\n",
    "    - Ordinal encoding for `jobType` and `degree` variables\n",
    "    - One hot encoding for `industry` and `major` variables\n",
    "2. Scale numeric variables\n",
    "    - use StandardScaler for `yearsExperience` and `milesFromMetropolis`\n",
    "    \n",
    "Starting out treating `jobType` and `degree` as ordinal. Depending on how the scores measure up, I can try other encodings and preprocessing. "
   ]
  },
  {
   "cell_type": "code",
   "execution_count": 5,
   "metadata": {},
   "outputs": [
    {
     "data": {
      "text/html": [
       "<style>#sk-bd3abc72-9da3-4644-8a9e-959ce3c1745a {color: black;background-color: white;}#sk-bd3abc72-9da3-4644-8a9e-959ce3c1745a pre{padding: 0;}#sk-bd3abc72-9da3-4644-8a9e-959ce3c1745a div.sk-toggleable {background-color: white;}#sk-bd3abc72-9da3-4644-8a9e-959ce3c1745a label.sk-toggleable__label {cursor: pointer;display: block;width: 100%;margin-bottom: 0;padding: 0.2em 0.3em;box-sizing: border-box;text-align: center;}#sk-bd3abc72-9da3-4644-8a9e-959ce3c1745a div.sk-toggleable__content {max-height: 0;max-width: 0;overflow: hidden;text-align: left;background-color: #f0f8ff;}#sk-bd3abc72-9da3-4644-8a9e-959ce3c1745a div.sk-toggleable__content pre {margin: 0.2em;color: black;border-radius: 0.25em;background-color: #f0f8ff;}#sk-bd3abc72-9da3-4644-8a9e-959ce3c1745a input.sk-toggleable__control:checked~div.sk-toggleable__content {max-height: 200px;max-width: 100%;overflow: auto;}#sk-bd3abc72-9da3-4644-8a9e-959ce3c1745a div.sk-estimator input.sk-toggleable__control:checked~label.sk-toggleable__label {background-color: #d4ebff;}#sk-bd3abc72-9da3-4644-8a9e-959ce3c1745a div.sk-label input.sk-toggleable__control:checked~label.sk-toggleable__label {background-color: #d4ebff;}#sk-bd3abc72-9da3-4644-8a9e-959ce3c1745a input.sk-hidden--visually {border: 0;clip: rect(1px 1px 1px 1px);clip: rect(1px, 1px, 1px, 1px);height: 1px;margin: -1px;overflow: hidden;padding: 0;position: absolute;width: 1px;}#sk-bd3abc72-9da3-4644-8a9e-959ce3c1745a div.sk-estimator {font-family: monospace;background-color: #f0f8ff;margin: 0.25em 0.25em;border: 1px dotted black;border-radius: 0.25em;box-sizing: border-box;}#sk-bd3abc72-9da3-4644-8a9e-959ce3c1745a div.sk-estimator:hover {background-color: #d4ebff;}#sk-bd3abc72-9da3-4644-8a9e-959ce3c1745a div.sk-parallel-item::after {content: \"\";width: 100%;border-bottom: 1px solid gray;flex-grow: 1;}#sk-bd3abc72-9da3-4644-8a9e-959ce3c1745a div.sk-label:hover label.sk-toggleable__label {background-color: #d4ebff;}#sk-bd3abc72-9da3-4644-8a9e-959ce3c1745a div.sk-serial::before {content: \"\";position: absolute;border-left: 1px solid gray;box-sizing: border-box;top: 2em;bottom: 0;left: 50%;}#sk-bd3abc72-9da3-4644-8a9e-959ce3c1745a div.sk-serial {display: flex;flex-direction: column;align-items: center;background-color: white;}#sk-bd3abc72-9da3-4644-8a9e-959ce3c1745a div.sk-item {z-index: 1;}#sk-bd3abc72-9da3-4644-8a9e-959ce3c1745a div.sk-parallel {display: flex;align-items: stretch;justify-content: center;background-color: white;}#sk-bd3abc72-9da3-4644-8a9e-959ce3c1745a div.sk-parallel-item {display: flex;flex-direction: column;position: relative;background-color: white;}#sk-bd3abc72-9da3-4644-8a9e-959ce3c1745a div.sk-parallel-item:first-child::after {align-self: flex-end;width: 50%;}#sk-bd3abc72-9da3-4644-8a9e-959ce3c1745a div.sk-parallel-item:last-child::after {align-self: flex-start;width: 50%;}#sk-bd3abc72-9da3-4644-8a9e-959ce3c1745a div.sk-parallel-item:only-child::after {width: 0;}#sk-bd3abc72-9da3-4644-8a9e-959ce3c1745a div.sk-dashed-wrapped {border: 1px dashed gray;margin: 0.2em;box-sizing: border-box;padding-bottom: 0.1em;background-color: white;position: relative;}#sk-bd3abc72-9da3-4644-8a9e-959ce3c1745a div.sk-label label {font-family: monospace;font-weight: bold;background-color: white;display: inline-block;line-height: 1.2em;}#sk-bd3abc72-9da3-4644-8a9e-959ce3c1745a div.sk-label-container {position: relative;z-index: 2;text-align: center;}#sk-bd3abc72-9da3-4644-8a9e-959ce3c1745a div.sk-container {display: inline-block;position: relative;}</style><div id=\"sk-bd3abc72-9da3-4644-8a9e-959ce3c1745a\" class\"sk-top-container\"><div class=\"sk-container\"><div class=\"sk-item sk-dashed-wrapped\"><div class=\"sk-label-container\"><div class=\"sk-label sk-toggleable\"><input class=\"sk-toggleable__control sk-hidden--visually\" id=\"c08b4fe5-037c-4634-b996-3efae9ba7ac7\" type=\"checkbox\" ><label class=\"sk-toggleable__label\" for=\"c08b4fe5-037c-4634-b996-3efae9ba7ac7\">Pipeline</label><div class=\"sk-toggleable__content\"><pre>Pipeline(steps=[('preprocess',\n",
       "                 ColumnTransformer(remainder='passthrough',\n",
       "                                   transformers=[('ordinal_encoding',\n",
       "                                                  OrdinalEncoder(categories=[['JANITOR',\n",
       "                                                                              'JUNIOR',\n",
       "                                                                              'SENIOR',\n",
       "                                                                              'MANAGER',\n",
       "                                                                              'VICE_PRESIDENT',\n",
       "                                                                              'CFO',\n",
       "                                                                              'CTO',\n",
       "                                                                              'CEO'],\n",
       "                                                                             ['NONE',\n",
       "                                                                              'HIGH_SCHOOL',\n",
       "                                                                              'BACHELORS',\n",
       "                                                                              'MASTERS',\n",
       "                                                                              'DOCTORAL']]),\n",
       "                                                  ['jobType', 'degree']),\n",
       "                                                 ('one_hot_encoding',\n",
       "                                                  OneHotEncoder(),\n",
       "                                                  ['major', 'industry']),\n",
       "                                                 ('std_scaler',\n",
       "                                                  StandardScaler(),\n",
       "                                                  ['yearsExperience',\n",
       "                                                   'milesFromMetropolis'])])),\n",
       "                ('linear regression', LinearRegression())])</pre></div></div></div><div class=\"sk-serial\"><div class=\"sk-item sk-dashed-wrapped\"><div class=\"sk-label-container\"><div class=\"sk-label sk-toggleable\"><input class=\"sk-toggleable__control sk-hidden--visually\" id=\"f615ffbf-09b7-40e6-a217-271385eb97bc\" type=\"checkbox\" ><label class=\"sk-toggleable__label\" for=\"f615ffbf-09b7-40e6-a217-271385eb97bc\">preprocess: ColumnTransformer</label><div class=\"sk-toggleable__content\"><pre>ColumnTransformer(remainder='passthrough',\n",
       "                  transformers=[('ordinal_encoding',\n",
       "                                 OrdinalEncoder(categories=[['JANITOR',\n",
       "                                                             'JUNIOR', 'SENIOR',\n",
       "                                                             'MANAGER',\n",
       "                                                             'VICE_PRESIDENT',\n",
       "                                                             'CFO', 'CTO',\n",
       "                                                             'CEO'],\n",
       "                                                            ['NONE',\n",
       "                                                             'HIGH_SCHOOL',\n",
       "                                                             'BACHELORS',\n",
       "                                                             'MASTERS',\n",
       "                                                             'DOCTORAL']]),\n",
       "                                 ['jobType', 'degree']),\n",
       "                                ('one_hot_encoding', OneHotEncoder(),\n",
       "                                 ['major', 'industry']),\n",
       "                                ('std_scaler', StandardScaler(),\n",
       "                                 ['yearsExperience', 'milesFromMetropolis'])])</pre></div></div></div><div class=\"sk-parallel\"><div class=\"sk-parallel-item\"><div class=\"sk-item\"><div class=\"sk-label-container\"><div class=\"sk-label sk-toggleable\"><input class=\"sk-toggleable__control sk-hidden--visually\" id=\"5198a5f9-3107-447f-9733-48ce6be29436\" type=\"checkbox\" ><label class=\"sk-toggleable__label\" for=\"5198a5f9-3107-447f-9733-48ce6be29436\">ordinal_encoding</label><div class=\"sk-toggleable__content\"><pre>['jobType', 'degree']</pre></div></div></div><div class=\"sk-serial\"><div class=\"sk-item\"><div class=\"sk-estimator sk-toggleable\"><input class=\"sk-toggleable__control sk-hidden--visually\" id=\"856027d6-3169-4b05-81e1-477ae0cc72ad\" type=\"checkbox\" ><label class=\"sk-toggleable__label\" for=\"856027d6-3169-4b05-81e1-477ae0cc72ad\">OrdinalEncoder</label><div class=\"sk-toggleable__content\"><pre>OrdinalEncoder(categories=[['JANITOR', 'JUNIOR', 'SENIOR', 'MANAGER',\n",
       "                            'VICE_PRESIDENT', 'CFO', 'CTO', 'CEO'],\n",
       "                           ['NONE', 'HIGH_SCHOOL', 'BACHELORS', 'MASTERS',\n",
       "                            'DOCTORAL']])</pre></div></div></div></div></div></div><div class=\"sk-parallel-item\"><div class=\"sk-item\"><div class=\"sk-label-container\"><div class=\"sk-label sk-toggleable\"><input class=\"sk-toggleable__control sk-hidden--visually\" id=\"77e78f5b-4717-45ea-9346-c7dac5fbf3de\" type=\"checkbox\" ><label class=\"sk-toggleable__label\" for=\"77e78f5b-4717-45ea-9346-c7dac5fbf3de\">one_hot_encoding</label><div class=\"sk-toggleable__content\"><pre>['major', 'industry']</pre></div></div></div><div class=\"sk-serial\"><div class=\"sk-item\"><div class=\"sk-estimator sk-toggleable\"><input class=\"sk-toggleable__control sk-hidden--visually\" id=\"57280fd5-a3a0-4897-8625-2bc7d7cdecac\" type=\"checkbox\" ><label class=\"sk-toggleable__label\" for=\"57280fd5-a3a0-4897-8625-2bc7d7cdecac\">OneHotEncoder</label><div class=\"sk-toggleable__content\"><pre>OneHotEncoder()</pre></div></div></div></div></div></div><div class=\"sk-parallel-item\"><div class=\"sk-item\"><div class=\"sk-label-container\"><div class=\"sk-label sk-toggleable\"><input class=\"sk-toggleable__control sk-hidden--visually\" id=\"85e61d3f-a43d-4507-bf3e-0f5c3bc4440e\" type=\"checkbox\" ><label class=\"sk-toggleable__label\" for=\"85e61d3f-a43d-4507-bf3e-0f5c3bc4440e\">std_scaler</label><div class=\"sk-toggleable__content\"><pre>['yearsExperience', 'milesFromMetropolis']</pre></div></div></div><div class=\"sk-serial\"><div class=\"sk-item\"><div class=\"sk-estimator sk-toggleable\"><input class=\"sk-toggleable__control sk-hidden--visually\" id=\"47f47c1c-70f1-4984-8bdf-e708417ca2be\" type=\"checkbox\" ><label class=\"sk-toggleable__label\" for=\"47f47c1c-70f1-4984-8bdf-e708417ca2be\">StandardScaler</label><div class=\"sk-toggleable__content\"><pre>StandardScaler()</pre></div></div></div></div></div></div><div class=\"sk-parallel-item\"><div class=\"sk-item\"><div class=\"sk-label-container\"><div class=\"sk-label sk-toggleable\"><input class=\"sk-toggleable__control sk-hidden--visually\" id=\"d17660a8-00b5-4ca6-9c53-3b1a2eacabee\" type=\"checkbox\" ><label class=\"sk-toggleable__label\" for=\"d17660a8-00b5-4ca6-9c53-3b1a2eacabee\">remainder</label><div class=\"sk-toggleable__content\"><pre></pre></div></div></div><div class=\"sk-serial\"><div class=\"sk-item\"><div class=\"sk-estimator sk-toggleable\"><input class=\"sk-toggleable__control sk-hidden--visually\" id=\"905ae044-280f-4404-b964-d3ada95a1ca1\" type=\"checkbox\" ><label class=\"sk-toggleable__label\" for=\"905ae044-280f-4404-b964-d3ada95a1ca1\">passthrough</label><div class=\"sk-toggleable__content\"><pre>passthrough</pre></div></div></div></div></div></div></div></div><div class=\"sk-item\"><div class=\"sk-estimator sk-toggleable\"><input class=\"sk-toggleable__control sk-hidden--visually\" id=\"c9d0895e-3168-47be-be2c-466b887290f2\" type=\"checkbox\" ><label class=\"sk-toggleable__label\" for=\"c9d0895e-3168-47be-be2c-466b887290f2\">LinearRegression</label><div class=\"sk-toggleable__content\"><pre>LinearRegression()</pre></div></div></div></div></div></div></div>"
      ],
      "text/plain": [
       "Pipeline(steps=[('preprocess',\n",
       "                 ColumnTransformer(remainder='passthrough',\n",
       "                                   transformers=[('ordinal_encoding',\n",
       "                                                  OrdinalEncoder(categories=[['JANITOR',\n",
       "                                                                              'JUNIOR',\n",
       "                                                                              'SENIOR',\n",
       "                                                                              'MANAGER',\n",
       "                                                                              'VICE_PRESIDENT',\n",
       "                                                                              'CFO',\n",
       "                                                                              'CTO',\n",
       "                                                                              'CEO'],\n",
       "                                                                             ['NONE',\n",
       "                                                                              'HIGH_SCHOOL',\n",
       "                                                                              'BACHELORS',\n",
       "                                                                              'MASTERS',\n",
       "                                                                              'DOCTORAL']]),\n",
       "                                                  ['jobType', 'degree']),\n",
       "                                                 ('one_hot_encoding',\n",
       "                                                  OneHotEncoder(),\n",
       "                                                  ['major', 'industry']),\n",
       "                                                 ('std_scaler',\n",
       "                                                  StandardScaler(),\n",
       "                                                  ['yearsExperience',\n",
       "                                                   'milesFromMetropolis'])])),\n",
       "                ('linear regression', LinearRegression())])"
      ]
     },
     "execution_count": 5,
     "metadata": {},
     "output_type": "execute_result"
    }
   ],
   "source": [
    "# Preprocessing with ColumnTransformer\n",
    "basic_lr_preprocessing = ColumnTransformer([\n",
    "    ('ordinal_encoding', OrdinalEncoder(categories=[jobtype_ord_levels, degree_ord_levels]), ['jobType', 'degree']),\n",
    "    ('one_hot_encoding', OneHotEncoder(), ['major', 'industry']),\n",
    "    ('std_scaler', StandardScaler(), ['yearsExperience', 'milesFromMetropolis'])\n",
    "], remainder='passthrough')\n",
    "\n",
    "# Model pipeline\n",
    "basic_lr_model = Pipeline([\n",
    "    ('preprocess', basic_lr_preprocessing),\n",
    "    ('linear regression', LinearRegression())\n",
    "])\n",
    "basic_lr_model"
   ]
  },
  {
   "cell_type": "code",
   "execution_count": 6,
   "metadata": {},
   "outputs": [
    {
     "name": "stdout",
     "output_type": "stream",
     "text": [
      "Mean test score: -394.38290117364784\n",
      "\n"
     ]
    },
    {
     "data": {
      "text/plain": [
       "{'fit_time': array([1.54572606, 1.46879983, 1.50775766, 1.51774693, 1.50826216]),\n",
       " 'score_time': array([0.19527698, 0.18928695, 0.20127082, 0.20326424, 0.20975423]),\n",
       " 'test_score': array([-393.30608198, -396.3105107 , -394.56362714, -395.18530224,\n",
       "        -392.54898381]),\n",
       " 'train_score': array([-394.63886445, -393.88634722, -394.32206648, -394.16714741,\n",
       "        -394.82603238])}"
      ]
     },
     "execution_count": 6,
     "metadata": {},
     "output_type": "execute_result"
    }
   ],
   "source": [
    "# Run cross validation\n",
    "basic_lr_scores = cross_validate(basic_lr_model, train_df, target, cv = 5, scoring = SCORING_METRIC, return_train_score = True)\n",
    "\n",
    "print(f\"Mean test score: {np.mean(basic_lr_scores['test_score'])}\", end = '\\n\\n')\n",
    "basic_lr_scores"
   ]
  },
  {
   "cell_type": "markdown",
   "metadata": {},
   "source": [
    "This linear regression's error is quite a bit higher than our best baseline score. I wonder if changing the encoding of the categorical variables will impact the results in a positive way."
   ]
  },
  {
   "cell_type": "markdown",
   "metadata": {},
   "source": [
    "## Test different categorical encodings\n",
    "\n",
    "Plan:  \n",
    "Test modeling different variables as ordinal encoding, and also test all one hot encoding\n",
    "\n",
    "Candidates for ordinal encoding:\n",
    "- jobType\n",
    "- degree\n",
    "- industry\n",
    "\n",
    "`jobType` and `degree` I think are the ones that can be argued to have the most natural precedent for an ordering. \n",
    "- The different levels of `jobType` can be interpreted as needing different levels of: experience, qualifications, or responsibility on the job. (i.e. especially between the levels 'junior', 'senior', 'manager').\n",
    "- Similarly with `degree` the natural ordering can be interpreted as the number of years of schooling. In this case it makes sense to order the levels as: `'none' < 'high school' < 'bachelors' < 'masters' < 'doctoral'`\n",
    "\n",
    "As far as `industry` is concerned, it may be valid to argue that there is no real natural ordering between industries; can you really rank health versus finance industries? But the average salary of each of the levels of `industry` seem more spread out and cover a wider range of values than `degree`. So I can use the data to give a guess as to the order - might as well try it out.\n",
    "\n",
    "I don't think it makes sense for `major` to be treated as ordinal here. Because there isn't a clear natural ording to the different majors. Additionally, there is no real data to give a direction at guessing/imposing an order on the levels of `major`. The average salary for the subgroups of `major` are too close together, plus the distributions of the salary for each of the levels of `major` are very much overlapped. And even during EDA we saw that top paying salaries across different industries have different majors, so it is hard to think of an ordering.\n",
    "- I will only treat `major` as a nominal variable and use one hot encoding\n",
    "\n",
    "\n",
    "**Preprocessing pipelines to test:**\n",
    "1. single ordinal encoding  \n",
    "    a. jobType  \n",
    "    b. industry  \n",
    "    c. degree  \n",
    "2. double ordinal encoding  \n",
    "    a. jobType & industry  \n",
    "    b. industry & degree  \n",
    "3. all 3 ordinal encoding\n",
    "4. all one hot\n",
    "5. first model (degree & jobType as ordinal)"
   ]
  },
  {
   "cell_type": "code",
   "execution_count": 8,
   "metadata": {},
   "outputs": [],
   "source": [
    "# Keep a dictionary so that I can easily refer back to these column transformers later if necessary\n",
    "# But I will also make a list of tuples to be fed into the evaluator classes \n",
    "categorical_encoding_pipelines = {\n",
    "    # single ordinal encoding\n",
    "    'jobType_ordinal': make_categorical_encoding(category_levels = [jobtype_ord_levels],\n",
    "                                                 ord_cols = ['jobType'],\n",
    "                                                 oh_cols = ['industry', 'degree', 'major']),\n",
    "    'industry_ordinal': make_categorical_encoding(category_levels = [industry_ord_levels],\n",
    "                                                  ord_cols = ['industry'],\n",
    "                                                  oh_cols = ['jobType', 'degree', 'major']),\n",
    "    'degree_ordinal': make_categorical_encoding(category_levels = [degree_ord_levels],\n",
    "                                                ord_cols = ['degree'],\n",
    "                                                oh_cols = ['industry', 'jobType', 'major']),\n",
    "    \n",
    "    # double ordinal encoding\n",
    "    'jobType-industry_ordinal': make_categorical_encoding(category_levels = [jobtype_ord_levels, industry_ord_levels],\n",
    "                                                          ord_cols = ['jobType', 'industry'],\n",
    "                                                          oh_cols = ['degree', 'major']),\n",
    "    'industry-degree_ordinal': make_categorical_encoding(category_levels = [industry_ord_levels, degree_ord_levels],\n",
    "                                                         ord_cols = ['industry', 'degree'],\n",
    "                                                         oh_cols = ['jobType', 'major']),\n",
    "    \n",
    "    # All 3 ordinal \n",
    "    'all_ordinal': make_categorical_encoding(category_levels = [jobtype_ord_levels, industry_ord_levels, degree_ord_levels],\n",
    "                                             ord_cols = ['jobType', 'industry', 'degree'],\n",
    "                                             oh_cols = ['major']),\n",
    "    \n",
    "    # All one hot\n",
    "    'all_one_hot': make_categorical_encoding(category_levels = None, ord_cols = None,\n",
    "                                             oh_cols = ['jobType', 'degree', 'industry', 'major']),\n",
    "    \n",
    "    # First model - basic lr (jobType & degree ordinal) \n",
    "    'basic_lr_(first model)': basic_lr_preprocessing\n",
    "    \n",
    "}\n",
    "\n",
    "# list of test arrays\n",
    "categorical_encoding_list = [(name, transformer) for name, transformer in categorical_encoding_pipelines.items()]"
   ]
  },
  {
   "cell_type": "code",
   "execution_count": 8,
   "metadata": {},
   "outputs": [
    {
     "name": "stdout",
     "output_type": "stream",
     "text": [
      "::::::::::::::::::::::::::::::::::::::::::::::::::::::::::::\n",
      "Best model found:\n",
      "Pipeline(steps=[('all_one_hot',\n",
      "                 ColumnTransformer(remainder='passthrough',\n",
      "                                   transformers=[('one_hot_encoding',\n",
      "                                                  OneHotEncoder(),\n",
      "                                                  ['jobType', 'degree',\n",
      "                                                   'industry', 'major']),\n",
      "                                                 ('std_scaler',\n",
      "                                                  StandardScaler(),\n",
      "                                                  ['yearsExperience',\n",
      "                                                   'milesFromMetropolis'])])),\n",
      "                ('estimator', LinearRegression())])\n",
      "\n",
      "Model score (using 'neg_mean_squared_error')\n",
      "-384.40224675582164\n",
      "\n"
     ]
    },
    {
     "data": {
      "text/html": [
       "<div>\n",
       "<style scoped>\n",
       "    .dataframe tbody tr th:only-of-type {\n",
       "        vertical-align: middle;\n",
       "    }\n",
       "\n",
       "    .dataframe tbody tr th {\n",
       "        vertical-align: top;\n",
       "    }\n",
       "\n",
       "    .dataframe thead th {\n",
       "        text-align: right;\n",
       "    }\n",
       "</style>\n",
       "<table border=\"1\" class=\"dataframe\">\n",
       "  <thead>\n",
       "    <tr style=\"text-align: right;\">\n",
       "      <th></th>\n",
       "      <th>test_score</th>\n",
       "      <th>train_score</th>\n",
       "      <th>fit_time</th>\n",
       "      <th>score_time</th>\n",
       "    </tr>\n",
       "  </thead>\n",
       "  <tbody>\n",
       "    <tr>\n",
       "      <th>all_one_hot</th>\n",
       "      <td>-384.402247</td>\n",
       "      <td>-384.377823</td>\n",
       "      <td>1.412372</td>\n",
       "      <td>0.209958</td>\n",
       "    </tr>\n",
       "    <tr>\n",
       "      <th>degree_ordinal</th>\n",
       "      <td>-384.580781</td>\n",
       "      <td>-384.557766</td>\n",
       "      <td>1.410672</td>\n",
       "      <td>0.221447</td>\n",
       "    </tr>\n",
       "    <tr>\n",
       "      <th>industry_ordinal</th>\n",
       "      <td>-386.794762</td>\n",
       "      <td>-386.774068</td>\n",
       "      <td>1.485694</td>\n",
       "      <td>0.215850</td>\n",
       "    </tr>\n",
       "    <tr>\n",
       "      <th>industry-degree_ordinal</th>\n",
       "      <td>-386.973211</td>\n",
       "      <td>-386.953954</td>\n",
       "      <td>1.442635</td>\n",
       "      <td>0.215551</td>\n",
       "    </tr>\n",
       "    <tr>\n",
       "      <th>jobType_ordinal</th>\n",
       "      <td>-394.090058</td>\n",
       "      <td>-394.073960</td>\n",
       "      <td>1.441339</td>\n",
       "      <td>0.222244</td>\n",
       "    </tr>\n",
       "    <tr>\n",
       "      <th>basic_lr_(first model)</th>\n",
       "      <td>-394.382901</td>\n",
       "      <td>-394.368092</td>\n",
       "      <td>1.517460</td>\n",
       "      <td>0.200868</td>\n",
       "    </tr>\n",
       "    <tr>\n",
       "      <th>jobType-industry_ordinal</th>\n",
       "      <td>-396.491995</td>\n",
       "      <td>-396.478983</td>\n",
       "      <td>1.471216</td>\n",
       "      <td>0.208557</td>\n",
       "    </tr>\n",
       "    <tr>\n",
       "      <th>all_ordinal</th>\n",
       "      <td>-396.784029</td>\n",
       "      <td>-396.772258</td>\n",
       "      <td>1.293513</td>\n",
       "      <td>0.190380</td>\n",
       "    </tr>\n",
       "  </tbody>\n",
       "</table>\n",
       "</div>"
      ],
      "text/plain": [
       "                          test_score  train_score  fit_time  score_time\n",
       "all_one_hot              -384.402247  -384.377823  1.412372    0.209958\n",
       "degree_ordinal           -384.580781  -384.557766  1.410672    0.221447\n",
       "industry_ordinal         -386.794762  -386.774068  1.485694    0.215850\n",
       "industry-degree_ordinal  -386.973211  -386.953954  1.442635    0.215551\n",
       "jobType_ordinal          -394.090058  -394.073960  1.441339    0.222244\n",
       "basic_lr_(first model)   -394.382901  -394.368092  1.517460    0.200868\n",
       "jobType-industry_ordinal -396.491995  -396.478983  1.471216    0.208557\n",
       "all_ordinal              -396.784029  -396.772258  1.293513    0.190380"
      ]
     },
     "metadata": {},
     "output_type": "display_data"
    }
   ],
   "source": [
    "find_best_categorical_encoding = EvaluatePreprocessors(preprocessors = categorical_encoding_list,\n",
    "                                                       estimator = LinearRegression(),\n",
    "                                                       scoring = SCORING_METRIC)\n",
    "\n",
    "find_best_categorical_encoding.run(train_df, target)"
   ]
  },
  {
   "cell_type": "markdown",
   "metadata": {},
   "source": [
    "The categorical encoding that worked the best is using one hot for all the variables, with a score of `384.40`. But not quite as low as the baseline score."
   ]
  },
  {
   "cell_type": "markdown",
   "metadata": {},
   "source": [
    "#### after linear regression\n",
    "- test out ridge/lasso with the best preprocessing\n",
    "- try with feature selection with the best of ridge/lasso\n",
    "- test against SGDRegressor\n",
    "- the best model from the above test against gradient boosting and tree methods\n",
    "\n",
    "- hyperperameter tune\n"
   ]
  },
  {
   "cell_type": "markdown",
   "metadata": {},
   "source": [
    "# Test other models\n",
    "\n",
    "**Plan:**  \n",
    "Explore how other models, with basic parameter settings, measure up to the linear regression model. Before diving into getting better performance out of the linear regression model I will see if there is another type of model which seems to greatly outperform the rest, and could be more fruitful to spend time on.\n",
    "\n",
    "**Models to test:**\n",
    "- SDGRegressor\n",
    "    - The linear regression seems to have more of a bias than variance issue, this may be able to fit the data better\n",
    "- Random forest\n",
    "- XGBoost gradient boosted trees"
   ]
  },
  {
   "cell_type": "markdown",
   "metadata": {},
   "source": [
    "#### New categorical encoding to help for tree based methods\n",
    "After an initial test with random forest, using all one hot encoding seems to have a very negative performance in terms of training time and squared error\n",
    "\n",
    "This encoding uses the default OrdinalEncoder labeling and doesn't scale the `yearsExperience` or `milesFromMetropolis`"
   ]
  },
  {
   "cell_type": "code",
   "execution_count": 40,
   "metadata": {},
   "outputs": [
    {
     "data": {
      "text/html": [
       "<style>#sk-46310c82-aafa-464b-9c18-77b808d155bf {color: black;background-color: white;}#sk-46310c82-aafa-464b-9c18-77b808d155bf pre{padding: 0;}#sk-46310c82-aafa-464b-9c18-77b808d155bf div.sk-toggleable {background-color: white;}#sk-46310c82-aafa-464b-9c18-77b808d155bf label.sk-toggleable__label {cursor: pointer;display: block;width: 100%;margin-bottom: 0;padding: 0.2em 0.3em;box-sizing: border-box;text-align: center;}#sk-46310c82-aafa-464b-9c18-77b808d155bf div.sk-toggleable__content {max-height: 0;max-width: 0;overflow: hidden;text-align: left;background-color: #f0f8ff;}#sk-46310c82-aafa-464b-9c18-77b808d155bf div.sk-toggleable__content pre {margin: 0.2em;color: black;border-radius: 0.25em;background-color: #f0f8ff;}#sk-46310c82-aafa-464b-9c18-77b808d155bf input.sk-toggleable__control:checked~div.sk-toggleable__content {max-height: 200px;max-width: 100%;overflow: auto;}#sk-46310c82-aafa-464b-9c18-77b808d155bf div.sk-estimator input.sk-toggleable__control:checked~label.sk-toggleable__label {background-color: #d4ebff;}#sk-46310c82-aafa-464b-9c18-77b808d155bf div.sk-label input.sk-toggleable__control:checked~label.sk-toggleable__label {background-color: #d4ebff;}#sk-46310c82-aafa-464b-9c18-77b808d155bf input.sk-hidden--visually {border: 0;clip: rect(1px 1px 1px 1px);clip: rect(1px, 1px, 1px, 1px);height: 1px;margin: -1px;overflow: hidden;padding: 0;position: absolute;width: 1px;}#sk-46310c82-aafa-464b-9c18-77b808d155bf div.sk-estimator {font-family: monospace;background-color: #f0f8ff;margin: 0.25em 0.25em;border: 1px dotted black;border-radius: 0.25em;box-sizing: border-box;}#sk-46310c82-aafa-464b-9c18-77b808d155bf div.sk-estimator:hover {background-color: #d4ebff;}#sk-46310c82-aafa-464b-9c18-77b808d155bf div.sk-parallel-item::after {content: \"\";width: 100%;border-bottom: 1px solid gray;flex-grow: 1;}#sk-46310c82-aafa-464b-9c18-77b808d155bf div.sk-label:hover label.sk-toggleable__label {background-color: #d4ebff;}#sk-46310c82-aafa-464b-9c18-77b808d155bf div.sk-serial::before {content: \"\";position: absolute;border-left: 1px solid gray;box-sizing: border-box;top: 2em;bottom: 0;left: 50%;}#sk-46310c82-aafa-464b-9c18-77b808d155bf div.sk-serial {display: flex;flex-direction: column;align-items: center;background-color: white;}#sk-46310c82-aafa-464b-9c18-77b808d155bf div.sk-item {z-index: 1;}#sk-46310c82-aafa-464b-9c18-77b808d155bf div.sk-parallel {display: flex;align-items: stretch;justify-content: center;background-color: white;}#sk-46310c82-aafa-464b-9c18-77b808d155bf div.sk-parallel-item {display: flex;flex-direction: column;position: relative;background-color: white;}#sk-46310c82-aafa-464b-9c18-77b808d155bf div.sk-parallel-item:first-child::after {align-self: flex-end;width: 50%;}#sk-46310c82-aafa-464b-9c18-77b808d155bf div.sk-parallel-item:last-child::after {align-self: flex-start;width: 50%;}#sk-46310c82-aafa-464b-9c18-77b808d155bf div.sk-parallel-item:only-child::after {width: 0;}#sk-46310c82-aafa-464b-9c18-77b808d155bf div.sk-dashed-wrapped {border: 1px dashed gray;margin: 0.2em;box-sizing: border-box;padding-bottom: 0.1em;background-color: white;position: relative;}#sk-46310c82-aafa-464b-9c18-77b808d155bf div.sk-label label {font-family: monospace;font-weight: bold;background-color: white;display: inline-block;line-height: 1.2em;}#sk-46310c82-aafa-464b-9c18-77b808d155bf div.sk-label-container {position: relative;z-index: 2;text-align: center;}#sk-46310c82-aafa-464b-9c18-77b808d155bf div.sk-container {display: inline-block;position: relative;}</style><div id=\"sk-46310c82-aafa-464b-9c18-77b808d155bf\" class\"sk-top-container\"><div class=\"sk-container\"><div class=\"sk-item sk-dashed-wrapped\"><div class=\"sk-label-container\"><div class=\"sk-label sk-toggleable\"><input class=\"sk-toggleable__control sk-hidden--visually\" id=\"7c73d5c0-e4c6-45f3-b8fa-f3b794a45639\" type=\"checkbox\" ><label class=\"sk-toggleable__label\" for=\"7c73d5c0-e4c6-45f3-b8fa-f3b794a45639\">ColumnTransformer</label><div class=\"sk-toggleable__content\"><pre>ColumnTransformer(remainder='passthrough',\n",
       "                  transformers=[('ordinal encoding', OrdinalEncoder(),\n",
       "                                 ['jobType', 'degree', 'industry', 'major'])])</pre></div></div></div><div class=\"sk-parallel\"><div class=\"sk-parallel-item\"><div class=\"sk-item\"><div class=\"sk-label-container\"><div class=\"sk-label sk-toggleable\"><input class=\"sk-toggleable__control sk-hidden--visually\" id=\"974d7fff-0c7e-4f7c-ae78-0381efa40362\" type=\"checkbox\" ><label class=\"sk-toggleable__label\" for=\"974d7fff-0c7e-4f7c-ae78-0381efa40362\">ordinal encoding</label><div class=\"sk-toggleable__content\"><pre>['jobType', 'degree', 'industry', 'major']</pre></div></div></div><div class=\"sk-serial\"><div class=\"sk-item\"><div class=\"sk-estimator sk-toggleable\"><input class=\"sk-toggleable__control sk-hidden--visually\" id=\"fc273255-c609-41f3-b024-b7b783b42911\" type=\"checkbox\" ><label class=\"sk-toggleable__label\" for=\"fc273255-c609-41f3-b024-b7b783b42911\">OrdinalEncoder</label><div class=\"sk-toggleable__content\"><pre>OrdinalEncoder()</pre></div></div></div></div></div></div><div class=\"sk-parallel-item\"><div class=\"sk-item\"><div class=\"sk-label-container\"><div class=\"sk-label sk-toggleable\"><input class=\"sk-toggleable__control sk-hidden--visually\" id=\"5ca5fe5f-1620-40f0-a412-fb7a82655c80\" type=\"checkbox\" ><label class=\"sk-toggleable__label\" for=\"5ca5fe5f-1620-40f0-a412-fb7a82655c80\">remainder</label><div class=\"sk-toggleable__content\"><pre></pre></div></div></div><div class=\"sk-serial\"><div class=\"sk-item\"><div class=\"sk-estimator sk-toggleable\"><input class=\"sk-toggleable__control sk-hidden--visually\" id=\"d46d1a10-4ffa-42e2-b10a-e7d2eece0f33\" type=\"checkbox\" ><label class=\"sk-toggleable__label\" for=\"d46d1a10-4ffa-42e2-b10a-e7d2eece0f33\">passthrough</label><div class=\"sk-toggleable__content\"><pre>passthrough</pre></div></div></div></div></div></div></div></div></div></div>"
      ],
      "text/plain": [
       "ColumnTransformer(remainder='passthrough',\n",
       "                  transformers=[('ordinal encoding', OrdinalEncoder(),\n",
       "                                 ['jobType', 'degree', 'industry', 'major'])])"
      ]
     },
     "execution_count": 40,
     "metadata": {},
     "output_type": "execute_result"
    }
   ],
   "source": [
    "ordinal_no_scaling_pp = ColumnTransformer([('ordinal encoding', OrdinalEncoder(), ['jobType', 'degree', 'industry', 'major'])], remainder='passthrough')\n",
    "ordinal_no_scaling_pp"
   ]
  },
  {
   "cell_type": "code",
   "execution_count": 41,
   "metadata": {},
   "outputs": [],
   "source": [
    "# New models\n",
    "random_forest = Pipeline([\n",
    "    ('categorical_encoding', ordinal_no_scaling_pp),\n",
    "    ('rf', RandomForestRegressor(max_depth=20, n_estimators = 150, n_jobs = -1, min_samples_leaf=10))\n",
    "])\n",
    "\n",
    "xg_boost = Pipeline([\n",
    "    ('categorical_encoding', categorical_encoding_pipelines['all_one_hot']),\n",
    "    ('xbg', XGBRegressor())\n",
    "])\n",
    "\n",
    "sgd_regressor = Pipeline([\n",
    "    ('categorical_encoding', categorical_encoding_pipelines['all_one_hot']),\n",
    "    ('sgd_regressor', SGDRegressor())\n",
    "])\n",
    "\n",
    "new_model_pipelines = [\n",
    "    ('rf', random_forest),\n",
    "    ('xgb', xg_boost),\n",
    "    ('sgd_regressor', sgd_regressor)\n",
    "]"
   ]
  },
  {
   "cell_type": "code",
   "execution_count": 43,
   "metadata": {},
   "outputs": [
    {
     "name": "stdout",
     "output_type": "stream",
     "text": [
      "------------------------------\n",
      "Finished training: rf\n",
      "Test score  : -375.3301843570048\n",
      "Train score : -302.6059283697493\n",
      "\n",
      "------------------------------\n",
      "Finished training: xgb\n",
      "Test score  : -358.49743819860595\n",
      "Train score : -352.25551074759744\n",
      "\n",
      "------------------------------\n",
      "Finished training: sgd_regressor\n",
      "Test score  : -384.5905336575519\n",
      "Train score : -384.57045782847615\n",
      "\n",
      "::::::::::::::::::::::::::::::::::::::::::::::::::::::::::::\n",
      "Best model found:\n",
      "Pipeline(steps=[('categorical_encoding',\n",
      "                 ColumnTransformer(remainder='passthrough',\n",
      "                                   transformers=[('one_hot_encoding',\n",
      "                                                  OneHotEncoder(),\n",
      "                                                  ['jobType', 'degree',\n",
      "                                                   'industry', 'major']),\n",
      "                                                 ('std_scaler',\n",
      "                                                  StandardScaler(),\n",
      "                                                  ['yearsExperience',\n",
      "                                                   'milesFromMetropolis'])])),\n",
      "                ('xbg',\n",
      "                 XGBRegressor(base_score=None, booster=None,\n",
      "                              colsample_bylevel=None, colsample_bynode=None,\n",
      "                              colsam...\n",
      "                              importance_type='gain',\n",
      "                              interaction_constraints=None, learning_rate=None,\n",
      "                              max_delta_step=None, max_depth=None,\n",
      "                              min_child_weight=None, missing=nan,\n",
      "                              monotone_constraints=None, n_estimators=100,\n",
      "                              n_jobs=None, num_parallel_tree=None,\n",
      "                              random_state=None, reg_alpha=None,\n",
      "                              reg_lambda=None, scale_pos_weight=None,\n",
      "                              subsample=None, tree_method=None,\n",
      "                              validate_parameters=None, verbosity=None))])\n",
      "\n",
      "Model score (using 'neg_mean_squared_error')\n",
      "-358.49743819860595\n",
      "\n"
     ]
    },
    {
     "data": {
      "text/html": [
       "<div>\n",
       "<style scoped>\n",
       "    .dataframe tbody tr th:only-of-type {\n",
       "        vertical-align: middle;\n",
       "    }\n",
       "\n",
       "    .dataframe tbody tr th {\n",
       "        vertical-align: top;\n",
       "    }\n",
       "\n",
       "    .dataframe thead th {\n",
       "        text-align: right;\n",
       "    }\n",
       "</style>\n",
       "<table border=\"1\" class=\"dataframe\">\n",
       "  <thead>\n",
       "    <tr style=\"text-align: right;\">\n",
       "      <th></th>\n",
       "      <th>test_score</th>\n",
       "      <th>train_score</th>\n",
       "      <th>fit_time</th>\n",
       "      <th>score_time</th>\n",
       "    </tr>\n",
       "  </thead>\n",
       "  <tbody>\n",
       "    <tr>\n",
       "      <th>xgb</th>\n",
       "      <td>-358.497438</td>\n",
       "      <td>-352.255511</td>\n",
       "      <td>21.978652</td>\n",
       "      <td>0.355188</td>\n",
       "    </tr>\n",
       "    <tr>\n",
       "      <th>rf</th>\n",
       "      <td>-375.330184</td>\n",
       "      <td>-302.605928</td>\n",
       "      <td>71.441053</td>\n",
       "      <td>2.132487</td>\n",
       "    </tr>\n",
       "    <tr>\n",
       "      <th>sgd_regressor</th>\n",
       "      <td>-384.590534</td>\n",
       "      <td>-384.570458</td>\n",
       "      <td>5.667595</td>\n",
       "      <td>0.210059</td>\n",
       "    </tr>\n",
       "  </tbody>\n",
       "</table>\n",
       "</div>"
      ],
      "text/plain": [
       "               test_score  train_score   fit_time  score_time\n",
       "xgb           -358.497438  -352.255511  21.978652    0.355188\n",
       "rf            -375.330184  -302.605928  71.441053    2.132487\n",
       "sgd_regressor -384.590534  -384.570458   5.667595    0.210059"
      ]
     },
     "metadata": {},
     "output_type": "display_data"
    }
   ],
   "source": [
    "test_new_models = EvaluatePipelines(new_model_pipelines, scoring = SCORING_METRIC)\n",
    "test_new_models.run(train_df, target, verbose = True)"
   ]
  },
  {
   "cell_type": "code",
   "execution_count": 45,
   "metadata": {},
   "outputs": [
    {
     "data": {
      "image/png": "[encoded data removed]",
      "text/plain": [
       "<Figure size 432x288 with 1 Axes>"
      ]
     },
     "metadata": {
      "needs_background": "light"
     },
     "output_type": "display_data"
    }
   ],
   "source": [
    "# Plot the results with a reference to the best score before this test (baseline score)\n",
    "test_new_models.plot_results(best_score = 371.22)"
   ]
  },
  {
   "cell_type": "markdown",
   "metadata": {},
   "source": [
    "**Results:**\n",
    "- xgboost: \n",
    "    - Performed the best on the validation set\n",
    "    - Pretty reasonable train time, which means parameter tuning should be quicker than random forest\n",
    "    - Has some variance that should be paid attention to with further parameter tuning\n",
    "- randomforest: \n",
    "    - Fits the training data better and has a bit of a variance/ overfitting issue. But with some regularization it may generalize well\n",
    "    - Has a longer train time, and might take awhile to comprehensively parameter tune.\n",
    "- SGDRegressor:\n",
    "    - About the same error as linear regression. Also has more of a bias problem than variance, so tweaking the regularization parameters will probably not help as much here\n",
    "    - Still doesn't beat the baseline score. Perhaps with some more training iterations, but this model doesn't seem as fruitful to spend time on over the other two"
   ]
  },
  {
   "cell_type": "markdown",
   "metadata": {},
   "source": [
    "# Randomforest\n",
    "\n",
    "**Plan:**  \n",
    "Explore regularization options to reduce variance and hopefully improve cross validation scores."
   ]
  },
  {
   "cell_type": "markdown",
   "metadata": {},
   "source": [
    "### Learning curve"
   ]
  },
  {
   "cell_type": "code",
   "execution_count": 46,
   "metadata": {},
   "outputs": [
    {
     "data": {
      "image/png": "[encoded data removed]",
      "text/plain": [
       "<Figure size 576x360 with 1 Axes>"
      ]
     },
     "metadata": {
      "needs_background": "light"
     },
     "output_type": "display_data"
    }
   ],
   "source": [
    "plot_learning_curve(random_forest, train_df, target, scoring = SCORING_METRIC)"
   ]
  },
  {
   "cell_type": "markdown",
   "metadata": {},
   "source": [
    "### Validation Curves\n",
    "\n",
    "Since the training time is a little longer with this model, I will start looking at validation curves for individual parameter ranges before grid searching multiple parameters at once. So that I may be able to get quicker feedback, and narrow down a grid search to something more reasonable."
   ]
  },
  {
   "cell_type": "markdown",
   "metadata": {},
   "source": [
    "**max_depth**: Reducing the depth of the trees in the forest will make the model less complex and hopefully reduce variance"
   ]
  },
  {
   "cell_type": "code",
   "execution_count": 49,
   "metadata": {},
   "outputs": [
    {
     "data": {
      "image/png": "[encoded data removed]",
      "text/plain": [
       "<Figure size 576x360 with 1 Axes>"
      ]
     },
     "metadata": {
      "needs_background": "light"
     },
     "output_type": "display_data"
    }
   ],
   "source": [
    "plot_validation_curve(random_forest, train_df, target, param_name = 'rf__max_depth', param_range = [5, 10, 15, 20, 25], scoring = SCORING_METRIC)"
   ]
  },
  {
   "cell_type": "markdown",
   "metadata": {},
   "source": [
    "Having a `max_depth` of greater than 15 doesn't look to make any significant difference in the test score; and having a depth greater than 20 doesn't look to make a difference for the training scores"
   ]
  },
  {
   "cell_type": "markdown",
   "metadata": {},
   "source": [
    "**min_samples_leaf:**"
   ]
  },
  {
   "cell_type": "code",
   "execution_count": 50,
   "metadata": {},
   "outputs": [
    {
     "data": {
      "image/png": "[encoded data removed]",
      "text/plain": [
       "<Figure size 576x360 with 1 Axes>"
      ]
     },
     "metadata": {
      "needs_background": "light"
     },
     "output_type": "display_data"
    }
   ],
   "source": [
    "plot_validation_curve(random_forest, train_df, target, param_name = 'rf__min_samples_leaf', param_range = [2, 5, 10, 15, 30, 60, 100], scoring = SCORING_METRIC)"
   ]
  },
  {
   "cell_type": "markdown",
   "metadata": {},
   "source": [
    "**max_features:**"
   ]
  },
  {
   "cell_type": "code",
   "execution_count": 52,
   "metadata": {},
   "outputs": [
    {
     "data": {
      "image/png": "[encoded data removed]",
      "text/plain": [
       "<Figure size 576x360 with 1 Axes>"
      ]
     },
     "metadata": {
      "needs_background": "light"
     },
     "output_type": "display_data"
    }
   ],
   "source": [
    "plot_validation_curve(random_forest, train_df, target, param_name = 'rf__max_features', param_range = [1, 2, 3, 4, 5, 6], scoring = SCORING_METRIC)"
   ]
  },
  {
   "cell_type": "code",
   "execution_count": 57,
   "metadata": {},
   "outputs": [
    {
     "data": {
      "text/plain": [
       "{'fit_time': array([58.2674334 , 56.79916   , 56.21321273, 56.69419694, 56.72207308]),\n",
       " 'score_time': array([1.40599084, 1.43576956, 1.40172768, 1.40927148, 1.43525219]),\n",
       " 'test_score': array([-375.66822813, -378.78360808, -377.62111818, -377.18601794,\n",
       "        -374.87943573]),\n",
       " 'train_score': array([-356.55751135, -356.0535512 , -355.8373449 , -356.0431055 ,\n",
       "        -356.65371992])}"
      ]
     },
     "execution_count": 57,
     "metadata": {},
     "output_type": "execute_result"
    }
   ],
   "source": [
    "improved_randomforest = Pipeline([\n",
    "    ('categorical_encoding', ordinal_no_scaling_pp),\n",
    "    ('rf', RandomForestRegressor(max_depth = 15, n_estimators = 200, n_jobs = -1, min_samples_leaf = 30,\n",
    "                                 max_features=3))\n",
    "])\n",
    "\n",
    "cross_validate(improved_randomforest, train_df, target, scoring = SCORING_METRIC, return_train_score=True, cv = 5)"
   ]
  },
  {
   "cell_type": "code",
   "execution_count": 55,
   "metadata": {},
   "outputs": [
    {
     "data": {
      "text/plain": [
       "-375.18336371"
      ]
     },
     "execution_count": 55,
     "metadata": {},
     "output_type": "execute_result"
    }
   ],
   "source": [
    "# max_depth = 15, n_estimators = 150, n_jobs = -1, min_samples_leaf = 30\n",
    "np.mean([-374.01550855, -377.72702155, -375.60494544, -375.15366326,\n",
    "        -373.41567975])"
   ]
  },
  {
   "cell_type": "code",
   "execution_count": 58,
   "metadata": {},
   "outputs": [
    {
     "data": {
      "text/plain": [
       "-375.207916414"
      ]
     },
     "execution_count": 58,
     "metadata": {},
     "output_type": "execute_result"
    }
   ],
   "source": [
    "# max_depth = 15, n_estimators = 200, n_jobs = -1, min_samples_leaf = 30\n",
    "np.mean([-373.96493233, -377.67612903, -375.68171097, -375.19576729,\n",
    "        -373.52104245])"
   ]
  },
  {
   "cell_type": "markdown",
   "metadata": {},
   "source": [
    "# XGBoost"
   ]
  },
  {
   "cell_type": "code",
   "execution_count": 48,
   "metadata": {},
   "outputs": [
    {
     "data": {
      "text/plain": [
       "{'memory': None,\n",
       " 'steps': [('categorical_encoding',\n",
       "   ColumnTransformer(remainder='passthrough',\n",
       "                     transformers=[('ordinal encoding', OrdinalEncoder(),\n",
       "                                    ['jobType', 'degree', 'industry', 'major'])])),\n",
       "  ('rf',\n",
       "   RandomForestRegressor(max_depth=20, min_samples_leaf=10, n_estimators=150,\n",
       "                         n_jobs=-1))],\n",
       " 'verbose': False,\n",
       " 'categorical_encoding': ColumnTransformer(remainder='passthrough',\n",
       "                   transformers=[('ordinal encoding', OrdinalEncoder(),\n",
       "                                  ['jobType', 'degree', 'industry', 'major'])]),\n",
       " 'rf': RandomForestRegressor(max_depth=20, min_samples_leaf=10, n_estimators=150,\n",
       "                       n_jobs=-1),\n",
       " 'categorical_encoding__n_jobs': None,\n",
       " 'categorical_encoding__remainder': 'passthrough',\n",
       " 'categorical_encoding__sparse_threshold': 0.3,\n",
       " 'categorical_encoding__transformer_weights': None,\n",
       " 'categorical_encoding__transformers': [('ordinal encoding',\n",
       "   OrdinalEncoder(),\n",
       "   ['jobType', 'degree', 'industry', 'major'])],\n",
       " 'categorical_encoding__verbose': False,\n",
       " 'categorical_encoding__ordinal encoding': OrdinalEncoder(),\n",
       " 'categorical_encoding__ordinal encoding__categories': 'auto',\n",
       " 'categorical_encoding__ordinal encoding__dtype': numpy.float64,\n",
       " 'categorical_encoding__ordinal encoding__handle_unknown': 'error',\n",
       " 'categorical_encoding__ordinal encoding__unknown_value': None,\n",
       " 'rf__bootstrap': True,\n",
       " 'rf__ccp_alpha': 0.0,\n",
       " 'rf__criterion': 'mse',\n",
       " 'rf__max_depth': 20,\n",
       " 'rf__max_features': 'auto',\n",
       " 'rf__max_leaf_nodes': None,\n",
       " 'rf__max_samples': None,\n",
       " 'rf__min_impurity_decrease': 0.0,\n",
       " 'rf__min_impurity_split': None,\n",
       " 'rf__min_samples_leaf': 10,\n",
       " 'rf__min_samples_split': 2,\n",
       " 'rf__min_weight_fraction_leaf': 0.0,\n",
       " 'rf__n_estimators': 150,\n",
       " 'rf__n_jobs': -1,\n",
       " 'rf__oob_score': False,\n",
       " 'rf__random_state': None,\n",
       " 'rf__verbose': 0,\n",
       " 'rf__warm_start': False}"
      ]
     },
     "execution_count": 48,
     "metadata": {},
     "output_type": "execute_result"
    }
   ],
   "source": [
    "random_forest.get_params()"
   ]
  }
 ],
 "metadata": {
  "kernelspec": {
   "display_name": ".venv",
   "language": "python",
   "name": ".venv"
  },
  "language_info": {
   "codemirror_mode": {
    "name": "ipython",
    "version": 3
   },
   "file_extension": ".py",
   "mimetype": "text/x-python",
   "name": "python",
   "nbconvert_exporter": "python",
   "pygments_lexer": "ipython3",
   "version": "3.7.6"
  }
 },
 "nbformat": 4,
 "nbformat_minor": 4
}
