{
 "cells": [
  {
   "cell_type": "markdown",
   "metadata": {
    "tags": []
   },
   "source": [
    "# Model improvement\n",
    "\n",
    "The best model, using xgboost and no feature engineering, has been deployed with our web app. \n",
    "\n",
    "But thinking about the best baseline model performance and the calculations it used, has given some inspiration to engineer new features.\n",
    "\n",
    "#### Plan\n",
    "\n",
    "Implement a function transformer to fit in our sklearn pipeline.\n",
    "    - Perform the same calculations used during baseline model fitting, and add those new features to the dataset"
   ]
  },
  {
   "cell_type": "code",
   "execution_count": 1,
   "metadata": {},
   "outputs": [],
   "source": [
    "import pickle\n",
    "import pandas as pd\n",
    "import numpy as np\n",
    "from sklearn.model_selection import cross_validate\n",
    "from sklearn.compose import ColumnTransformer\n",
    "from sklearn.preprocessing import OrdinalEncoder\n",
    "from sklearn.pipeline import Pipeline, FeatureUnion\n",
    "from src.eda_utils import salary_per_category_table\n",
    "\n",
    "from xgboost.sklearn import XGBRegressor\n",
    "from sklearn.ensemble import GradientBoostingRegressor, RandomForestRegressor\n",
    "\n",
    "from sklearn.base import BaseEstimator, TransformerMixin"
   ]
  },
  {
   "cell_type": "markdown",
   "metadata": {},
   "source": [
    "# Load data and best model"
   ]
  },
  {
   "cell_type": "code",
   "execution_count": 2,
   "metadata": {},
   "outputs": [],
   "source": [
    "train_df = pd.read_csv('../data/processed/training_data.csv', index_col = 0)\n",
    "target = train_df.salary\n",
    "train_df.drop(columns = 'salary', inplace=True)\n",
    "\n",
    "with open('../models/salary_prediction_xgboost_v1.pkl', 'rb') as file:\n",
    "    best_model = pickle.load(file)"
   ]
  },
  {
   "cell_type": "code",
   "execution_count": 6,
   "metadata": {},
   "outputs": [
    {
     "data": {
      "text/plain": [
       "{'fit_time': array([10.63006973, 10.67477298, 10.49173927, 10.50003529, 12.06633186]),\n",
       " 'score_time': array([0.40099883, 0.4429996 , 0.40099931, 0.45800042, 0.454     ]),\n",
       " 'test_score': array([-354.24281216, -356.5772109 , -355.26574855, -356.41306827,\n",
       "        -353.69040894]),\n",
       " 'train_score': array([-352.63938146, -351.9898229 , -352.15599984, -352.28042562,\n",
       "        -352.54611842])}"
      ]
     },
     "execution_count": 6,
     "metadata": {},
     "output_type": "execute_result"
    }
   ],
   "source": [
    "cross_validate(best_model, train_df, target, return_train_score=True, scoring='neg_mean_squared_error')"
   ]
  },
  {
   "cell_type": "code",
   "execution_count": 174,
   "metadata": {},
   "outputs": [
    {
     "data": {
      "text/plain": [
       "ColumnTransformer(remainder='passthrough',\n",
       "                  transformers=[('ordinal encoding', OrdinalEncoder(),\n",
       "                                 ['jobType', 'degree', 'industry', 'major'])])"
      ]
     },
     "execution_count": 174,
     "metadata": {},
     "output_type": "execute_result"
    }
   ],
   "source": [
    "ordinal_no_scaling_pp = ColumnTransformer([('ordinal encoding', OrdinalEncoder(), ['jobType', 'degree', 'industry', 'major'])], remainder = 'passthrough')\n",
    "ordinal_no_scaling_pp"
   ]
  },
  {
   "cell_type": "code",
   "execution_count": 258,
   "metadata": {},
   "outputs": [],
   "source": [
    "class GroupedAverages(BaseEstimator, TransformerMixin):\n",
    "    def __init__(self, category_vars, numeric_vars=[], add_diff = True, extra_stats = True, target_col = 'salary'):\n",
    "        self.category_vars = category_vars\n",
    "        self.numeric_vars = numeric_vars\n",
    "        self.add_diff = add_diff\n",
    "        self.extra_stats = extra_stats\n",
    "        self.target_col = target_col\n",
    "        \n",
    "        if self.numeric_vars:\n",
    "            self.fitted_numeric_values = {column:None for column in self.numeric_vars}\n",
    "        \n",
    "    def fit(self, X, y):\n",
    "        data = X.join(y)\n",
    "        \n",
    "        if self.extra_stats:\n",
    "            self.averages = (\n",
    "                data\n",
    "                .groupby(self.category_vars)[self.target_col]\n",
    "                .agg(['mean', 'median', 'min', 'max', 'std'])\n",
    "                .rename(lambda x: f'group_{x}', axis = 1)\n",
    "            )\n",
    "            \n",
    "        else:\n",
    "            self.averages = salary_per_category_table(self.category_vars, data).set_index(self.category_vars)\n",
    "            self.averages.rename(columns={self.target_col: 'grouped_avg'}, inplace=True)\n",
    "        \n",
    "        if self.numeric_vars:\n",
    "            overall_average = y.mean()\n",
    "            for col in self.fitted_numeric_values.keys():\n",
    "                diff_from_average = data.groupby(col)[self.target_col].mean() - overall_average\n",
    "                self.fitted_numeric_values[col] = diff_from_average.rename(f'{col}_diff')\n",
    "        \n",
    "        return self\n",
    "\n",
    "    def transform(self, X):\n",
    "        data = X.copy()\n",
    "        \n",
    "        data = data.join(self.averages, on = self.category_vars)\n",
    "        \n",
    "        if self.numeric_vars:\n",
    "            for col in self.fitted_numeric_values.keys():\n",
    "                data = data.join(self.fitted_numeric_values[col], on = col)\n",
    "                \n",
    "        if self.add_diff:\n",
    "            diff_cols = [col for col in data.columns if col.endswith('_diff')]\n",
    "            data['combined_diff'] = data[diff_cols].sum(axis = 1)\n",
    "        \n",
    "        # debug drop all diff cols to see if i can get under 320\n",
    "        drop_these = [col for col in data.columns if col.endswith('_diff')]\n",
    "        data.drop(columns=drop_these, inplace=True)\n",
    "        \n",
    "        return data"
   ]
  },
  {
   "cell_type": "code",
   "execution_count": 259,
   "metadata": {},
   "outputs": [],
   "source": [
    "testClass = GroupedAverages(['jobType', 'industry', 'degree', 'major'], numeric_vars=['yearsExperience', 'milesFromMetropolis'])"
   ]
  },
  {
   "cell_type": "code",
   "execution_count": 260,
   "metadata": {},
   "outputs": [
    {
     "data": {
      "text/html": [
       "<div>\n",
       "<style scoped>\n",
       "    .dataframe tbody tr th:only-of-type {\n",
       "        vertical-align: middle;\n",
       "    }\n",
       "\n",
       "    .dataframe tbody tr th {\n",
       "        vertical-align: top;\n",
       "    }\n",
       "\n",
       "    .dataframe thead th {\n",
       "        text-align: right;\n",
       "    }\n",
       "</style>\n",
       "<table border=\"1\" class=\"dataframe\">\n",
       "  <thead>\n",
       "    <tr style=\"text-align: right;\">\n",
       "      <th></th>\n",
       "      <th>jobType</th>\n",
       "      <th>degree</th>\n",
       "      <th>major</th>\n",
       "      <th>industry</th>\n",
       "      <th>yearsExperience</th>\n",
       "      <th>milesFromMetropolis</th>\n",
       "      <th>group_mean</th>\n",
       "      <th>group_median</th>\n",
       "      <th>group_min</th>\n",
       "      <th>group_max</th>\n",
       "      <th>group_std</th>\n",
       "    </tr>\n",
       "  </thead>\n",
       "  <tbody>\n",
       "    <tr>\n",
       "      <th>58414</th>\n",
       "      <td>JUNIOR</td>\n",
       "      <td>HIGH_SCHOOL</td>\n",
       "      <td>NONE</td>\n",
       "      <td>WEB</td>\n",
       "      <td>14</td>\n",
       "      <td>84</td>\n",
       "      <td>90.407844</td>\n",
       "      <td>87.0</td>\n",
       "      <td>39</td>\n",
       "      <td>182</td>\n",
       "      <td>23.428463</td>\n",
       "    </tr>\n",
       "    <tr>\n",
       "      <th>902618</th>\n",
       "      <td>SENIOR</td>\n",
       "      <td>MASTERS</td>\n",
       "      <td>COMPSCI</td>\n",
       "      <td>SERVICE</td>\n",
       "      <td>24</td>\n",
       "      <td>86</td>\n",
       "      <td>107.146907</td>\n",
       "      <td>105.0</td>\n",
       "      <td>55</td>\n",
       "      <td>175</td>\n",
       "      <td>25.075113</td>\n",
       "    </tr>\n",
       "    <tr>\n",
       "      <th>778824</th>\n",
       "      <td>JANITOR</td>\n",
       "      <td>NONE</td>\n",
       "      <td>NONE</td>\n",
       "      <td>WEB</td>\n",
       "      <td>4</td>\n",
       "      <td>86</td>\n",
       "      <td>75.117009</td>\n",
       "      <td>71.0</td>\n",
       "      <td>32</td>\n",
       "      <td>169</td>\n",
       "      <td>22.486631</td>\n",
       "    </tr>\n",
       "    <tr>\n",
       "      <th>187593</th>\n",
       "      <td>SENIOR</td>\n",
       "      <td>HIGH_SCHOOL</td>\n",
       "      <td>NONE</td>\n",
       "      <td>WEB</td>\n",
       "      <td>0</td>\n",
       "      <td>42</td>\n",
       "      <td>100.592676</td>\n",
       "      <td>97.0</td>\n",
       "      <td>50</td>\n",
       "      <td>198</td>\n",
       "      <td>24.382293</td>\n",
       "    </tr>\n",
       "    <tr>\n",
       "      <th>574438</th>\n",
       "      <td>VICE_PRESIDENT</td>\n",
       "      <td>MASTERS</td>\n",
       "      <td>BUSINESS</td>\n",
       "      <td>AUTO</td>\n",
       "      <td>16</td>\n",
       "      <td>97</td>\n",
       "      <td>127.309045</td>\n",
       "      <td>127.0</td>\n",
       "      <td>69</td>\n",
       "      <td>220</td>\n",
       "      <td>24.930583</td>\n",
       "    </tr>\n",
       "    <tr>\n",
       "      <th>...</th>\n",
       "      <td>...</td>\n",
       "      <td>...</td>\n",
       "      <td>...</td>\n",
       "      <td>...</td>\n",
       "      <td>...</td>\n",
       "      <td>...</td>\n",
       "      <td>...</td>\n",
       "      <td>...</td>\n",
       "      <td>...</td>\n",
       "      <td>...</td>\n",
       "      <td>...</td>\n",
       "    </tr>\n",
       "    <tr>\n",
       "      <th>259179</th>\n",
       "      <td>VICE_PRESIDENT</td>\n",
       "      <td>DOCTORAL</td>\n",
       "      <td>BUSINESS</td>\n",
       "      <td>OIL</td>\n",
       "      <td>9</td>\n",
       "      <td>93</td>\n",
       "      <td>160.070218</td>\n",
       "      <td>157.0</td>\n",
       "      <td>94</td>\n",
       "      <td>260</td>\n",
       "      <td>31.318012</td>\n",
       "    </tr>\n",
       "    <tr>\n",
       "      <th>365839</th>\n",
       "      <td>CFO</td>\n",
       "      <td>DOCTORAL</td>\n",
       "      <td>BUSINESS</td>\n",
       "      <td>HEALTH</td>\n",
       "      <td>15</td>\n",
       "      <td>88</td>\n",
       "      <td>146.112219</td>\n",
       "      <td>143.0</td>\n",
       "      <td>81</td>\n",
       "      <td>240</td>\n",
       "      <td>28.686144</td>\n",
       "    </tr>\n",
       "    <tr>\n",
       "      <th>131933</th>\n",
       "      <td>SENIOR</td>\n",
       "      <td>MASTERS</td>\n",
       "      <td>COMPSCI</td>\n",
       "      <td>HEALTH</td>\n",
       "      <td>18</td>\n",
       "      <td>42</td>\n",
       "      <td>113.183938</td>\n",
       "      <td>109.0</td>\n",
       "      <td>64</td>\n",
       "      <td>207</td>\n",
       "      <td>25.018951</td>\n",
       "    </tr>\n",
       "    <tr>\n",
       "      <th>671158</th>\n",
       "      <td>SENIOR</td>\n",
       "      <td>DOCTORAL</td>\n",
       "      <td>PHYSICS</td>\n",
       "      <td>SERVICE</td>\n",
       "      <td>5</td>\n",
       "      <td>23</td>\n",
       "      <td>105.412621</td>\n",
       "      <td>102.0</td>\n",
       "      <td>60</td>\n",
       "      <td>199</td>\n",
       "      <td>24.822575</td>\n",
       "    </tr>\n",
       "    <tr>\n",
       "      <th>121959</th>\n",
       "      <td>JANITOR</td>\n",
       "      <td>NONE</td>\n",
       "      <td>NONE</td>\n",
       "      <td>FINANCE</td>\n",
       "      <td>14</td>\n",
       "      <td>79</td>\n",
       "      <td>85.009966</td>\n",
       "      <td>82.0</td>\n",
       "      <td>38</td>\n",
       "      <td>175</td>\n",
       "      <td>23.417360</td>\n",
       "    </tr>\n",
       "  </tbody>\n",
       "</table>\n",
       "<p>999995 rows × 11 columns</p>\n",
       "</div>"
      ],
      "text/plain": [
       "               jobType       degree     major industry  yearsExperience  \\\n",
       "58414           JUNIOR  HIGH_SCHOOL      NONE      WEB               14   \n",
       "902618          SENIOR      MASTERS   COMPSCI  SERVICE               24   \n",
       "778824         JANITOR         NONE      NONE      WEB                4   \n",
       "187593          SENIOR  HIGH_SCHOOL      NONE      WEB                0   \n",
       "574438  VICE_PRESIDENT      MASTERS  BUSINESS     AUTO               16   \n",
       "...                ...          ...       ...      ...              ...   \n",
       "259179  VICE_PRESIDENT     DOCTORAL  BUSINESS      OIL                9   \n",
       "365839             CFO     DOCTORAL  BUSINESS   HEALTH               15   \n",
       "131933          SENIOR      MASTERS   COMPSCI   HEALTH               18   \n",
       "671158          SENIOR     DOCTORAL   PHYSICS  SERVICE                5   \n",
       "121959         JANITOR         NONE      NONE  FINANCE               14   \n",
       "\n",
       "        milesFromMetropolis  group_mean  group_median  group_min  group_max  \\\n",
       "58414                    84   90.407844          87.0         39        182   \n",
       "902618                   86  107.146907         105.0         55        175   \n",
       "778824                   86   75.117009          71.0         32        169   \n",
       "187593                   42  100.592676          97.0         50        198   \n",
       "574438                   97  127.309045         127.0         69        220   \n",
       "...                     ...         ...           ...        ...        ...   \n",
       "259179                   93  160.070218         157.0         94        260   \n",
       "365839                   88  146.112219         143.0         81        240   \n",
       "131933                   42  113.183938         109.0         64        207   \n",
       "671158                   23  105.412621         102.0         60        199   \n",
       "121959                   79   85.009966          82.0         38        175   \n",
       "\n",
       "        group_std  \n",
       "58414   23.428463  \n",
       "902618  25.075113  \n",
       "778824  22.486631  \n",
       "187593  24.382293  \n",
       "574438  24.930583  \n",
       "...           ...  \n",
       "259179  31.318012  \n",
       "365839  28.686144  \n",
       "131933  25.018951  \n",
       "671158  24.822575  \n",
       "121959  23.417360  \n",
       "\n",
       "[999995 rows x 11 columns]"
      ]
     },
     "execution_count": 260,
     "metadata": {},
     "output_type": "execute_result"
    }
   ],
   "source": [
    "testClass.fit_transform(train_df, target)"
   ]
  },
  {
   "cell_type": "code",
   "execution_count": 265,
   "metadata": {},
   "outputs": [],
   "source": [
    "test_pipeline = Pipeline(\n",
    "    [\n",
    "        ('feature_engineer', GroupedAverages(['jobType', 'industry', 'degree', 'major'], numeric_vars=['yearsExperience', 'milesFromMetropolis'])),\n",
    "        ('categorical_encoding', ordinal_no_scaling_pp),\n",
    "        ('gbr', GradientBoostingRegressor(n_estimators=40, max_depth=7))\n",
    "    ]\n",
    ")"
   ]
  },
  {
   "cell_type": "code",
   "execution_count": 256,
   "metadata": {},
   "outputs": [
    {
     "data": {
      "text/plain": [
       "Pipeline(steps=[('feature_engineer',\n",
       "                 GroupedAverages(category_vars=['jobType', 'industry', 'degree',\n",
       "                                                'major'],\n",
       "                                 numeric_vars=['yearsExperience',\n",
       "                                               'milesFromMetropolis'])),\n",
       "                ('categorical_encoding',\n",
       "                 ColumnTransformer(remainder='passthrough',\n",
       "                                   transformers=[('ordinal encoding',\n",
       "                                                  OrdinalEncoder(),\n",
       "                                                  ['jobType', 'degree',\n",
       "                                                   'industry', 'major'])])),\n",
       "                ('xgb',\n",
       "                 XGBRegressor(base_sc...\n",
       "                              importance_type='gain',\n",
       "                              interaction_constraints=None, learning_rate=0.1,\n",
       "                              max_delta_step=None, max_depth=6,\n",
       "                              min_child_weight=200, missing=nan,\n",
       "                              monotone_constraints=None, n_estimators=275,\n",
       "                              n_jobs=None, num_parallel_tree=None,\n",
       "                              random_state=None, reg_alpha=None,\n",
       "                              reg_lambda=None, scale_pos_weight=None,\n",
       "                              subsample=None, tree_method='hist',\n",
       "                              validate_parameters=None, verbosity=None))])"
      ]
     },
     "execution_count": 256,
     "metadata": {},
     "output_type": "execute_result"
    }
   ],
   "source": [
    "test_pipeline.set_params(**{'xgb__gamma': 0.0001, 'xgb__learning_rate': 0.1, 'xgb__max_depth': 6, 'xgb__min_child_weight': 200, 'xgb__n_estimators': 275})"
   ]
  },
  {
   "cell_type": "code",
   "execution_count": 266,
   "metadata": {},
   "outputs": [
    {
     "data": {
      "text/plain": [
       "{'fit_time': array([114.14201069, 117.21793866, 114.68600011, 116.53899026,\n",
       "        114.57807064]),\n",
       " 'score_time': array([0.65200233, 0.65799832, 0.65300155, 0.65400362, 0.66200542]),\n",
       " 'test_score': array([-355.54642579, -358.20509329, -356.89621123, -357.5305354 ,\n",
       "        -355.57838076]),\n",
       " 'train_score': array([-351.96536259, -351.3042918 , -351.54127866, -351.38599988,\n",
       "        -351.93647829])}"
      ]
     },
     "execution_count": 266,
     "metadata": {},
     "output_type": "execute_result"
    }
   ],
   "source": [
    "cross_validate(test_pipeline, train_df, target, scoring='neg_mean_squared_error', return_train_score=True)"
   ]
  },
  {
   "cell_type": "code",
   "execution_count": 2,
   "metadata": {},
   "outputs": [
    {
     "name": "stdout",
     "output_type": "stream",
     "text": [
      "Mean test score = -356.751329294\n"
     ]
    }
   ],
   "source": [
    "test_score = np.mean([-355.54642579, -358.20509329, -356.89621123, -357.5305354, -355.57838076])\n",
    "print(f'Mean test score = {test_score}')"
   ]
  }
 ],
 "metadata": {
  "kernelspec": {
   "display_name": ".venv",
   "language": "python",
   "name": ".venv"
  },
  "language_info": {
   "codemirror_mode": {
    "name": "ipython",
    "version": 3
   },
   "file_extension": ".py",
   "mimetype": "text/x-python",
   "name": "python",
   "nbconvert_exporter": "python",
   "pygments_lexer": "ipython3",
   "version": "3.7.6"
  }
 },
 "nbformat": 4,
 "nbformat_minor": 4
}
