{
 "cells": [
  {
   "cell_type": "code",
   "execution_count": 65,
   "metadata": {},
   "outputs": [
    {
     "name": "stdout",
     "output_type": "stream",
     "text": [
      "The autoreload extension is already loaded. To reload it, use:\n",
      "  %reload_ext autoreload\n"
     ]
    }
   ],
   "source": [
    "import pandas as pd\n",
    "import numpy as np\n",
    "import matplotlib.pyplot as plt\n",
    "import seaborn as sns\n",
    "import pickle\n",
    "\n",
    "# Custom utility methods\n",
    "from src.EvaluateModels import EvaluatePreprocessors, EvaluateEstimators, EvaluatePipelines\n",
    "from src.model_utils import make_categorical_encoding, plot_learning_curve, plot_validation_curve\n",
    "\n",
    "# Models\n",
    "from sklearn.linear_model import LinearRegression, Ridge, SGDRegressor\n",
    "from sklearn.ensemble import RandomForestRegressor\n",
    "from xgboost.sklearn import XGBRegressor\n",
    "\n",
    "# Pipelines and preprocessing\n",
    "from sklearn.pipeline import Pipeline\n",
    "from sklearn.compose import ColumnTransformer\n",
    "from sklearn.preprocessing import OrdinalEncoder, OneHotEncoder, StandardScaler\n",
    "from sklearn.feature_selection import SelectKBest\n",
    "\n",
    "# Model selection and metrics\n",
    "from sklearn.model_selection import cross_validate, cross_val_predict, GridSearchCV\n",
    "from sklearn.metrics import mean_squared_error\n",
    "\n",
    "from sklearn import set_config\n",
    "set_config(display = 'diagram')\n",
    "\n",
    "\n",
    "# Dev - load extension to autoreload when imported code from src changes\n",
    "%load_ext autoreload\n",
    "%autoreload"
   ]
  },
  {
   "cell_type": "markdown",
   "metadata": {},
   "source": [
    "# Import data"
   ]
  },
  {
   "cell_type": "code",
   "execution_count": 2,
   "metadata": {},
   "outputs": [],
   "source": [
    "train_df = pd.read_csv('../data/processed/training_data.csv', index_col = 0)\n",
    "target = train_df.salary\n",
    "train_df.drop(columns = 'salary', inplace=True)"
   ]
  },
  {
   "cell_type": "code",
   "execution_count": 3,
   "metadata": {},
   "outputs": [
    {
     "data": {
      "text/html": [
       "<div>\n",
       "<style scoped>\n",
       "    .dataframe tbody tr th:only-of-type {\n",
       "        vertical-align: middle;\n",
       "    }\n",
       "\n",
       "    .dataframe tbody tr th {\n",
       "        vertical-align: top;\n",
       "    }\n",
       "\n",
       "    .dataframe thead th {\n",
       "        text-align: right;\n",
       "    }\n",
       "</style>\n",
       "<table border=\"1\" class=\"dataframe\">\n",
       "  <thead>\n",
       "    <tr style=\"text-align: right;\">\n",
       "      <th></th>\n",
       "      <th>jobType</th>\n",
       "      <th>degree</th>\n",
       "      <th>major</th>\n",
       "      <th>industry</th>\n",
       "      <th>yearsExperience</th>\n",
       "      <th>milesFromMetropolis</th>\n",
       "    </tr>\n",
       "  </thead>\n",
       "  <tbody>\n",
       "    <tr>\n",
       "      <th>58414</th>\n",
       "      <td>JUNIOR</td>\n",
       "      <td>HIGH_SCHOOL</td>\n",
       "      <td>NONE</td>\n",
       "      <td>WEB</td>\n",
       "      <td>14</td>\n",
       "      <td>84</td>\n",
       "    </tr>\n",
       "    <tr>\n",
       "      <th>902618</th>\n",
       "      <td>SENIOR</td>\n",
       "      <td>MASTERS</td>\n",
       "      <td>COMPSCI</td>\n",
       "      <td>SERVICE</td>\n",
       "      <td>24</td>\n",
       "      <td>86</td>\n",
       "    </tr>\n",
       "    <tr>\n",
       "      <th>778824</th>\n",
       "      <td>JANITOR</td>\n",
       "      <td>NONE</td>\n",
       "      <td>NONE</td>\n",
       "      <td>WEB</td>\n",
       "      <td>4</td>\n",
       "      <td>86</td>\n",
       "    </tr>\n",
       "    <tr>\n",
       "      <th>187593</th>\n",
       "      <td>SENIOR</td>\n",
       "      <td>HIGH_SCHOOL</td>\n",
       "      <td>NONE</td>\n",
       "      <td>WEB</td>\n",
       "      <td>0</td>\n",
       "      <td>42</td>\n",
       "    </tr>\n",
       "    <tr>\n",
       "      <th>574438</th>\n",
       "      <td>VICE_PRESIDENT</td>\n",
       "      <td>MASTERS</td>\n",
       "      <td>BUSINESS</td>\n",
       "      <td>AUTO</td>\n",
       "      <td>16</td>\n",
       "      <td>97</td>\n",
       "    </tr>\n",
       "    <tr>\n",
       "      <th>...</th>\n",
       "      <td>...</td>\n",
       "      <td>...</td>\n",
       "      <td>...</td>\n",
       "      <td>...</td>\n",
       "      <td>...</td>\n",
       "      <td>...</td>\n",
       "    </tr>\n",
       "    <tr>\n",
       "      <th>259179</th>\n",
       "      <td>VICE_PRESIDENT</td>\n",
       "      <td>DOCTORAL</td>\n",
       "      <td>BUSINESS</td>\n",
       "      <td>OIL</td>\n",
       "      <td>9</td>\n",
       "      <td>93</td>\n",
       "    </tr>\n",
       "    <tr>\n",
       "      <th>365839</th>\n",
       "      <td>CFO</td>\n",
       "      <td>DOCTORAL</td>\n",
       "      <td>BUSINESS</td>\n",
       "      <td>HEALTH</td>\n",
       "      <td>15</td>\n",
       "      <td>88</td>\n",
       "    </tr>\n",
       "    <tr>\n",
       "      <th>131933</th>\n",
       "      <td>SENIOR</td>\n",
       "      <td>MASTERS</td>\n",
       "      <td>COMPSCI</td>\n",
       "      <td>HEALTH</td>\n",
       "      <td>18</td>\n",
       "      <td>42</td>\n",
       "    </tr>\n",
       "    <tr>\n",
       "      <th>671158</th>\n",
       "      <td>SENIOR</td>\n",
       "      <td>DOCTORAL</td>\n",
       "      <td>PHYSICS</td>\n",
       "      <td>SERVICE</td>\n",
       "      <td>5</td>\n",
       "      <td>23</td>\n",
       "    </tr>\n",
       "    <tr>\n",
       "      <th>121959</th>\n",
       "      <td>JANITOR</td>\n",
       "      <td>NONE</td>\n",
       "      <td>NONE</td>\n",
       "      <td>FINANCE</td>\n",
       "      <td>14</td>\n",
       "      <td>79</td>\n",
       "    </tr>\n",
       "  </tbody>\n",
       "</table>\n",
       "<p>999995 rows × 6 columns</p>\n",
       "</div>"
      ],
      "text/plain": [
       "               jobType       degree     major industry  yearsExperience  \\\n",
       "58414           JUNIOR  HIGH_SCHOOL      NONE      WEB               14   \n",
       "902618          SENIOR      MASTERS   COMPSCI  SERVICE               24   \n",
       "778824         JANITOR         NONE      NONE      WEB                4   \n",
       "187593          SENIOR  HIGH_SCHOOL      NONE      WEB                0   \n",
       "574438  VICE_PRESIDENT      MASTERS  BUSINESS     AUTO               16   \n",
       "...                ...          ...       ...      ...              ...   \n",
       "259179  VICE_PRESIDENT     DOCTORAL  BUSINESS      OIL                9   \n",
       "365839             CFO     DOCTORAL  BUSINESS   HEALTH               15   \n",
       "131933          SENIOR      MASTERS   COMPSCI   HEALTH               18   \n",
       "671158          SENIOR     DOCTORAL   PHYSICS  SERVICE                5   \n",
       "121959         JANITOR         NONE      NONE  FINANCE               14   \n",
       "\n",
       "        milesFromMetropolis  \n",
       "58414                    84  \n",
       "902618                   86  \n",
       "778824                   86  \n",
       "187593                   42  \n",
       "574438                   97  \n",
       "...                     ...  \n",
       "259179                   93  \n",
       "365839                   88  \n",
       "131933                   42  \n",
       "671158                   23  \n",
       "121959                   79  \n",
       "\n",
       "[999995 rows x 6 columns]"
      ]
     },
     "execution_count": 3,
     "metadata": {},
     "output_type": "execute_result"
    }
   ],
   "source": [
    "train_df"
   ]
  },
  {
   "cell_type": "markdown",
   "metadata": {},
   "source": [
    "## Variables"
   ]
  },
  {
   "cell_type": "code",
   "execution_count": 4,
   "metadata": {},
   "outputs": [],
   "source": [
    "# Specify ordinal levels for categorical variables\n",
    "jobtype_ord_levels = ['JANITOR', 'JUNIOR',  'SENIOR', 'MANAGER', 'VICE_PRESIDENT', 'CFO', 'CTO', 'CEO']\n",
    "degree_ord_levels = ['NONE', 'HIGH_SCHOOL', 'BACHELORS', 'MASTERS', 'DOCTORAL']\n",
    "# industry levels ordered from lowest average salary to highest\n",
    "industry_ord_levels = ['EDUCATION', 'SERVICE', 'AUTO', 'HEALTH', 'WEB', 'FINANCE', 'OIL']\n",
    "\n",
    "# Scoring metric for modeling\n",
    "SCORING_METRIC = 'neg_mean_squared_error'"
   ]
  },
  {
   "cell_type": "markdown",
   "metadata": {},
   "source": [
    "# Basic Model - Linear Regression\n",
    "\n",
    "I want to start modeling with something a little more basic and see how a linear regression measures up to the best baseline score that was found without ML.\n",
    "\n",
    "**Best baseline score (MSE):** `371.22`\n",
    "\n",
    "Plan:\n",
    "1. Encode categorical variables\n",
    "    - Ordinal encoding for `jobType` and `degree` variables\n",
    "    - One hot encoding for `industry` and `major` variables\n",
    "2. Scale numeric variables\n",
    "    - use StandardScaler for `yearsExperience` and `milesFromMetropolis`\n",
    "    \n",
    "Starting out treating `jobType` and `degree` as ordinal. Depending on how the scores measure up, I can try other encodings and preprocessing. "
   ]
  },
  {
   "cell_type": "code",
   "execution_count": 5,
   "metadata": {},
   "outputs": [
    {
     "data": {
      "text/html": [
       "<style>#sk-ec02c208-189e-4cc4-8fd2-09cfa5232a37 {color: black;background-color: white;}#sk-ec02c208-189e-4cc4-8fd2-09cfa5232a37 pre{padding: 0;}#sk-ec02c208-189e-4cc4-8fd2-09cfa5232a37 div.sk-toggleable {background-color: white;}#sk-ec02c208-189e-4cc4-8fd2-09cfa5232a37 label.sk-toggleable__label {cursor: pointer;display: block;width: 100%;margin-bottom: 0;padding: 0.2em 0.3em;box-sizing: border-box;text-align: center;}#sk-ec02c208-189e-4cc4-8fd2-09cfa5232a37 div.sk-toggleable__content {max-height: 0;max-width: 0;overflow: hidden;text-align: left;background-color: #f0f8ff;}#sk-ec02c208-189e-4cc4-8fd2-09cfa5232a37 div.sk-toggleable__content pre {margin: 0.2em;color: black;border-radius: 0.25em;background-color: #f0f8ff;}#sk-ec02c208-189e-4cc4-8fd2-09cfa5232a37 input.sk-toggleable__control:checked~div.sk-toggleable__content {max-height: 200px;max-width: 100%;overflow: auto;}#sk-ec02c208-189e-4cc4-8fd2-09cfa5232a37 div.sk-estimator input.sk-toggleable__control:checked~label.sk-toggleable__label {background-color: #d4ebff;}#sk-ec02c208-189e-4cc4-8fd2-09cfa5232a37 div.sk-label input.sk-toggleable__control:checked~label.sk-toggleable__label {background-color: #d4ebff;}#sk-ec02c208-189e-4cc4-8fd2-09cfa5232a37 input.sk-hidden--visually {border: 0;clip: rect(1px 1px 1px 1px);clip: rect(1px, 1px, 1px, 1px);height: 1px;margin: -1px;overflow: hidden;padding: 0;position: absolute;width: 1px;}#sk-ec02c208-189e-4cc4-8fd2-09cfa5232a37 div.sk-estimator {font-family: monospace;background-color: #f0f8ff;margin: 0.25em 0.25em;border: 1px dotted black;border-radius: 0.25em;box-sizing: border-box;}#sk-ec02c208-189e-4cc4-8fd2-09cfa5232a37 div.sk-estimator:hover {background-color: #d4ebff;}#sk-ec02c208-189e-4cc4-8fd2-09cfa5232a37 div.sk-parallel-item::after {content: \"\";width: 100%;border-bottom: 1px solid gray;flex-grow: 1;}#sk-ec02c208-189e-4cc4-8fd2-09cfa5232a37 div.sk-label:hover label.sk-toggleable__label {background-color: #d4ebff;}#sk-ec02c208-189e-4cc4-8fd2-09cfa5232a37 div.sk-serial::before {content: \"\";position: absolute;border-left: 1px solid gray;box-sizing: border-box;top: 2em;bottom: 0;left: 50%;}#sk-ec02c208-189e-4cc4-8fd2-09cfa5232a37 div.sk-serial {display: flex;flex-direction: column;align-items: center;background-color: white;}#sk-ec02c208-189e-4cc4-8fd2-09cfa5232a37 div.sk-item {z-index: 1;}#sk-ec02c208-189e-4cc4-8fd2-09cfa5232a37 div.sk-parallel {display: flex;align-items: stretch;justify-content: center;background-color: white;}#sk-ec02c208-189e-4cc4-8fd2-09cfa5232a37 div.sk-parallel-item {display: flex;flex-direction: column;position: relative;background-color: white;}#sk-ec02c208-189e-4cc4-8fd2-09cfa5232a37 div.sk-parallel-item:first-child::after {align-self: flex-end;width: 50%;}#sk-ec02c208-189e-4cc4-8fd2-09cfa5232a37 div.sk-parallel-item:last-child::after {align-self: flex-start;width: 50%;}#sk-ec02c208-189e-4cc4-8fd2-09cfa5232a37 div.sk-parallel-item:only-child::after {width: 0;}#sk-ec02c208-189e-4cc4-8fd2-09cfa5232a37 div.sk-dashed-wrapped {border: 1px dashed gray;margin: 0.2em;box-sizing: border-box;padding-bottom: 0.1em;background-color: white;position: relative;}#sk-ec02c208-189e-4cc4-8fd2-09cfa5232a37 div.sk-label label {font-family: monospace;font-weight: bold;background-color: white;display: inline-block;line-height: 1.2em;}#sk-ec02c208-189e-4cc4-8fd2-09cfa5232a37 div.sk-label-container {position: relative;z-index: 2;text-align: center;}#sk-ec02c208-189e-4cc4-8fd2-09cfa5232a37 div.sk-container {display: inline-block;position: relative;}</style><div id=\"sk-ec02c208-189e-4cc4-8fd2-09cfa5232a37\" class\"sk-top-container\"><div class=\"sk-container\"><div class=\"sk-item sk-dashed-wrapped\"><div class=\"sk-label-container\"><div class=\"sk-label sk-toggleable\"><input class=\"sk-toggleable__control sk-hidden--visually\" id=\"b47d196f-6cae-48ac-93ce-6b3c8a01d4f8\" type=\"checkbox\" ><label class=\"sk-toggleable__label\" for=\"b47d196f-6cae-48ac-93ce-6b3c8a01d4f8\">Pipeline</label><div class=\"sk-toggleable__content\"><pre>Pipeline(steps=[('preprocess',\n",
       "                 ColumnTransformer(remainder='passthrough',\n",
       "                                   transformers=[('ordinal_encoding',\n",
       "                                                  OrdinalEncoder(categories=[['JANITOR',\n",
       "                                                                              'JUNIOR',\n",
       "                                                                              'SENIOR',\n",
       "                                                                              'MANAGER',\n",
       "                                                                              'VICE_PRESIDENT',\n",
       "                                                                              'CFO',\n",
       "                                                                              'CTO',\n",
       "                                                                              'CEO'],\n",
       "                                                                             ['NONE',\n",
       "                                                                              'HIGH_SCHOOL',\n",
       "                                                                              'BACHELORS',\n",
       "                                                                              'MASTERS',\n",
       "                                                                              'DOCTORAL']]),\n",
       "                                                  ['jobType', 'degree']),\n",
       "                                                 ('one_hot_encoding',\n",
       "                                                  OneHotEncoder(),\n",
       "                                                  ['major', 'industry']),\n",
       "                                                 ('std_scaler',\n",
       "                                                  StandardScaler(),\n",
       "                                                  ['yearsExperience',\n",
       "                                                   'milesFromMetropolis'])])),\n",
       "                ('linear regression', LinearRegression())])</pre></div></div></div><div class=\"sk-serial\"><div class=\"sk-item sk-dashed-wrapped\"><div class=\"sk-label-container\"><div class=\"sk-label sk-toggleable\"><input class=\"sk-toggleable__control sk-hidden--visually\" id=\"8590989d-70bc-4cec-aa80-c246995fd44c\" type=\"checkbox\" ><label class=\"sk-toggleable__label\" for=\"8590989d-70bc-4cec-aa80-c246995fd44c\">preprocess: ColumnTransformer</label><div class=\"sk-toggleable__content\"><pre>ColumnTransformer(remainder='passthrough',\n",
       "                  transformers=[('ordinal_encoding',\n",
       "                                 OrdinalEncoder(categories=[['JANITOR',\n",
       "                                                             'JUNIOR', 'SENIOR',\n",
       "                                                             'MANAGER',\n",
       "                                                             'VICE_PRESIDENT',\n",
       "                                                             'CFO', 'CTO',\n",
       "                                                             'CEO'],\n",
       "                                                            ['NONE',\n",
       "                                                             'HIGH_SCHOOL',\n",
       "                                                             'BACHELORS',\n",
       "                                                             'MASTERS',\n",
       "                                                             'DOCTORAL']]),\n",
       "                                 ['jobType', 'degree']),\n",
       "                                ('one_hot_encoding', OneHotEncoder(),\n",
       "                                 ['major', 'industry']),\n",
       "                                ('std_scaler', StandardScaler(),\n",
       "                                 ['yearsExperience', 'milesFromMetropolis'])])</pre></div></div></div><div class=\"sk-parallel\"><div class=\"sk-parallel-item\"><div class=\"sk-item\"><div class=\"sk-label-container\"><div class=\"sk-label sk-toggleable\"><input class=\"sk-toggleable__control sk-hidden--visually\" id=\"4368eca5-e13f-48b2-817b-6cc96d86d38f\" type=\"checkbox\" ><label class=\"sk-toggleable__label\" for=\"4368eca5-e13f-48b2-817b-6cc96d86d38f\">ordinal_encoding</label><div class=\"sk-toggleable__content\"><pre>['jobType', 'degree']</pre></div></div></div><div class=\"sk-serial\"><div class=\"sk-item\"><div class=\"sk-estimator sk-toggleable\"><input class=\"sk-toggleable__control sk-hidden--visually\" id=\"ae1224a7-149f-40e5-a418-ff6ccbe9e656\" type=\"checkbox\" ><label class=\"sk-toggleable__label\" for=\"ae1224a7-149f-40e5-a418-ff6ccbe9e656\">OrdinalEncoder</label><div class=\"sk-toggleable__content\"><pre>OrdinalEncoder(categories=[['JANITOR', 'JUNIOR', 'SENIOR', 'MANAGER',\n",
       "                            'VICE_PRESIDENT', 'CFO', 'CTO', 'CEO'],\n",
       "                           ['NONE', 'HIGH_SCHOOL', 'BACHELORS', 'MASTERS',\n",
       "                            'DOCTORAL']])</pre></div></div></div></div></div></div><div class=\"sk-parallel-item\"><div class=\"sk-item\"><div class=\"sk-label-container\"><div class=\"sk-label sk-toggleable\"><input class=\"sk-toggleable__control sk-hidden--visually\" id=\"054057b2-1563-45c7-9321-e8dfa93f7798\" type=\"checkbox\" ><label class=\"sk-toggleable__label\" for=\"054057b2-1563-45c7-9321-e8dfa93f7798\">one_hot_encoding</label><div class=\"sk-toggleable__content\"><pre>['major', 'industry']</pre></div></div></div><div class=\"sk-serial\"><div class=\"sk-item\"><div class=\"sk-estimator sk-toggleable\"><input class=\"sk-toggleable__control sk-hidden--visually\" id=\"8c62f8a5-02c1-479a-945f-59e0a424cbcb\" type=\"checkbox\" ><label class=\"sk-toggleable__label\" for=\"8c62f8a5-02c1-479a-945f-59e0a424cbcb\">OneHotEncoder</label><div class=\"sk-toggleable__content\"><pre>OneHotEncoder()</pre></div></div></div></div></div></div><div class=\"sk-parallel-item\"><div class=\"sk-item\"><div class=\"sk-label-container\"><div class=\"sk-label sk-toggleable\"><input class=\"sk-toggleable__control sk-hidden--visually\" id=\"03e650f2-d698-4d8b-8c42-3ebffe031478\" type=\"checkbox\" ><label class=\"sk-toggleable__label\" for=\"03e650f2-d698-4d8b-8c42-3ebffe031478\">std_scaler</label><div class=\"sk-toggleable__content\"><pre>['yearsExperience', 'milesFromMetropolis']</pre></div></div></div><div class=\"sk-serial\"><div class=\"sk-item\"><div class=\"sk-estimator sk-toggleable\"><input class=\"sk-toggleable__control sk-hidden--visually\" id=\"6f95fff5-9d74-4152-af4b-f80b23ea467d\" type=\"checkbox\" ><label class=\"sk-toggleable__label\" for=\"6f95fff5-9d74-4152-af4b-f80b23ea467d\">StandardScaler</label><div class=\"sk-toggleable__content\"><pre>StandardScaler()</pre></div></div></div></div></div></div><div class=\"sk-parallel-item\"><div class=\"sk-item\"><div class=\"sk-label-container\"><div class=\"sk-label sk-toggleable\"><input class=\"sk-toggleable__control sk-hidden--visually\" id=\"f15eb088-f1a3-4737-acfe-2d693fab0a20\" type=\"checkbox\" ><label class=\"sk-toggleable__label\" for=\"f15eb088-f1a3-4737-acfe-2d693fab0a20\">remainder</label><div class=\"sk-toggleable__content\"><pre></pre></div></div></div><div class=\"sk-serial\"><div class=\"sk-item\"><div class=\"sk-estimator sk-toggleable\"><input class=\"sk-toggleable__control sk-hidden--visually\" id=\"26a2a906-0573-4280-8b2c-e414c0a8c51b\" type=\"checkbox\" ><label class=\"sk-toggleable__label\" for=\"26a2a906-0573-4280-8b2c-e414c0a8c51b\">passthrough</label><div class=\"sk-toggleable__content\"><pre>passthrough</pre></div></div></div></div></div></div></div></div><div class=\"sk-item\"><div class=\"sk-estimator sk-toggleable\"><input class=\"sk-toggleable__control sk-hidden--visually\" id=\"af634936-01c6-4c77-958b-5d09b044d737\" type=\"checkbox\" ><label class=\"sk-toggleable__label\" for=\"af634936-01c6-4c77-958b-5d09b044d737\">LinearRegression</label><div class=\"sk-toggleable__content\"><pre>LinearRegression()</pre></div></div></div></div></div></div></div>"
      ],
      "text/plain": [
       "Pipeline(steps=[('preprocess',\n",
       "                 ColumnTransformer(remainder='passthrough',\n",
       "                                   transformers=[('ordinal_encoding',\n",
       "                                                  OrdinalEncoder(categories=[['JANITOR',\n",
       "                                                                              'JUNIOR',\n",
       "                                                                              'SENIOR',\n",
       "                                                                              'MANAGER',\n",
       "                                                                              'VICE_PRESIDENT',\n",
       "                                                                              'CFO',\n",
       "                                                                              'CTO',\n",
       "                                                                              'CEO'],\n",
       "                                                                             ['NONE',\n",
       "                                                                              'HIGH_SCHOOL',\n",
       "                                                                              'BACHELORS',\n",
       "                                                                              'MASTERS',\n",
       "                                                                              'DOCTORAL']]),\n",
       "                                                  ['jobType', 'degree']),\n",
       "                                                 ('one_hot_encoding',\n",
       "                                                  OneHotEncoder(),\n",
       "                                                  ['major', 'industry']),\n",
       "                                                 ('std_scaler',\n",
       "                                                  StandardScaler(),\n",
       "                                                  ['yearsExperience',\n",
       "                                                   'milesFromMetropolis'])])),\n",
       "                ('linear regression', LinearRegression())])"
      ]
     },
     "execution_count": 5,
     "metadata": {},
     "output_type": "execute_result"
    }
   ],
   "source": [
    "# Preprocessing with ColumnTransformer\n",
    "basic_lr_preprocessing = ColumnTransformer([\n",
    "    ('ordinal_encoding', OrdinalEncoder(categories=[jobtype_ord_levels, degree_ord_levels]), ['jobType', 'degree']),\n",
    "    ('one_hot_encoding', OneHotEncoder(), ['major', 'industry']),\n",
    "    ('std_scaler', StandardScaler(), ['yearsExperience', 'milesFromMetropolis'])\n",
    "], remainder='passthrough')\n",
    "\n",
    "# Model pipeline\n",
    "basic_lr_model = Pipeline([\n",
    "    ('preprocess', basic_lr_preprocessing),\n",
    "    ('linear regression', LinearRegression())\n",
    "])\n",
    "basic_lr_model"
   ]
  },
  {
   "cell_type": "code",
   "execution_count": 6,
   "metadata": {},
   "outputs": [
    {
     "name": "stdout",
     "output_type": "stream",
     "text": [
      "Mean test score: -394.38290117364784\n",
      "\n"
     ]
    },
    {
     "data": {
      "text/plain": [
       "{'fit_time': array([1.54572606, 1.46879983, 1.50775766, 1.51774693, 1.50826216]),\n",
       " 'score_time': array([0.19527698, 0.18928695, 0.20127082, 0.20326424, 0.20975423]),\n",
       " 'test_score': array([-393.30608198, -396.3105107 , -394.56362714, -395.18530224,\n",
       "        -392.54898381]),\n",
       " 'train_score': array([-394.63886445, -393.88634722, -394.32206648, -394.16714741,\n",
       "        -394.82603238])}"
      ]
     },
     "execution_count": 6,
     "metadata": {},
     "output_type": "execute_result"
    }
   ],
   "source": [
    "# Run cross validation\n",
    "basic_lr_scores = cross_validate(basic_lr_model, train_df, target, cv = 5, scoring = SCORING_METRIC, return_train_score = True)\n",
    "\n",
    "print(f\"Mean test score: {np.mean(basic_lr_scores['test_score'])}\", end = '\\n\\n')\n",
    "basic_lr_scores"
   ]
  },
  {
   "cell_type": "markdown",
   "metadata": {},
   "source": [
    "This linear regression's error is quite a bit higher than our best baseline score. I wonder if changing the encoding of the categorical variables will impact the results in a positive way."
   ]
  },
  {
   "cell_type": "markdown",
   "metadata": {},
   "source": [
    "## Test different categorical encodings\n",
    "\n",
    "**Plan:**  \n",
    "Test modeling different variables as ordinal encoding, and also test all one hot encoding\n",
    "\n",
    "Candidates for ordinal encoding:\n",
    "- jobType\n",
    "- degree\n",
    "- industry\n",
    "\n",
    "`jobType` and `degree` I think are the ones that can be argued to have the most natural precedent for an ordering. \n",
    "- The different levels of `jobType` can be interpreted as needing different levels of: experience, qualifications, or responsibility on the job. (i.e. especially between the levels 'junior', 'senior', 'manager').\n",
    "- Similarly with `degree` the natural ordering can be interpreted as the number of years of schooling. In this case it makes sense to order the levels as: `'none' < 'high school' < 'bachelors' < 'masters' < 'doctoral'`\n",
    "\n",
    "As far as `industry` is concerned, it may be valid to argue that there is no real natural ordering between industries; can you really rank health versus finance industries? But the average salary of each of the levels of `industry` seem more spread out and cover a wider range of values than `degree`. So I can use the data to give a guess as to the order - might as well try it out.\n",
    "\n",
    "I don't think it makes sense for `major` to be treated as ordinal here. Because there isn't a clear natural ording to the different majors. Additionally, there is no real data to give a direction at guessing/imposing an order on the levels of `major`. The average salary for the subgroups of `major` are too close together, plus the distributions of the salary for each of the levels of `major` are very much overlapped. And even during EDA we saw that top paying salaries across different industries have different majors, so it is hard to think of an ordering.\n",
    "- I will only treat `major` as a nominal variable and use one hot encoding\n",
    "\n",
    "\n",
    "**Preprocessing pipelines to test:**\n",
    "1. Single ordinal encoding  \n",
    "    a. jobType  \n",
    "    b. industry  \n",
    "    c. degree  \n",
    "2. Double ordinal encoding  \n",
    "    a. jobType & industry  \n",
    "    b. industry & degree  \n",
    "3. All 3 ordinal encoding\n",
    "4. All one hot\n",
    "5. First model (degree & jobType as ordinal)"
   ]
  },
  {
   "cell_type": "code",
   "execution_count": 6,
   "metadata": {},
   "outputs": [],
   "source": [
    "# Keep a dictionary so that I can easily refer back to these column transformers later if necessary\n",
    "# But I will also make a list of tuples to be fed into the evaluator classes \n",
    "categorical_encoding_pipelines = {\n",
    "    # single ordinal encoding\n",
    "    'jobType_ordinal': make_categorical_encoding(category_levels = [jobtype_ord_levels],\n",
    "                                                 ord_cols = ['jobType'],\n",
    "                                                 oh_cols = ['industry', 'degree', 'major']),\n",
    "    'industry_ordinal': make_categorical_encoding(category_levels = [industry_ord_levels],\n",
    "                                                  ord_cols = ['industry'],\n",
    "                                                  oh_cols = ['jobType', 'degree', 'major']),\n",
    "    'degree_ordinal': make_categorical_encoding(category_levels = [degree_ord_levels],\n",
    "                                                ord_cols = ['degree'],\n",
    "                                                oh_cols = ['industry', 'jobType', 'major']),\n",
    "    \n",
    "    # double ordinal encoding\n",
    "    'jobType-industry_ordinal': make_categorical_encoding(category_levels = [jobtype_ord_levels, industry_ord_levels],\n",
    "                                                          ord_cols = ['jobType', 'industry'],\n",
    "                                                          oh_cols = ['degree', 'major']),\n",
    "    'industry-degree_ordinal': make_categorical_encoding(category_levels = [industry_ord_levels, degree_ord_levels],\n",
    "                                                         ord_cols = ['industry', 'degree'],\n",
    "                                                         oh_cols = ['jobType', 'major']),\n",
    "    \n",
    "    # All 3 ordinal \n",
    "    'all_ordinal': make_categorical_encoding(category_levels = [jobtype_ord_levels, industry_ord_levels, degree_ord_levels],\n",
    "                                             ord_cols = ['jobType', 'industry', 'degree'],\n",
    "                                             oh_cols = ['major']),\n",
    "    \n",
    "    # All one hot\n",
    "    'all_one_hot': make_categorical_encoding(category_levels = None, ord_cols = None,\n",
    "                                             oh_cols = ['jobType', 'degree', 'industry', 'major']),\n",
    "    \n",
    "    # First model - basic lr (jobType & degree ordinal) \n",
    "    'basic_lr_(first model)': basic_lr_preprocessing\n",
    "    \n",
    "}\n",
    "\n",
    "# list of test arrays\n",
    "categorical_encoding_list = [(name, transformer) for name, transformer in categorical_encoding_pipelines.items()]"
   ]
  },
  {
   "cell_type": "code",
   "execution_count": 8,
   "metadata": {},
   "outputs": [
    {
     "name": "stdout",
     "output_type": "stream",
     "text": [
      "::::::::::::::::::::::::::::::::::::::::::::::::::::::::::::\n",
      "Best model found:\n",
      "Pipeline(steps=[('all_one_hot',\n",
      "                 ColumnTransformer(remainder='passthrough',\n",
      "                                   transformers=[('one_hot_encoding',\n",
      "                                                  OneHotEncoder(),\n",
      "                                                  ['jobType', 'degree',\n",
      "                                                   'industry', 'major']),\n",
      "                                                 ('std_scaler',\n",
      "                                                  StandardScaler(),\n",
      "                                                  ['yearsExperience',\n",
      "                                                   'milesFromMetropolis'])])),\n",
      "                ('estimator', LinearRegression())])\n",
      "\n",
      "Model score (using 'neg_mean_squared_error')\n",
      "-384.40224675582164\n",
      "\n"
     ]
    },
    {
     "data": {
      "text/html": [
       "<div>\n",
       "<style scoped>\n",
       "    .dataframe tbody tr th:only-of-type {\n",
       "        vertical-align: middle;\n",
       "    }\n",
       "\n",
       "    .dataframe tbody tr th {\n",
       "        vertical-align: top;\n",
       "    }\n",
       "\n",
       "    .dataframe thead th {\n",
       "        text-align: right;\n",
       "    }\n",
       "</style>\n",
       "<table border=\"1\" class=\"dataframe\">\n",
       "  <thead>\n",
       "    <tr style=\"text-align: right;\">\n",
       "      <th></th>\n",
       "      <th>test_score</th>\n",
       "      <th>train_score</th>\n",
       "      <th>fit_time</th>\n",
       "      <th>score_time</th>\n",
       "    </tr>\n",
       "  </thead>\n",
       "  <tbody>\n",
       "    <tr>\n",
       "      <th>all_one_hot</th>\n",
       "      <td>-384.402247</td>\n",
       "      <td>-384.377823</td>\n",
       "      <td>1.412372</td>\n",
       "      <td>0.209958</td>\n",
       "    </tr>\n",
       "    <tr>\n",
       "      <th>degree_ordinal</th>\n",
       "      <td>-384.580781</td>\n",
       "      <td>-384.557766</td>\n",
       "      <td>1.410672</td>\n",
       "      <td>0.221447</td>\n",
       "    </tr>\n",
       "    <tr>\n",
       "      <th>industry_ordinal</th>\n",
       "      <td>-386.794762</td>\n",
       "      <td>-386.774068</td>\n",
       "      <td>1.485694</td>\n",
       "      <td>0.215850</td>\n",
       "    </tr>\n",
       "    <tr>\n",
       "      <th>industry-degree_ordinal</th>\n",
       "      <td>-386.973211</td>\n",
       "      <td>-386.953954</td>\n",
       "      <td>1.442635</td>\n",
       "      <td>0.215551</td>\n",
       "    </tr>\n",
       "    <tr>\n",
       "      <th>jobType_ordinal</th>\n",
       "      <td>-394.090058</td>\n",
       "      <td>-394.073960</td>\n",
       "      <td>1.441339</td>\n",
       "      <td>0.222244</td>\n",
       "    </tr>\n",
       "    <tr>\n",
       "      <th>basic_lr_(first model)</th>\n",
       "      <td>-394.382901</td>\n",
       "      <td>-394.368092</td>\n",
       "      <td>1.517460</td>\n",
       "      <td>0.200868</td>\n",
       "    </tr>\n",
       "    <tr>\n",
       "      <th>jobType-industry_ordinal</th>\n",
       "      <td>-396.491995</td>\n",
       "      <td>-396.478983</td>\n",
       "      <td>1.471216</td>\n",
       "      <td>0.208557</td>\n",
       "    </tr>\n",
       "    <tr>\n",
       "      <th>all_ordinal</th>\n",
       "      <td>-396.784029</td>\n",
       "      <td>-396.772258</td>\n",
       "      <td>1.293513</td>\n",
       "      <td>0.190380</td>\n",
       "    </tr>\n",
       "  </tbody>\n",
       "</table>\n",
       "</div>"
      ],
      "text/plain": [
       "                          test_score  train_score  fit_time  score_time\n",
       "all_one_hot              -384.402247  -384.377823  1.412372    0.209958\n",
       "degree_ordinal           -384.580781  -384.557766  1.410672    0.221447\n",
       "industry_ordinal         -386.794762  -386.774068  1.485694    0.215850\n",
       "industry-degree_ordinal  -386.973211  -386.953954  1.442635    0.215551\n",
       "jobType_ordinal          -394.090058  -394.073960  1.441339    0.222244\n",
       "basic_lr_(first model)   -394.382901  -394.368092  1.517460    0.200868\n",
       "jobType-industry_ordinal -396.491995  -396.478983  1.471216    0.208557\n",
       "all_ordinal              -396.784029  -396.772258  1.293513    0.190380"
      ]
     },
     "metadata": {},
     "output_type": "display_data"
    }
   ],
   "source": [
    "find_best_categorical_encoding = EvaluatePreprocessors(preprocessors = categorical_encoding_list,\n",
    "                                                       estimator = LinearRegression(),\n",
    "                                                       scoring = SCORING_METRIC)\n",
    "\n",
    "find_best_categorical_encoding.run(train_df, target)"
   ]
  },
  {
   "cell_type": "markdown",
   "metadata": {},
   "source": [
    "The categorical encoding that worked the best is using one hot for all the variables, with a score of `384.40`. But this is still not quite as low as the baseline score."
   ]
  },
  {
   "cell_type": "markdown",
   "metadata": {},
   "source": [
    "# Test other models\n",
    "\n",
    "**Plan:**  \n",
    "Explore how other models, with basic parameter settings, measure up to the linear regression model. Before diving into getting better performance out of the linear regression model I will see if there is another type of model which seems to greatly outperform the rest, and could be more fruitful to spend time on.\n",
    "\n",
    "**Models to test:**\n",
    "- SDGRegressor\n",
    "    - The linear regression seems to have more of a bias than variance issue, this may be able to fit the data better\n",
    "- Random forest\n",
    "- XGBoost gradient boosted trees"
   ]
  },
  {
   "cell_type": "markdown",
   "metadata": {},
   "source": [
    "#### New categorical encoding to help for tree based methods\n",
    "After an initial test with random forest, using all one hot encoding seems to have a negative effect on performance in terms of training time and MSE.\n",
    "\n",
    "This encoding uses the default OrdinalEncoder labeling and doesn't scale the `yearsExperience` or `milesFromMetropolis`."
   ]
  },
  {
   "cell_type": "code",
   "execution_count": 7,
   "metadata": {},
   "outputs": [
    {
     "data": {
      "text/html": [
       "<style>#sk-06bd153e-3adf-449e-bd5b-4f6d87866b2d {color: black;background-color: white;}#sk-06bd153e-3adf-449e-bd5b-4f6d87866b2d pre{padding: 0;}#sk-06bd153e-3adf-449e-bd5b-4f6d87866b2d div.sk-toggleable {background-color: white;}#sk-06bd153e-3adf-449e-bd5b-4f6d87866b2d label.sk-toggleable__label {cursor: pointer;display: block;width: 100%;margin-bottom: 0;padding: 0.2em 0.3em;box-sizing: border-box;text-align: center;}#sk-06bd153e-3adf-449e-bd5b-4f6d87866b2d div.sk-toggleable__content {max-height: 0;max-width: 0;overflow: hidden;text-align: left;background-color: #f0f8ff;}#sk-06bd153e-3adf-449e-bd5b-4f6d87866b2d div.sk-toggleable__content pre {margin: 0.2em;color: black;border-radius: 0.25em;background-color: #f0f8ff;}#sk-06bd153e-3adf-449e-bd5b-4f6d87866b2d input.sk-toggleable__control:checked~div.sk-toggleable__content {max-height: 200px;max-width: 100%;overflow: auto;}#sk-06bd153e-3adf-449e-bd5b-4f6d87866b2d div.sk-estimator input.sk-toggleable__control:checked~label.sk-toggleable__label {background-color: #d4ebff;}#sk-06bd153e-3adf-449e-bd5b-4f6d87866b2d div.sk-label input.sk-toggleable__control:checked~label.sk-toggleable__label {background-color: #d4ebff;}#sk-06bd153e-3adf-449e-bd5b-4f6d87866b2d input.sk-hidden--visually {border: 0;clip: rect(1px 1px 1px 1px);clip: rect(1px, 1px, 1px, 1px);height: 1px;margin: -1px;overflow: hidden;padding: 0;position: absolute;width: 1px;}#sk-06bd153e-3adf-449e-bd5b-4f6d87866b2d div.sk-estimator {font-family: monospace;background-color: #f0f8ff;margin: 0.25em 0.25em;border: 1px dotted black;border-radius: 0.25em;box-sizing: border-box;}#sk-06bd153e-3adf-449e-bd5b-4f6d87866b2d div.sk-estimator:hover {background-color: #d4ebff;}#sk-06bd153e-3adf-449e-bd5b-4f6d87866b2d div.sk-parallel-item::after {content: \"\";width: 100%;border-bottom: 1px solid gray;flex-grow: 1;}#sk-06bd153e-3adf-449e-bd5b-4f6d87866b2d div.sk-label:hover label.sk-toggleable__label {background-color: #d4ebff;}#sk-06bd153e-3adf-449e-bd5b-4f6d87866b2d div.sk-serial::before {content: \"\";position: absolute;border-left: 1px solid gray;box-sizing: border-box;top: 2em;bottom: 0;left: 50%;}#sk-06bd153e-3adf-449e-bd5b-4f6d87866b2d div.sk-serial {display: flex;flex-direction: column;align-items: center;background-color: white;}#sk-06bd153e-3adf-449e-bd5b-4f6d87866b2d div.sk-item {z-index: 1;}#sk-06bd153e-3adf-449e-bd5b-4f6d87866b2d div.sk-parallel {display: flex;align-items: stretch;justify-content: center;background-color: white;}#sk-06bd153e-3adf-449e-bd5b-4f6d87866b2d div.sk-parallel-item {display: flex;flex-direction: column;position: relative;background-color: white;}#sk-06bd153e-3adf-449e-bd5b-4f6d87866b2d div.sk-parallel-item:first-child::after {align-self: flex-end;width: 50%;}#sk-06bd153e-3adf-449e-bd5b-4f6d87866b2d div.sk-parallel-item:last-child::after {align-self: flex-start;width: 50%;}#sk-06bd153e-3adf-449e-bd5b-4f6d87866b2d div.sk-parallel-item:only-child::after {width: 0;}#sk-06bd153e-3adf-449e-bd5b-4f6d87866b2d div.sk-dashed-wrapped {border: 1px dashed gray;margin: 0.2em;box-sizing: border-box;padding-bottom: 0.1em;background-color: white;position: relative;}#sk-06bd153e-3adf-449e-bd5b-4f6d87866b2d div.sk-label label {font-family: monospace;font-weight: bold;background-color: white;display: inline-block;line-height: 1.2em;}#sk-06bd153e-3adf-449e-bd5b-4f6d87866b2d div.sk-label-container {position: relative;z-index: 2;text-align: center;}#sk-06bd153e-3adf-449e-bd5b-4f6d87866b2d div.sk-container {display: inline-block;position: relative;}</style><div id=\"sk-06bd153e-3adf-449e-bd5b-4f6d87866b2d\" class\"sk-top-container\"><div class=\"sk-container\"><div class=\"sk-item sk-dashed-wrapped\"><div class=\"sk-label-container\"><div class=\"sk-label sk-toggleable\"><input class=\"sk-toggleable__control sk-hidden--visually\" id=\"d7cd37d8-9550-42d2-8d74-cd83fd7bfe74\" type=\"checkbox\" ><label class=\"sk-toggleable__label\" for=\"d7cd37d8-9550-42d2-8d74-cd83fd7bfe74\">ColumnTransformer</label><div class=\"sk-toggleable__content\"><pre>ColumnTransformer(remainder='passthrough',\n",
       "                  transformers=[('ordinal encoding', OrdinalEncoder(),\n",
       "                                 ['jobType', 'degree', 'industry', 'major'])])</pre></div></div></div><div class=\"sk-parallel\"><div class=\"sk-parallel-item\"><div class=\"sk-item\"><div class=\"sk-label-container\"><div class=\"sk-label sk-toggleable\"><input class=\"sk-toggleable__control sk-hidden--visually\" id=\"b3be0aa1-4990-4d07-9aab-6eb310d70019\" type=\"checkbox\" ><label class=\"sk-toggleable__label\" for=\"b3be0aa1-4990-4d07-9aab-6eb310d70019\">ordinal encoding</label><div class=\"sk-toggleable__content\"><pre>['jobType', 'degree', 'industry', 'major']</pre></div></div></div><div class=\"sk-serial\"><div class=\"sk-item\"><div class=\"sk-estimator sk-toggleable\"><input class=\"sk-toggleable__control sk-hidden--visually\" id=\"4a9507e9-b6e1-46b3-a111-817b225bf29c\" type=\"checkbox\" ><label class=\"sk-toggleable__label\" for=\"4a9507e9-b6e1-46b3-a111-817b225bf29c\">OrdinalEncoder</label><div class=\"sk-toggleable__content\"><pre>OrdinalEncoder()</pre></div></div></div></div></div></div><div class=\"sk-parallel-item\"><div class=\"sk-item\"><div class=\"sk-label-container\"><div class=\"sk-label sk-toggleable\"><input class=\"sk-toggleable__control sk-hidden--visually\" id=\"d2c90f05-52da-4194-a579-9eaa745ac7fb\" type=\"checkbox\" ><label class=\"sk-toggleable__label\" for=\"d2c90f05-52da-4194-a579-9eaa745ac7fb\">remainder</label><div class=\"sk-toggleable__content\"><pre></pre></div></div></div><div class=\"sk-serial\"><div class=\"sk-item\"><div class=\"sk-estimator sk-toggleable\"><input class=\"sk-toggleable__control sk-hidden--visually\" id=\"3d46e2bc-eab5-433c-a8bc-0268007baa70\" type=\"checkbox\" ><label class=\"sk-toggleable__label\" for=\"3d46e2bc-eab5-433c-a8bc-0268007baa70\">passthrough</label><div class=\"sk-toggleable__content\"><pre>passthrough</pre></div></div></div></div></div></div></div></div></div></div>"
      ],
      "text/plain": [
       "ColumnTransformer(remainder='passthrough',\n",
       "                  transformers=[('ordinal encoding', OrdinalEncoder(),\n",
       "                                 ['jobType', 'degree', 'industry', 'major'])])"
      ]
     },
     "execution_count": 7,
     "metadata": {},
     "output_type": "execute_result"
    }
   ],
   "source": [
    "ordinal_no_scaling_pp = ColumnTransformer([('ordinal encoding', OrdinalEncoder(), ['jobType', 'degree', 'industry', 'major'])], remainder = 'passthrough')\n",
    "ordinal_no_scaling_pp"
   ]
  },
  {
   "cell_type": "code",
   "execution_count": 8,
   "metadata": {},
   "outputs": [],
   "source": [
    "# New models\n",
    "random_forest = Pipeline([\n",
    "    ('categorical_encoding', ordinal_no_scaling_pp),\n",
    "    ('rf', RandomForestRegressor(max_depth = 20, n_estimators = 150, n_jobs = -1, min_samples_leaf = 10))\n",
    "])\n",
    "\n",
    "xg_boost = Pipeline([\n",
    "    ('categorical_encoding', categorical_encoding_pipelines['all_one_hot']),\n",
    "    ('xbg', XGBRegressor())\n",
    "])\n",
    "\n",
    "sgd_regressor = Pipeline([\n",
    "    ('categorical_encoding', categorical_encoding_pipelines['all_one_hot']),\n",
    "    ('sgd_regressor', SGDRegressor())\n",
    "])\n",
    "\n",
    "new_model_pipelines = [\n",
    "    ('rf', random_forest),\n",
    "    ('xgb', xg_boost),\n",
    "    ('sgd_regressor', sgd_regressor)\n",
    "]"
   ]
  },
  {
   "cell_type": "code",
   "execution_count": 43,
   "metadata": {},
   "outputs": [
    {
     "name": "stdout",
     "output_type": "stream",
     "text": [
      "------------------------------\n",
      "Finished training: rf\n",
      "Test score  : -375.3301843570048\n",
      "Train score : -302.6059283697493\n",
      "\n",
      "------------------------------\n",
      "Finished training: xgb\n",
      "Test score  : -358.49743819860595\n",
      "Train score : -352.25551074759744\n",
      "\n",
      "------------------------------\n",
      "Finished training: sgd_regressor\n",
      "Test score  : -384.5905336575519\n",
      "Train score : -384.57045782847615\n",
      "\n",
      "::::::::::::::::::::::::::::::::::::::::::::::::::::::::::::\n",
      "Best model found:\n",
      "Pipeline(steps=[('categorical_encoding',\n",
      "                 ColumnTransformer(remainder='passthrough',\n",
      "                                   transformers=[('one_hot_encoding',\n",
      "                                                  OneHotEncoder(),\n",
      "                                                  ['jobType', 'degree',\n",
      "                                                   'industry', 'major']),\n",
      "                                                 ('std_scaler',\n",
      "                                                  StandardScaler(),\n",
      "                                                  ['yearsExperience',\n",
      "                                                   'milesFromMetropolis'])])),\n",
      "                ('xbg',\n",
      "                 XGBRegressor(base_score=None, booster=None,\n",
      "                              colsample_bylevel=None, colsample_bynode=None,\n",
      "                              colsam...\n",
      "                              importance_type='gain',\n",
      "                              interaction_constraints=None, learning_rate=None,\n",
      "                              max_delta_step=None, max_depth=None,\n",
      "                              min_child_weight=None, missing=nan,\n",
      "                              monotone_constraints=None, n_estimators=100,\n",
      "                              n_jobs=None, num_parallel_tree=None,\n",
      "                              random_state=None, reg_alpha=None,\n",
      "                              reg_lambda=None, scale_pos_weight=None,\n",
      "                              subsample=None, tree_method=None,\n",
      "                              validate_parameters=None, verbosity=None))])\n",
      "\n",
      "Model score (using 'neg_mean_squared_error')\n",
      "-358.49743819860595\n",
      "\n"
     ]
    },
    {
     "data": {
      "text/html": [
       "<div>\n",
       "<style scoped>\n",
       "    .dataframe tbody tr th:only-of-type {\n",
       "        vertical-align: middle;\n",
       "    }\n",
       "\n",
       "    .dataframe tbody tr th {\n",
       "        vertical-align: top;\n",
       "    }\n",
       "\n",
       "    .dataframe thead th {\n",
       "        text-align: right;\n",
       "    }\n",
       "</style>\n",
       "<table border=\"1\" class=\"dataframe\">\n",
       "  <thead>\n",
       "    <tr style=\"text-align: right;\">\n",
       "      <th></th>\n",
       "      <th>test_score</th>\n",
       "      <th>train_score</th>\n",
       "      <th>fit_time</th>\n",
       "      <th>score_time</th>\n",
       "    </tr>\n",
       "  </thead>\n",
       "  <tbody>\n",
       "    <tr>\n",
       "      <th>xgb</th>\n",
       "      <td>-358.497438</td>\n",
       "      <td>-352.255511</td>\n",
       "      <td>21.978652</td>\n",
       "      <td>0.355188</td>\n",
       "    </tr>\n",
       "    <tr>\n",
       "      <th>rf</th>\n",
       "      <td>-375.330184</td>\n",
       "      <td>-302.605928</td>\n",
       "      <td>71.441053</td>\n",
       "      <td>2.132487</td>\n",
       "    </tr>\n",
       "    <tr>\n",
       "      <th>sgd_regressor</th>\n",
       "      <td>-384.590534</td>\n",
       "      <td>-384.570458</td>\n",
       "      <td>5.667595</td>\n",
       "      <td>0.210059</td>\n",
       "    </tr>\n",
       "  </tbody>\n",
       "</table>\n",
       "</div>"
      ],
      "text/plain": [
       "               test_score  train_score   fit_time  score_time\n",
       "xgb           -358.497438  -352.255511  21.978652    0.355188\n",
       "rf            -375.330184  -302.605928  71.441053    2.132487\n",
       "sgd_regressor -384.590534  -384.570458   5.667595    0.210059"
      ]
     },
     "metadata": {},
     "output_type": "display_data"
    }
   ],
   "source": [
    "test_new_models = EvaluatePipelines(new_model_pipelines, scoring = SCORING_METRIC)\n",
    "test_new_models.run(train_df, target, verbose = True)"
   ]
  },
  {
   "cell_type": "code",
   "execution_count": 45,
   "metadata": {},
   "outputs": [
    {
     "data": {
      "image/png": "[encoded data removed]",
      "text/plain": [
       "<Figure size 432x288 with 1 Axes>"
      ]
     },
     "metadata": {
      "needs_background": "light"
     },
     "output_type": "display_data"
    }
   ],
   "source": [
    "# Plot the results with a reference to the best score before this test (baseline score)\n",
    "test_new_models.plot_results(best_score = 371.22)"
   ]
  },
  {
   "cell_type": "markdown",
   "metadata": {},
   "source": [
    "**Results:**\n",
    "- xgboost: \n",
    "    - Performed the best on the validation set\n",
    "    - Pretty reasonable train time, which means parameter tuning should be quicker than random forest.\n",
    "    - Has some variance that should be paid attention to with further parameter tuning.\n",
    "- randomforest: \n",
    "    - Fits the training data better and has a bit of a variance/ overfitting issue. But with some regularization it may generalize well.\n",
    "    - Has a longer train time, and might take awhile to comprehensively parameter tune.\n",
    "- SGDRegressor:\n",
    "    - About the same error as linear regression. Has more of a bias problem than variance, so tweaking the regularization parameters will probably not help as much here.\n",
    "    - Still doesn't beat the baseline score. Perhaps with some more training iterations, but this model doesn't seem as fruitful to spend time on over the other two."
   ]
  },
  {
   "cell_type": "markdown",
   "metadata": {},
   "source": [
    "# Randomforest\n",
    "\n",
    "**Plan:**  \n",
    "Explore regularization options to reduce variance and hopefully improve cross validation scores."
   ]
  },
  {
   "cell_type": "markdown",
   "metadata": {},
   "source": [
    "## Learning curve"
   ]
  },
  {
   "cell_type": "code",
   "execution_count": 46,
   "metadata": {},
   "outputs": [
    {
     "data": {
      "image/png": "[encoded data removed]",
      "text/plain": [
       "<Figure size 576x360 with 1 Axes>"
      ]
     },
     "metadata": {
      "needs_background": "light"
     },
     "output_type": "display_data"
    }
   ],
   "source": [
    "plot_learning_curve(random_forest, train_df, target, scoring = SCORING_METRIC)"
   ]
  },
  {
   "cell_type": "markdown",
   "metadata": {},
   "source": [
    "It doesn't look like reducing the training size (for speed purposes) will be worth it."
   ]
  },
  {
   "cell_type": "markdown",
   "metadata": {},
   "source": [
    "## Validation Curves\n",
    "\n",
    "Since the training time is a little longer with this model, I will start looking at validation curves for individual parameter ranges instead of a grid search. So that I may be able to get quicker feedback, and narrow down some ranges of parameters that work better."
   ]
  },
  {
   "cell_type": "markdown",
   "metadata": {},
   "source": [
    "**max_depth**: Reducing the depth of the trees in the forest will make the model less complex and hopefully reduce variance"
   ]
  },
  {
   "cell_type": "code",
   "execution_count": 49,
   "metadata": {},
   "outputs": [
    {
     "data": {
      "image/png": "[encoded data removed]",
      "text/plain": [
       "<Figure size 576x360 with 1 Axes>"
      ]
     },
     "metadata": {
      "needs_background": "light"
     },
     "output_type": "display_data"
    }
   ],
   "source": [
    "plot_validation_curve(random_forest, train_df, target, param_name = 'rf__max_depth', param_range = [5, 10, 15, 20, 25], scoring = SCORING_METRIC)"
   ]
  },
  {
   "cell_type": "markdown",
   "metadata": {},
   "source": [
    "Having a `max_depth` of greater than 15 doesn't look to make any significant difference in the test score; and having a depth greater than 20 doesn't look to make a difference for the training scores."
   ]
  },
  {
   "cell_type": "markdown",
   "metadata": {},
   "source": [
    "**min_samples_leaf:**"
   ]
  },
  {
   "cell_type": "code",
   "execution_count": 50,
   "metadata": {},
   "outputs": [
    {
     "data": {
      "image/png": "[encoded data removed]",
      "text/plain": [
       "<Figure size 576x360 with 1 Axes>"
      ]
     },
     "metadata": {
      "needs_background": "light"
     },
     "output_type": "display_data"
    }
   ],
   "source": [
    "plot_validation_curve(random_forest, train_df, target, param_name = 'rf__min_samples_leaf', param_range = [2, 5, 10, 15, 30, 60, 100], scoring = SCORING_METRIC)"
   ]
  },
  {
   "cell_type": "markdown",
   "metadata": {},
   "source": [
    "**max_features:**"
   ]
  },
  {
   "cell_type": "code",
   "execution_count": 52,
   "metadata": {},
   "outputs": [
    {
     "data": {
      "image/png": "[encoded data removed]",
      "text/plain": [
       "<Figure size 576x360 with 1 Axes>"
      ]
     },
     "metadata": {
      "needs_background": "light"
     },
     "output_type": "display_data"
    }
   ],
   "source": [
    "plot_validation_curve(random_forest, train_df, target, param_name = 'rf__max_features', param_range = [1, 2, 3, 4, 5, 6], scoring = SCORING_METRIC)"
   ]
  },
  {
   "cell_type": "markdown",
   "metadata": {},
   "source": [
    "**n_estimators:** reducing the number of estimators will make the model less complex"
   ]
  },
  {
   "cell_type": "code",
   "execution_count": 14,
   "metadata": {},
   "outputs": [
    {
     "data": {
      "image/png": "[encoded data removed]",
      "text/plain": [
       "<Figure size 576x360 with 1 Axes>"
      ]
     },
     "metadata": {
      "needs_background": "light"
     },
     "output_type": "display_data"
    }
   ],
   "source": [
    "plot_validation_curve(random_forest, train_df, target, param_name = 'rf__n_estimators', param_range = [25, 75, 100, 125, 150, 200], scoring = SCORING_METRIC)"
   ]
  },
  {
   "cell_type": "markdown",
   "metadata": {},
   "source": [
    "### Improved random forest\n",
    "\n",
    "Using parameters that had lower error and variance from the validation curves"
   ]
  },
  {
   "cell_type": "code",
   "execution_count": 18,
   "metadata": {},
   "outputs": [
    {
     "data": {
      "text/plain": [
       "{'fit_time': array([64.09051585, 64.23023486, 63.2505455 , 65.29251957, 68.26183629]),\n",
       " 'score_time': array([1.16629076, 1.08400178, 1.17319274, 1.29433751, 1.18028998]),\n",
       " 'test_score': array([-373.69125902, -377.11214517, -374.91815775, -374.57541448,\n",
       "        -372.97761755]),\n",
       " 'train_score': array([-347.1606606 , -347.15908243, -345.30680722, -344.87559962,\n",
       "        -346.67850941])}"
      ]
     },
     "execution_count": 18,
     "metadata": {},
     "output_type": "execute_result"
    }
   ],
   "source": [
    "improved_randomforest = Pipeline([\n",
    "    ('categorical_encoding', ordinal_no_scaling_pp),\n",
    "    ('rf', RandomForestRegressor(max_depth = 15, n_estimators = 150, n_jobs = -1, min_samples_leaf = 25))\n",
    "])\n",
    "\n",
    "cross_validate(improved_randomforest, train_df, target, scoring = SCORING_METRIC, return_train_score = True, cv = 5)"
   ]
  },
  {
   "cell_type": "code",
   "execution_count": 19,
   "metadata": {},
   "outputs": [
    {
     "data": {
      "text/plain": [
       "-374.65491879399997"
      ]
     },
     "execution_count": 19,
     "metadata": {},
     "output_type": "execute_result"
    }
   ],
   "source": [
    "# max_depth = 15, n_estimators = 150, n_jobs = -1, min_samples_leaf = 25 \n",
    "# test scores from above cross_validation\n",
    "np.mean([-373.69125902, -377.11214517, -374.91815775, -374.57541448, -372.97761755])"
   ]
  },
  {
   "cell_type": "markdown",
   "metadata": {},
   "source": [
    "We have slightly improved the MSE from `375.33` to `374.65` MSE. But based on the validation curve plots, it doesn't look too promising to get below 370 MSE on the test set. A better score could be found through extensive grid search. But with the longer fitting time, I think exploring the xgboost model for improvements would be a better use of time."
   ]
  },
  {
   "cell_type": "markdown",
   "metadata": {},
   "source": [
    "# XGBoost"
   ]
  },
  {
   "cell_type": "markdown",
   "metadata": {},
   "source": [
    "**Plan:**  \n",
    "Before hyperperameter tuning I want to test out the categorical encoding that worked best with random forest. \n",
    "\n",
    "The first run of xgboost that scored 358.5 MSE used all one hot encoding for the categorical variables. I saw that scores (and training time) improved  when I didn't use one hot encoding with random forest, and since the base model of xgboost is a decision tree, maybe I can improve the score with just the preprocessing step."
   ]
  },
  {
   "cell_type": "code",
   "execution_count": 13,
   "metadata": {},
   "outputs": [],
   "source": [
    "xgboost_preprocessing = [\n",
    "    ('first_xgboost', categorical_encoding_pipelines['all_one_hot']),\n",
    "    ('ord_xgboost', ordinal_no_scaling_pp)\n",
    "]"
   ]
  },
  {
   "cell_type": "code",
   "execution_count": 14,
   "metadata": {},
   "outputs": [
    {
     "name": "stdout",
     "output_type": "stream",
     "text": [
      "::::::::::::::::::::::::::::::::::::::::::::::::::::::::::::\n",
      "Best model found:\n",
      "Pipeline(steps=[('ord_xgboost',\n",
      "                 ColumnTransformer(remainder='passthrough',\n",
      "                                   transformers=[('ordinal encoding',\n",
      "                                                  OrdinalEncoder(),\n",
      "                                                  ['jobType', 'degree',\n",
      "                                                   'industry', 'major'])])),\n",
      "                ('estimator',\n",
      "                 XGBRegressor(base_score=None, booster=None,\n",
      "                              colsample_bylevel=None, colsample_bynode=None,\n",
      "                              colsample_bytree=None, gamma=None, gpu_id=None,\n",
      "                              importance_type='gain',\n",
      "                              interaction_constraints=None, learning_rate=None,\n",
      "                              max_delta_step=None, max_depth=None,\n",
      "                              min_child_weight=None, missing=nan,\n",
      "                              monotone_constraints=None, n_estimators=100,\n",
      "                              n_jobs=None, num_parallel_tree=None,\n",
      "                              random_state=None, reg_alpha=None,\n",
      "                              reg_lambda=None, scale_pos_weight=None,\n",
      "                              subsample=None, tree_method=None,\n",
      "                              validate_parameters=None, verbosity=None))])\n",
      "\n",
      "Model score (using 'neg_mean_squared_error')\n",
      "-358.4875182031214\n",
      "\n"
     ]
    },
    {
     "data": {
      "text/html": [
       "<div>\n",
       "<style scoped>\n",
       "    .dataframe tbody tr th:only-of-type {\n",
       "        vertical-align: middle;\n",
       "    }\n",
       "\n",
       "    .dataframe tbody tr th {\n",
       "        vertical-align: top;\n",
       "    }\n",
       "\n",
       "    .dataframe thead th {\n",
       "        text-align: right;\n",
       "    }\n",
       "</style>\n",
       "<table border=\"1\" class=\"dataframe\">\n",
       "  <thead>\n",
       "    <tr style=\"text-align: right;\">\n",
       "      <th></th>\n",
       "      <th>test_score</th>\n",
       "      <th>train_score</th>\n",
       "      <th>fit_time</th>\n",
       "      <th>score_time</th>\n",
       "    </tr>\n",
       "  </thead>\n",
       "  <tbody>\n",
       "    <tr>\n",
       "      <th>ord_xgboost</th>\n",
       "      <td>-358.487518</td>\n",
       "      <td>-353.232524</td>\n",
       "      <td>20.507301</td>\n",
       "      <td>0.259007</td>\n",
       "    </tr>\n",
       "    <tr>\n",
       "      <th>first_xgboost</th>\n",
       "      <td>-358.497438</td>\n",
       "      <td>-352.255511</td>\n",
       "      <td>20.076661</td>\n",
       "      <td>0.334814</td>\n",
       "    </tr>\n",
       "  </tbody>\n",
       "</table>\n",
       "</div>"
      ],
      "text/plain": [
       "               test_score  train_score   fit_time  score_time\n",
       "ord_xgboost   -358.487518  -353.232524  20.507301    0.259007\n",
       "first_xgboost -358.497438  -352.255511  20.076661    0.334814"
      ]
     },
     "metadata": {},
     "output_type": "display_data"
    }
   ],
   "source": [
    "test_xgb_preprocessing = EvaluatePreprocessors(preprocessors = xgboost_preprocessing,\n",
    "                                               estimator = XGBRegressor(),\n",
    "                                               scoring = SCORING_METRIC)\n",
    "test_xgb_preprocessing.run(train_df, target)"
   ]
  },
  {
   "cell_type": "markdown",
   "metadata": {},
   "source": [
    "Using ordinal encoding performs slightly better and I will use it for parameter tuning."
   ]
  },
  {
   "cell_type": "code",
   "execution_count": 18,
   "metadata": {},
   "outputs": [],
   "source": [
    "xgboost_ord_model = Pipeline([\n",
    "    ('categorical_encoding', ordinal_no_scaling_pp),\n",
    "    # tree_method = 'hist' recommended for large datasets as per documentation\n",
    "    ('xgb', XGBRegressor(tree_method = 'hist'))\n",
    "])"
   ]
  },
  {
   "cell_type": "markdown",
   "metadata": {},
   "source": [
    "## Learning curve"
   ]
  },
  {
   "cell_type": "code",
   "execution_count": 15,
   "metadata": {},
   "outputs": [
    {
     "data": {
      "image/png": "[encoded data removed]",
      "text/plain": [
       "<Figure size 576x360 with 1 Axes>"
      ]
     },
     "metadata": {
      "needs_background": "light"
     },
     "output_type": "display_data"
    }
   ],
   "source": [
    "plot_learning_curve(xgboost_ord_model, train_df, target, scoring = SCORING_METRIC)"
   ]
  },
  {
   "cell_type": "markdown",
   "metadata": {},
   "source": [
    "It looks like adding more training data wouldn't help significantly with optimizing the MSE."
   ]
  },
  {
   "cell_type": "code",
   "execution_count": 17,
   "metadata": {},
   "outputs": [
    {
     "data": {
      "image/png": "[encoded data removed]",
      "text/plain": [
       "<Figure size 576x360 with 1 Axes>"
      ]
     },
     "metadata": {
      "needs_background": "light"
     },
     "output_type": "display_data"
    }
   ],
   "source": [
    "plot_validation_curve(xgboost_ord_model, train_df, target, param_name = 'xgb__n_estimators', param_range = [50, 100, 200, 300, 500], scoring = SCORING_METRIC)"
   ]
  },
  {
   "cell_type": "markdown",
   "metadata": {},
   "source": [
    "As the estimators (boosting steps) grow past 100, the variance also continues to grow. But lowering the learning_rate in combination with increasing estimators could help. "
   ]
  },
  {
   "cell_type": "markdown",
   "metadata": {},
   "source": [
    "### Grid search\n",
    "\n",
    "**Plan:**\n",
    "Use a funnel down approach - start with wide ranges of parameters and narrow them down."
   ]
  },
  {
   "cell_type": "code",
   "execution_count": 30,
   "metadata": {},
   "outputs": [],
   "source": [
    "xgb_param_grid = {\n",
    "    'xgb__n_estimators': [275, 350, 400],\n",
    "    'xgb__learning_rate': [0.01, 0.1, 0.15],\n",
    "    'xgb__max_depth': [6],\n",
    "    'xgb__gamma': [0.0001, 0.0005, 0.001],\n",
    "    'xgb__min_child_weight': [175, 200, 250]\n",
    "}\n",
    "\n",
    "xgb_grid_search = GridSearchCV(xgboost_ord_model, xgb_param_grid, scoring = SCORING_METRIC, cv = 5, n_jobs = 2)"
   ]
  },
  {
   "cell_type": "code",
   "execution_count": 31,
   "metadata": {},
   "outputs": [
    {
     "name": "stdout",
     "output_type": "stream",
     "text": [
      "Best score found: -356.16350804025694\n",
      "Best params:\n",
      "{'xgb__gamma': 0.0001, 'xgb__learning_rate': 0.1, 'xgb__max_depth': 6, 'xgb__min_child_weight': 200, 'xgb__n_estimators': 275}\n"
     ]
    }
   ],
   "source": [
    "xgb_grid_search.fit(train_df, target)\n",
    "\n",
    "print(f\"Best score found: {xgb_grid_search.best_score_}\")\n",
    "print(\"Best params:\")\n",
    "print(xgb_grid_search.best_params_)"
   ]
  },
  {
   "cell_type": "markdown",
   "metadata": {},
   "source": [
    "### Grid Search Results\n",
    "Historical log of grid search tests"
   ]
  },
  {
   "cell_type": "markdown",
   "metadata": {},
   "source": [
    "- **Round 1:**\n",
    "    - Tested:\n",
    "    ```\n",
    "    {\n",
    "    'xgb__n_estimators': [75, 100, 115, 125],\n",
    "    'xgb__learning_rate': [0.1, 0.25, 0.5, 0.75, 0.9],\n",
    "    'xgb__max_depth': [2, 4, 6]\n",
    "    }\n",
    "    ```\n",
    "    - Best:\n",
    "    ```\n",
    "    {'xgb__learning_rate': 0.1, 'xgb__max_depth': 6, 'xgb__n_estimators': 125}\n",
    "    ```\n",
    "    - Score: `-357.14584049361605`\n",
    "- **Round 2:**\n",
    "    - Tested:\n",
    "    ```\n",
    "    {\n",
    "    'xgb__n_estimators': [115, 125, 150],\n",
    "    'xgb__learning_rate': [0.01, 0.1, 0.2],\n",
    "    'xgb__max_depth': [4, 6, 8, 12],\n",
    "    'xgb__gamma': [0.01, 0.05, 1, 3]\n",
    "    }\n",
    "    ```\n",
    "    - Best:\n",
    "    ```\n",
    "    {'xgb__gamma': 0.01, 'xgb__learning_rate': 0.1, 'xgb__max_depth': 6, 'xgb__n_estimators': 150}\n",
    "    ```\n",
    "    - Score: `-356.7280836451623`\n",
    "- **Round 3:**\n",
    "    - Tested:\n",
    "    ```\n",
    "    {\n",
    "    'xgb__n_estimators': [130, 150, 165],\n",
    "    'xgb__learning_rate': [0.01, 0.1, 0.15],\n",
    "    'xgb__max_depth': [5, 6, 7],\n",
    "    'xgb__gamma': [0.001, 0.01, 0.1]\n",
    "    }\n",
    "    ```\n",
    "    - Best:\n",
    "    ```\n",
    "    {'xgb__gamma': 0.001, 'xgb__learning_rate': 0.1, 'xgb__max_depth': 6, 'xgb__n_estimators': 165}\n",
    "    ```\n",
    "    - Score: `-356.60186510950496`\n",
    "- **Round 4:**  \n",
    "max_depth and learning_rate have not changed throughout the previous steps. Will try adding a new parameter in\n",
    "    - Tested:\n",
    "    ```\n",
    "    {\n",
    "    'xgb__n_estimators': [150, 165, 225, 275],\n",
    "    'xgb__learning_rate': [0.1],\n",
    "    'xgb__max_depth': [6],\n",
    "    'xgb__gamma': [0.0005, 0.001, 0.0015],\n",
    "    'xgb__min_child_weight': [100, 150, 200, 300]\n",
    "    }\n",
    "    ```\n",
    "    - Best: \n",
    "    ```\n",
    "    {'xgb__gamma': 0.0005, 'xgb__learning_rate': 0.1, 'xgb__max_depth': 6, 'xgb__min_child_weight': 200, 'xgb__n_estimators': 275}\n",
    "    ```\n",
    "    - Score: `-356.16350804025694`\n",
    "- **Round 5:**\n",
    "    - Tested:\n",
    "    ```\n",
    "    {\n",
    "    'xgb__n_estimators': [275, 350, 400],\n",
    "    'xgb__learning_rate': [0.01, 0.1, 0.15],\n",
    "    'xgb__max_depth': [6],\n",
    "    'xgb__gamma': [0.0001, 0.0005, 0.001],\n",
    "    'xgb__min_child_weight': [175, 200, 250]\n",
    "    }\n",
    "    ```\n",
    "    - Best:\n",
    "    ```\n",
    "    {'xgb__gamma': 0.0001, 'xgb__learning_rate': 0.1, 'xgb__max_depth': 6, 'xgb__min_child_weight': 200, 'xgb__n_estimators': 275}\n",
    "    ```\n",
    "    - Score: `-356.16350804025694`\n",
    "    \n",
    "    Round 5 found the same score and all the same parameters except gamma as round 4"
   ]
  },
  {
   "cell_type": "code",
   "execution_count": 52,
   "metadata": {},
   "outputs": [
    {
     "data": {
      "text/html": [
       "<style>#sk-282b69c6-9d28-47b8-9741-a6533d184e9c {color: black;background-color: white;}#sk-282b69c6-9d28-47b8-9741-a6533d184e9c pre{padding: 0;}#sk-282b69c6-9d28-47b8-9741-a6533d184e9c div.sk-toggleable {background-color: white;}#sk-282b69c6-9d28-47b8-9741-a6533d184e9c label.sk-toggleable__label {cursor: pointer;display: block;width: 100%;margin-bottom: 0;padding: 0.2em 0.3em;box-sizing: border-box;text-align: center;}#sk-282b69c6-9d28-47b8-9741-a6533d184e9c div.sk-toggleable__content {max-height: 0;max-width: 0;overflow: hidden;text-align: left;background-color: #f0f8ff;}#sk-282b69c6-9d28-47b8-9741-a6533d184e9c div.sk-toggleable__content pre {margin: 0.2em;color: black;border-radius: 0.25em;background-color: #f0f8ff;}#sk-282b69c6-9d28-47b8-9741-a6533d184e9c input.sk-toggleable__control:checked~div.sk-toggleable__content {max-height: 200px;max-width: 100%;overflow: auto;}#sk-282b69c6-9d28-47b8-9741-a6533d184e9c div.sk-estimator input.sk-toggleable__control:checked~label.sk-toggleable__label {background-color: #d4ebff;}#sk-282b69c6-9d28-47b8-9741-a6533d184e9c div.sk-label input.sk-toggleable__control:checked~label.sk-toggleable__label {background-color: #d4ebff;}#sk-282b69c6-9d28-47b8-9741-a6533d184e9c input.sk-hidden--visually {border: 0;clip: rect(1px 1px 1px 1px);clip: rect(1px, 1px, 1px, 1px);height: 1px;margin: -1px;overflow: hidden;padding: 0;position: absolute;width: 1px;}#sk-282b69c6-9d28-47b8-9741-a6533d184e9c div.sk-estimator {font-family: monospace;background-color: #f0f8ff;margin: 0.25em 0.25em;border: 1px dotted black;border-radius: 0.25em;box-sizing: border-box;}#sk-282b69c6-9d28-47b8-9741-a6533d184e9c div.sk-estimator:hover {background-color: #d4ebff;}#sk-282b69c6-9d28-47b8-9741-a6533d184e9c div.sk-parallel-item::after {content: \"\";width: 100%;border-bottom: 1px solid gray;flex-grow: 1;}#sk-282b69c6-9d28-47b8-9741-a6533d184e9c div.sk-label:hover label.sk-toggleable__label {background-color: #d4ebff;}#sk-282b69c6-9d28-47b8-9741-a6533d184e9c div.sk-serial::before {content: \"\";position: absolute;border-left: 1px solid gray;box-sizing: border-box;top: 2em;bottom: 0;left: 50%;}#sk-282b69c6-9d28-47b8-9741-a6533d184e9c div.sk-serial {display: flex;flex-direction: column;align-items: center;background-color: white;}#sk-282b69c6-9d28-47b8-9741-a6533d184e9c div.sk-item {z-index: 1;}#sk-282b69c6-9d28-47b8-9741-a6533d184e9c div.sk-parallel {display: flex;align-items: stretch;justify-content: center;background-color: white;}#sk-282b69c6-9d28-47b8-9741-a6533d184e9c div.sk-parallel-item {display: flex;flex-direction: column;position: relative;background-color: white;}#sk-282b69c6-9d28-47b8-9741-a6533d184e9c div.sk-parallel-item:first-child::after {align-self: flex-end;width: 50%;}#sk-282b69c6-9d28-47b8-9741-a6533d184e9c div.sk-parallel-item:last-child::after {align-self: flex-start;width: 50%;}#sk-282b69c6-9d28-47b8-9741-a6533d184e9c div.sk-parallel-item:only-child::after {width: 0;}#sk-282b69c6-9d28-47b8-9741-a6533d184e9c div.sk-dashed-wrapped {border: 1px dashed gray;margin: 0.2em;box-sizing: border-box;padding-bottom: 0.1em;background-color: white;position: relative;}#sk-282b69c6-9d28-47b8-9741-a6533d184e9c div.sk-label label {font-family: monospace;font-weight: bold;background-color: white;display: inline-block;line-height: 1.2em;}#sk-282b69c6-9d28-47b8-9741-a6533d184e9c div.sk-label-container {position: relative;z-index: 2;text-align: center;}#sk-282b69c6-9d28-47b8-9741-a6533d184e9c div.sk-container {display: inline-block;position: relative;}</style><div id=\"sk-282b69c6-9d28-47b8-9741-a6533d184e9c\" class\"sk-top-container\"><div class=\"sk-container\"><div class=\"sk-item sk-dashed-wrapped\"><div class=\"sk-label-container\"><div class=\"sk-label sk-toggleable\"><input class=\"sk-toggleable__control sk-hidden--visually\" id=\"bbc7362c-d510-4f35-bf2a-47e254e1e9a5\" type=\"checkbox\" ><label class=\"sk-toggleable__label\" for=\"bbc7362c-d510-4f35-bf2a-47e254e1e9a5\">Pipeline</label><div class=\"sk-toggleable__content\"><pre>Pipeline(steps=[('categorical_encoding',\n",
       "                 ColumnTransformer(remainder='passthrough',\n",
       "                                   transformers=[('ordinal encoding',\n",
       "                                                  OrdinalEncoder(),\n",
       "                                                  ['jobType', 'degree',\n",
       "                                                   'industry', 'major'])])),\n",
       "                ('xgb',\n",
       "                 XGBRegressor(base_score=None, booster=None,\n",
       "                              colsample_bylevel=None, colsample_bynode=None,\n",
       "                              colsample_bytree=0.5, gamma=0.0001, gpu_id=None,\n",
       "                              importance_type='gain',\n",
       "                              interaction_constraints=None, learning_rate=0.1,\n",
       "                              max_delta_step=None, max_depth=6,\n",
       "                              min_child_weight=200, missing=nan,\n",
       "                              monotone_constraints=None, n_estimators=275,\n",
       "                              n_jobs=None, num_parallel_tree=None,\n",
       "                              random_state=None, reg_alpha=None,\n",
       "                              reg_lambda=None, scale_pos_weight=None,\n",
       "                              subsample=None, tree_method='hist',\n",
       "                              validate_parameters=None, verbosity=None))])</pre></div></div></div><div class=\"sk-serial\"><div class=\"sk-item sk-dashed-wrapped\"><div class=\"sk-label-container\"><div class=\"sk-label sk-toggleable\"><input class=\"sk-toggleable__control sk-hidden--visually\" id=\"f81028a6-b3af-4308-ba24-2ec3edc3ab0e\" type=\"checkbox\" ><label class=\"sk-toggleable__label\" for=\"f81028a6-b3af-4308-ba24-2ec3edc3ab0e\">categorical_encoding: ColumnTransformer</label><div class=\"sk-toggleable__content\"><pre>ColumnTransformer(remainder='passthrough',\n",
       "                  transformers=[('ordinal encoding', OrdinalEncoder(),\n",
       "                                 ['jobType', 'degree', 'industry', 'major'])])</pre></div></div></div><div class=\"sk-parallel\"><div class=\"sk-parallel-item\"><div class=\"sk-item\"><div class=\"sk-label-container\"><div class=\"sk-label sk-toggleable\"><input class=\"sk-toggleable__control sk-hidden--visually\" id=\"135941bd-67f7-43ac-ac72-c86ead955add\" type=\"checkbox\" ><label class=\"sk-toggleable__label\" for=\"135941bd-67f7-43ac-ac72-c86ead955add\">ordinal encoding</label><div class=\"sk-toggleable__content\"><pre>['jobType', 'degree', 'industry', 'major']</pre></div></div></div><div class=\"sk-serial\"><div class=\"sk-item\"><div class=\"sk-estimator sk-toggleable\"><input class=\"sk-toggleable__control sk-hidden--visually\" id=\"2297c8c3-c8dc-4e50-aed0-167ab1c100ee\" type=\"checkbox\" ><label class=\"sk-toggleable__label\" for=\"2297c8c3-c8dc-4e50-aed0-167ab1c100ee\">OrdinalEncoder</label><div class=\"sk-toggleable__content\"><pre>OrdinalEncoder()</pre></div></div></div></div></div></div><div class=\"sk-parallel-item\"><div class=\"sk-item\"><div class=\"sk-label-container\"><div class=\"sk-label sk-toggleable\"><input class=\"sk-toggleable__control sk-hidden--visually\" id=\"e2a59767-d886-4e33-bc2d-e0ea0c06d3df\" type=\"checkbox\" ><label class=\"sk-toggleable__label\" for=\"e2a59767-d886-4e33-bc2d-e0ea0c06d3df\">remainder</label><div class=\"sk-toggleable__content\"><pre>['yearsExperience', 'milesFromMetropolis']</pre></div></div></div><div class=\"sk-serial\"><div class=\"sk-item\"><div class=\"sk-estimator sk-toggleable\"><input class=\"sk-toggleable__control sk-hidden--visually\" id=\"c8be68ef-3773-4fce-ba46-eadf570968eb\" type=\"checkbox\" ><label class=\"sk-toggleable__label\" for=\"c8be68ef-3773-4fce-ba46-eadf570968eb\">passthrough</label><div class=\"sk-toggleable__content\"><pre>passthrough</pre></div></div></div></div></div></div></div></div><div class=\"sk-item\"><div class=\"sk-estimator sk-toggleable\"><input class=\"sk-toggleable__control sk-hidden--visually\" id=\"0288e0cc-0c0d-4bec-bf14-33b41e75df91\" type=\"checkbox\" ><label class=\"sk-toggleable__label\" for=\"0288e0cc-0c0d-4bec-bf14-33b41e75df91\">XGBRegressor</label><div class=\"sk-toggleable__content\"><pre>XGBRegressor(base_score=None, booster=None, colsample_bylevel=None,\n",
       "             colsample_bynode=None, colsample_bytree=0.5, gamma=0.0001,\n",
       "             gpu_id=None, importance_type='gain', interaction_constraints=None,\n",
       "             learning_rate=0.1, max_delta_step=None, max_depth=6,\n",
       "             min_child_weight=200, missing=nan, monotone_constraints=None,\n",
       "             n_estimators=275, n_jobs=None, num_parallel_tree=None,\n",
       "             random_state=None, reg_alpha=None, reg_lambda=None,\n",
       "             scale_pos_weight=None, subsample=None, tree_method='hist',\n",
       "             validate_parameters=None, verbosity=None)</pre></div></div></div></div></div></div></div>"
      ],
      "text/plain": [
       "Pipeline(steps=[('categorical_encoding',\n",
       "                 ColumnTransformer(remainder='passthrough',\n",
       "                                   transformers=[('ordinal encoding',\n",
       "                                                  OrdinalEncoder(),\n",
       "                                                  ['jobType', 'degree',\n",
       "                                                   'industry', 'major'])])),\n",
       "                ('xgb',\n",
       "                 XGBRegressor(base_score=None, booster=None,\n",
       "                              colsample_bylevel=None, colsample_bynode=None,\n",
       "                              colsample_bytree=0.5, gamma=0.0001, gpu_id=None,\n",
       "                              importance_type='gain',\n",
       "                              interaction_constraints=None, learning_rate=0.1,\n",
       "                              max_delta_step=None, max_depth=6,\n",
       "                              min_child_weight=200, missing=nan,\n",
       "                              monotone_constraints=None, n_estimators=275,\n",
       "                              n_jobs=None, num_parallel_tree=None,\n",
       "                              random_state=None, reg_alpha=None,\n",
       "                              reg_lambda=None, scale_pos_weight=None,\n",
       "                              subsample=None, tree_method='hist',\n",
       "                              validate_parameters=None, verbosity=None))])"
      ]
     },
     "execution_count": 52,
     "metadata": {},
     "output_type": "execute_result"
    }
   ],
   "source": [
    "# Set the best parameters found with grid search\n",
    "xgboost_ord_model.set_params(**{'xgb__gamma': 0.0001, 'xgb__learning_rate': 0.1, 'xgb__max_depth': 6, 'xgb__min_child_weight': 200, 'xgb__n_estimators': 275})"
   ]
  },
  {
   "cell_type": "markdown",
   "metadata": {},
   "source": [
    "### Validation curve - colsample_bytree\n",
    "Given the best parameters found so far, how much will sampling fewer features help?"
   ]
  },
  {
   "cell_type": "code",
   "execution_count": 44,
   "metadata": {},
   "outputs": [
    {
     "data": {
      "image/png": "[encoded data removed]",
      "text/plain": [
       "<Figure size 576x360 with 1 Axes>"
      ]
     },
     "metadata": {
      "needs_background": "light"
     },
     "output_type": "display_data"
    }
   ],
   "source": [
    "# use np.arange with a stepsize of 1/6 because the feature matrix has 6 features\n",
    "plot_validation_curve(xgboost_ord_model, train_df, target, param_name = 'xgb__colsample_bytree', param_range = np.arange(0, 1.16, 1/6), scoring = SCORING_METRIC)"
   ]
  },
  {
   "cell_type": "markdown",
   "metadata": {},
   "source": [
    "It looks like using a value of `0.5` (i.e. sampling 3/6 features for each new tree) is a good choice. Because of the relatively low error <u>*and*</u> low variance between train and test scores."
   ]
  },
  {
   "cell_type": "code",
   "execution_count": 53,
   "metadata": {},
   "outputs": [
    {
     "name": "stdout",
     "output_type": "stream",
     "text": [
      "MSE for new model: -355.2378497636943\n"
     ]
    }
   ],
   "source": [
    "xgboost_ord_model.set_params(xgb__colsample_bytree = 0.5)\n",
    "colsample_scores = cross_validate(xgboost_ord_model, train_df, target, scoring = SCORING_METRIC, return_train_score=True)\n",
    "print(f\"MSE for new model: {np.mean(colsample_scores['test_score'])}\")"
   ]
  },
  {
   "cell_type": "markdown",
   "metadata": {},
   "source": [
    "This does indeed result in an improvement with a MSE of `355.23`, beating the previous best score of `356.16`."
   ]
  },
  {
   "cell_type": "code",
   "execution_count": 55,
   "metadata": {},
   "outputs": [
    {
     "name": "stdout",
     "output_type": "stream",
     "text": [
      "Average train score: -352.3223496470001\n",
      "Average test score : -355.2378497636943\n"
     ]
    }
   ],
   "source": [
    "print(f\"Average train score: {np.mean(colsample_scores['train_score'])}\")\n",
    "print(f\"Average test score : {np.mean(colsample_scores['test_score'])}\")"
   ]
  },
  {
   "cell_type": "markdown",
   "metadata": {},
   "source": [
    "With the tuned model we have lowered both the error, and the variance between train and test scores.\n",
    "\n",
    "|             |Test score|Train score|Test-train diff|\n",
    "|-------------|:--------:|:---------:|:-------------:|\n",
    "|First xgboost|  358.50  |  352.26   |      6.24     | \n",
    "|Tuned xgboost|  355.24  |  352.32   |      2.92     |"
   ]
  },
  {
   "cell_type": "markdown",
   "metadata": {},
   "source": [
    "### Train and save best model"
   ]
  },
  {
   "cell_type": "code",
   "execution_count": 66,
   "metadata": {},
   "outputs": [
    {
     "data": {
      "text/plain": [
       "{'memory': None,\n",
       " 'steps': [('categorical_encoding',\n",
       "   ColumnTransformer(remainder='passthrough',\n",
       "                     transformers=[('ordinal encoding', OrdinalEncoder(),\n",
       "                                    ['jobType', 'degree', 'industry', 'major'])])),\n",
       "  ('xgb',\n",
       "   XGBRegressor(base_score=None, booster=None, colsample_bylevel=None,\n",
       "                colsample_bynode=None, colsample_bytree=0.5, gamma=0.0001,\n",
       "                gpu_id=None, importance_type='gain', interaction_constraints=None,\n",
       "                learning_rate=0.1, max_delta_step=None, max_depth=6,\n",
       "                min_child_weight=200, missing=nan, monotone_constraints=None,\n",
       "                n_estimators=275, n_jobs=None, num_parallel_tree=None,\n",
       "                random_state=None, reg_alpha=None, reg_lambda=None,\n",
       "                scale_pos_weight=None, subsample=None, tree_method='hist',\n",
       "                validate_parameters=None, verbosity=None))],\n",
       " 'verbose': False,\n",
       " 'categorical_encoding': ColumnTransformer(remainder='passthrough',\n",
       "                   transformers=[('ordinal encoding', OrdinalEncoder(),\n",
       "                                  ['jobType', 'degree', 'industry', 'major'])]),\n",
       " 'xgb': XGBRegressor(base_score=None, booster=None, colsample_bylevel=None,\n",
       "              colsample_bynode=None, colsample_bytree=0.5, gamma=0.0001,\n",
       "              gpu_id=None, importance_type='gain', interaction_constraints=None,\n",
       "              learning_rate=0.1, max_delta_step=None, max_depth=6,\n",
       "              min_child_weight=200, missing=nan, monotone_constraints=None,\n",
       "              n_estimators=275, n_jobs=None, num_parallel_tree=None,\n",
       "              random_state=None, reg_alpha=None, reg_lambda=None,\n",
       "              scale_pos_weight=None, subsample=None, tree_method='hist',\n",
       "              validate_parameters=None, verbosity=None),\n",
       " 'categorical_encoding__n_jobs': None,\n",
       " 'categorical_encoding__remainder': 'passthrough',\n",
       " 'categorical_encoding__sparse_threshold': 0.3,\n",
       " 'categorical_encoding__transformer_weights': None,\n",
       " 'categorical_encoding__transformers': [('ordinal encoding',\n",
       "   OrdinalEncoder(),\n",
       "   ['jobType', 'degree', 'industry', 'major'])],\n",
       " 'categorical_encoding__verbose': False,\n",
       " 'categorical_encoding__ordinal encoding': OrdinalEncoder(),\n",
       " 'categorical_encoding__ordinal encoding__categories': 'auto',\n",
       " 'categorical_encoding__ordinal encoding__dtype': numpy.float64,\n",
       " 'categorical_encoding__ordinal encoding__handle_unknown': 'error',\n",
       " 'categorical_encoding__ordinal encoding__unknown_value': None,\n",
       " 'xgb__objective': 'reg:squarederror',\n",
       " 'xgb__base_score': None,\n",
       " 'xgb__booster': None,\n",
       " 'xgb__colsample_bylevel': None,\n",
       " 'xgb__colsample_bynode': None,\n",
       " 'xgb__colsample_bytree': 0.5,\n",
       " 'xgb__gamma': 0.0001,\n",
       " 'xgb__gpu_id': None,\n",
       " 'xgb__importance_type': 'gain',\n",
       " 'xgb__interaction_constraints': None,\n",
       " 'xgb__learning_rate': 0.1,\n",
       " 'xgb__max_delta_step': None,\n",
       " 'xgb__max_depth': 6,\n",
       " 'xgb__min_child_weight': 200,\n",
       " 'xgb__missing': nan,\n",
       " 'xgb__monotone_constraints': None,\n",
       " 'xgb__n_estimators': 275,\n",
       " 'xgb__n_jobs': None,\n",
       " 'xgb__num_parallel_tree': None,\n",
       " 'xgb__random_state': None,\n",
       " 'xgb__reg_alpha': None,\n",
       " 'xgb__reg_lambda': None,\n",
       " 'xgb__scale_pos_weight': None,\n",
       " 'xgb__subsample': None,\n",
       " 'xgb__tree_method': 'hist',\n",
       " 'xgb__validate_parameters': None,\n",
       " 'xgb__verbosity': None}"
      ]
     },
     "execution_count": 66,
     "metadata": {},
     "output_type": "execute_result"
    }
   ],
   "source": [
    "# Best model params\n",
    "xgboost_ord_model.get_params()"
   ]
  },
  {
   "cell_type": "code",
   "execution_count": 69,
   "metadata": {},
   "outputs": [
    {
     "data": {
      "text/html": [
       "<style>#sk-f75e4ccf-559c-46be-9efd-62b8014acaf2 {color: black;background-color: white;}#sk-f75e4ccf-559c-46be-9efd-62b8014acaf2 pre{padding: 0;}#sk-f75e4ccf-559c-46be-9efd-62b8014acaf2 div.sk-toggleable {background-color: white;}#sk-f75e4ccf-559c-46be-9efd-62b8014acaf2 label.sk-toggleable__label {cursor: pointer;display: block;width: 100%;margin-bottom: 0;padding: 0.2em 0.3em;box-sizing: border-box;text-align: center;}#sk-f75e4ccf-559c-46be-9efd-62b8014acaf2 div.sk-toggleable__content {max-height: 0;max-width: 0;overflow: hidden;text-align: left;background-color: #f0f8ff;}#sk-f75e4ccf-559c-46be-9efd-62b8014acaf2 div.sk-toggleable__content pre {margin: 0.2em;color: black;border-radius: 0.25em;background-color: #f0f8ff;}#sk-f75e4ccf-559c-46be-9efd-62b8014acaf2 input.sk-toggleable__control:checked~div.sk-toggleable__content {max-height: 200px;max-width: 100%;overflow: auto;}#sk-f75e4ccf-559c-46be-9efd-62b8014acaf2 div.sk-estimator input.sk-toggleable__control:checked~label.sk-toggleable__label {background-color: #d4ebff;}#sk-f75e4ccf-559c-46be-9efd-62b8014acaf2 div.sk-label input.sk-toggleable__control:checked~label.sk-toggleable__label {background-color: #d4ebff;}#sk-f75e4ccf-559c-46be-9efd-62b8014acaf2 input.sk-hidden--visually {border: 0;clip: rect(1px 1px 1px 1px);clip: rect(1px, 1px, 1px, 1px);height: 1px;margin: -1px;overflow: hidden;padding: 0;position: absolute;width: 1px;}#sk-f75e4ccf-559c-46be-9efd-62b8014acaf2 div.sk-estimator {font-family: monospace;background-color: #f0f8ff;margin: 0.25em 0.25em;border: 1px dotted black;border-radius: 0.25em;box-sizing: border-box;}#sk-f75e4ccf-559c-46be-9efd-62b8014acaf2 div.sk-estimator:hover {background-color: #d4ebff;}#sk-f75e4ccf-559c-46be-9efd-62b8014acaf2 div.sk-parallel-item::after {content: \"\";width: 100%;border-bottom: 1px solid gray;flex-grow: 1;}#sk-f75e4ccf-559c-46be-9efd-62b8014acaf2 div.sk-label:hover label.sk-toggleable__label {background-color: #d4ebff;}#sk-f75e4ccf-559c-46be-9efd-62b8014acaf2 div.sk-serial::before {content: \"\";position: absolute;border-left: 1px solid gray;box-sizing: border-box;top: 2em;bottom: 0;left: 50%;}#sk-f75e4ccf-559c-46be-9efd-62b8014acaf2 div.sk-serial {display: flex;flex-direction: column;align-items: center;background-color: white;}#sk-f75e4ccf-559c-46be-9efd-62b8014acaf2 div.sk-item {z-index: 1;}#sk-f75e4ccf-559c-46be-9efd-62b8014acaf2 div.sk-parallel {display: flex;align-items: stretch;justify-content: center;background-color: white;}#sk-f75e4ccf-559c-46be-9efd-62b8014acaf2 div.sk-parallel-item {display: flex;flex-direction: column;position: relative;background-color: white;}#sk-f75e4ccf-559c-46be-9efd-62b8014acaf2 div.sk-parallel-item:first-child::after {align-self: flex-end;width: 50%;}#sk-f75e4ccf-559c-46be-9efd-62b8014acaf2 div.sk-parallel-item:last-child::after {align-self: flex-start;width: 50%;}#sk-f75e4ccf-559c-46be-9efd-62b8014acaf2 div.sk-parallel-item:only-child::after {width: 0;}#sk-f75e4ccf-559c-46be-9efd-62b8014acaf2 div.sk-dashed-wrapped {border: 1px dashed gray;margin: 0.2em;box-sizing: border-box;padding-bottom: 0.1em;background-color: white;position: relative;}#sk-f75e4ccf-559c-46be-9efd-62b8014acaf2 div.sk-label label {font-family: monospace;font-weight: bold;background-color: white;display: inline-block;line-height: 1.2em;}#sk-f75e4ccf-559c-46be-9efd-62b8014acaf2 div.sk-label-container {position: relative;z-index: 2;text-align: center;}#sk-f75e4ccf-559c-46be-9efd-62b8014acaf2 div.sk-container {display: inline-block;position: relative;}</style><div id=\"sk-f75e4ccf-559c-46be-9efd-62b8014acaf2\" class\"sk-top-container\"><div class=\"sk-container\"><div class=\"sk-item sk-dashed-wrapped\"><div class=\"sk-label-container\"><div class=\"sk-label sk-toggleable\"><input class=\"sk-toggleable__control sk-hidden--visually\" id=\"d31dc5e2-ab34-476c-bd16-d477adea90e4\" type=\"checkbox\" ><label class=\"sk-toggleable__label\" for=\"d31dc5e2-ab34-476c-bd16-d477adea90e4\">Pipeline</label><div class=\"sk-toggleable__content\"><pre>Pipeline(steps=[('categorical_encoding',\n",
       "                 ColumnTransformer(remainder='passthrough',\n",
       "                                   transformers=[('ordinal encoding',\n",
       "                                                  OrdinalEncoder(),\n",
       "                                                  ['jobType', 'degree',\n",
       "                                                   'industry', 'major'])])),\n",
       "                ('xgb',\n",
       "                 XGBRegressor(base_score=0.5, booster='gbtree',\n",
       "                              colsample_bylevel=1, colsample_bynode=1,\n",
       "                              colsample_bytree=0.5, gamma=0.0001, gpu_id=-1,\n",
       "                              importance_type='gain',\n",
       "                              interaction_constraints='', learning_rate=0.1,\n",
       "                              max_delta_step=0, max_depth=6,\n",
       "                              min_child_weight=200, missing=nan,\n",
       "                              monotone_constraints='()', n_estimators=275,\n",
       "                              n_jobs=8, num_parallel_tree=1, random_state=0,\n",
       "                              reg_alpha=0, reg_lambda=1, scale_pos_weight=1,\n",
       "                              subsample=1, tree_method='hist',\n",
       "                              validate_parameters=1, verbosity=None))])</pre></div></div></div><div class=\"sk-serial\"><div class=\"sk-item sk-dashed-wrapped\"><div class=\"sk-label-container\"><div class=\"sk-label sk-toggleable\"><input class=\"sk-toggleable__control sk-hidden--visually\" id=\"e42d992d-f39a-4629-8e31-d4de8d8a91e4\" type=\"checkbox\" ><label class=\"sk-toggleable__label\" for=\"e42d992d-f39a-4629-8e31-d4de8d8a91e4\">categorical_encoding: ColumnTransformer</label><div class=\"sk-toggleable__content\"><pre>ColumnTransformer(remainder='passthrough',\n",
       "                  transformers=[('ordinal encoding', OrdinalEncoder(),\n",
       "                                 ['jobType', 'degree', 'industry', 'major'])])</pre></div></div></div><div class=\"sk-parallel\"><div class=\"sk-parallel-item\"><div class=\"sk-item\"><div class=\"sk-label-container\"><div class=\"sk-label sk-toggleable\"><input class=\"sk-toggleable__control sk-hidden--visually\" id=\"2c0ef340-765a-4b99-bb2f-91fac6f00816\" type=\"checkbox\" ><label class=\"sk-toggleable__label\" for=\"2c0ef340-765a-4b99-bb2f-91fac6f00816\">ordinal encoding</label><div class=\"sk-toggleable__content\"><pre>['jobType', 'degree', 'industry', 'major']</pre></div></div></div><div class=\"sk-serial\"><div class=\"sk-item\"><div class=\"sk-estimator sk-toggleable\"><input class=\"sk-toggleable__control sk-hidden--visually\" id=\"8cac9dd5-c44d-47dc-93aa-fd9729625e90\" type=\"checkbox\" ><label class=\"sk-toggleable__label\" for=\"8cac9dd5-c44d-47dc-93aa-fd9729625e90\">OrdinalEncoder</label><div class=\"sk-toggleable__content\"><pre>OrdinalEncoder()</pre></div></div></div></div></div></div><div class=\"sk-parallel-item\"><div class=\"sk-item\"><div class=\"sk-label-container\"><div class=\"sk-label sk-toggleable\"><input class=\"sk-toggleable__control sk-hidden--visually\" id=\"48c62674-ecf5-4209-aec7-6b6ab86657bc\" type=\"checkbox\" ><label class=\"sk-toggleable__label\" for=\"48c62674-ecf5-4209-aec7-6b6ab86657bc\">remainder</label><div class=\"sk-toggleable__content\"><pre>['yearsExperience', 'milesFromMetropolis']</pre></div></div></div><div class=\"sk-serial\"><div class=\"sk-item\"><div class=\"sk-estimator sk-toggleable\"><input class=\"sk-toggleable__control sk-hidden--visually\" id=\"cb5bb50f-02f2-45e5-84f7-c69315c32749\" type=\"checkbox\" ><label class=\"sk-toggleable__label\" for=\"cb5bb50f-02f2-45e5-84f7-c69315c32749\">passthrough</label><div class=\"sk-toggleable__content\"><pre>passthrough</pre></div></div></div></div></div></div></div></div><div class=\"sk-item\"><div class=\"sk-estimator sk-toggleable\"><input class=\"sk-toggleable__control sk-hidden--visually\" id=\"3cb8f3ad-2f18-4a6e-a657-5f683ef2ebf4\" type=\"checkbox\" ><label class=\"sk-toggleable__label\" for=\"3cb8f3ad-2f18-4a6e-a657-5f683ef2ebf4\">XGBRegressor</label><div class=\"sk-toggleable__content\"><pre>XGBRegressor(base_score=0.5, booster='gbtree', colsample_bylevel=1,\n",
       "             colsample_bynode=1, colsample_bytree=0.5, gamma=0.0001, gpu_id=-1,\n",
       "             importance_type='gain', interaction_constraints='',\n",
       "             learning_rate=0.1, max_delta_step=0, max_depth=6,\n",
       "             min_child_weight=200, missing=nan, monotone_constraints='()',\n",
       "             n_estimators=275, n_jobs=8, num_parallel_tree=1, random_state=0,\n",
       "             reg_alpha=0, reg_lambda=1, scale_pos_weight=1, subsample=1,\n",
       "             tree_method='hist', validate_parameters=1, verbosity=None)</pre></div></div></div></div></div></div></div>"
      ],
      "text/plain": [
       "Pipeline(steps=[('categorical_encoding',\n",
       "                 ColumnTransformer(remainder='passthrough',\n",
       "                                   transformers=[('ordinal encoding',\n",
       "                                                  OrdinalEncoder(),\n",
       "                                                  ['jobType', 'degree',\n",
       "                                                   'industry', 'major'])])),\n",
       "                ('xgb',\n",
       "                 XGBRegressor(base_score=0.5, booster='gbtree',\n",
       "                              colsample_bylevel=1, colsample_bynode=1,\n",
       "                              colsample_bytree=0.5, gamma=0.0001, gpu_id=-1,\n",
       "                              importance_type='gain',\n",
       "                              interaction_constraints='', learning_rate=0.1,\n",
       "                              max_delta_step=0, max_depth=6,\n",
       "                              min_child_weight=200, missing=nan,\n",
       "                              monotone_constraints='()', n_estimators=275,\n",
       "                              n_jobs=8, num_parallel_tree=1, random_state=0,\n",
       "                              reg_alpha=0, reg_lambda=1, scale_pos_weight=1,\n",
       "                              subsample=1, tree_method='hist',\n",
       "                              validate_parameters=1, verbosity=None))])"
      ]
     },
     "execution_count": 69,
     "metadata": {},
     "output_type": "execute_result"
    }
   ],
   "source": [
    "xgboost_ord_model.fit(train_df, target)"
   ]
  },
  {
   "cell_type": "code",
   "execution_count": 74,
   "metadata": {},
   "outputs": [],
   "source": [
    "with open('../models/salary_prediction_xgboost_v1.pkl', 'wb') as file:\n",
    "    pickle.dump(xgboost_ord_model, file)"
   ]
  },
  {
   "cell_type": "code",
   "execution_count": 75,
   "metadata": {},
   "outputs": [
    {
     "data": {
      "text/plain": [
       "array([ 79.6578  , 103.51608 ,  51.150364, ..., 132.93355 ,  98.894585,\n",
       "        75.00058 ], dtype=float32)"
      ]
     },
     "execution_count": 75,
     "metadata": {},
     "output_type": "execute_result"
    }
   ],
   "source": [
    "xgboost_ord_model.predict(train_df)"
   ]
  }
 ],
 "metadata": {
  "kernelspec": {
   "display_name": ".venv",
   "language": "python",
   "name": ".venv"
  },
  "language_info": {
   "codemirror_mode": {
    "name": "ipython",
    "version": 3
   },
   "file_extension": ".py",
   "mimetype": "text/x-python",
   "name": "python",
   "nbconvert_exporter": "python",
   "pygments_lexer": "ipython3",
   "version": "3.7.6"
  }
 },
 "nbformat": 4,
 "nbformat_minor": 4
}
