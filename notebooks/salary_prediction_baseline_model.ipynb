{
 "cells": [
  {
   "cell_type": "markdown",
   "metadata": {},
   "source": [
    "# Baseline model \n",
    "\n",
    "Ideas based on analysis:\n",
    "- Using an average of one of the categorical variables as the sole predictor\n",
    "- Using a combination of 2 or more (possibly all) of the categorical variables and calculating the average as the predictors\n",
    "- Be able to incorporate the continuous variables\n",
    "    + we can calculate the average of each of the values, subtract those averages from the mean of the overall salary data and add it to the prediction\n",
    "\n",
    "*fitting the numeric data*\n",
    "1. calculate the mean of the target on the data used for fitting\n",
    "2. calculate the average salary per each value of the numeric variable (0-25 for years, 0 - 99 for miles)\n",
    "3. get a difference between the grouped averages and the overall average\n",
    "4. store it\n",
    "\n",
    "*predictions with numeric predictors*\n",
    "(this is after the category predictions are made)\n",
    "1. after ensuring that the variables are in the data\n",
    "2. loop over the self.numeric_vars list and join with on = the looping var (key of the dict) \n",
    "3. take the rowsum of the category preds and the numeric diff columns \n",
    "4. drop category preds and the numeric diff columns \n",
    "5. profit"
   ]
  },
  {
   "cell_type": "markdown",
   "metadata": {},
   "source": [
    "___"
   ]
  },
  {
   "cell_type": "code",
   "execution_count": 76,
   "metadata": {},
   "outputs": [],
   "source": [
    "import pandas as pd\n",
    "import numpy as np\n",
    "from itertools import combinations\n",
    "import seaborn as sns\n",
    "import matplotlib.pyplot as plt\n",
    "from sklearn.metrics import mean_squared_error\n",
    "\n",
    "from src.eda_utils import salary_per_category_table\n",
    "from src.Baseline import BaselineModel"
   ]
  },
  {
   "cell_type": "markdown",
   "metadata": {},
   "source": [
    "# Load data"
   ]
  },
  {
   "cell_type": "code",
   "execution_count": 2,
   "metadata": {},
   "outputs": [],
   "source": [
    "train_salaries = pd.read_csv(\"../data/interim/salaries_train_85_15_split.csv\", index_col = 0)\n",
    "test_salaries = pd.read_csv(\"../data/interim/salaries_test_85_15_split.csv\", index_col = 0)"
   ]
  },
  {
   "cell_type": "code",
   "execution_count": 3,
   "metadata": {},
   "outputs": [
    {
     "name": "stdout",
     "output_type": "stream",
     "text": [
      "training set shape: (850000, 8)\n",
      "test set shape: (150000, 8)\n"
     ]
    }
   ],
   "source": [
    "print(f\"training set shape: {train_salaries.shape}\")\n",
    "print(f\"test set shape: {test_salaries.shape}\")"
   ]
  },
  {
   "cell_type": "markdown",
   "metadata": {},
   "source": [
    "#### steps for running all combos of baseline models\n",
    "\n",
    "- get all combinations\n",
    "    - make a list of each categorical variable as an element  \n",
    "    - extend the list with all 2&3 combos as well as the list of all four variables -- each element of this list is a 'category_var' argument to try  \n",
    "    - for each element in the combo list  \n",
    "        - for each element of the numeric_combos\n",
    "            - init baseline model with the params  \n",
    "            - run evaluate which spits out main metrics  \n",
    "            - assemble these metrics into a list of  \n",
    "\n"
   ]
  },
  {
   "cell_type": "markdown",
   "metadata": {},
   "source": [
    "#### All combinations of categorical variables"
   ]
  },
  {
   "cell_type": "code",
   "execution_count": 4,
   "metadata": {},
   "outputs": [
    {
     "data": {
      "text/plain": [
       "[['jobType'],\n",
       " ['degree'],\n",
       " ['major'],\n",
       " ['industry'],\n",
       " ['jobType', 'degree'],\n",
       " ['jobType', 'major'],\n",
       " ['jobType', 'industry'],\n",
       " ['degree', 'major'],\n",
       " ['degree', 'industry'],\n",
       " ['major', 'industry'],\n",
       " ['jobType', 'degree', 'major'],\n",
       " ['jobType', 'degree', 'industry'],\n",
       " ['jobType', 'major', 'industry'],\n",
       " ['degree', 'major', 'industry'],\n",
       " ['jobType', 'degree', 'major', 'industry']]"
      ]
     },
     "execution_count": 4,
     "metadata": {},
     "output_type": "execute_result"
    }
   ],
   "source": [
    "numeric_combos = [None, 'yearsExperience', 'milesFromMetropolis', ['yearsExperience', 'milesFromMetropolis']]\n",
    "category_vars = ['jobType', 'degree', 'major', 'industry']\n",
    "\n",
    "\n",
    "category_combos = []\n",
    "for i in range(1,5):\n",
    "    combos = combinations(category_vars, i)\n",
    "    for j in combos:\n",
    "        category_combos.append(list(j))\n",
    "\n",
    "category_combos"
   ]
  },
  {
   "cell_type": "code",
   "execution_count": 5,
   "metadata": {},
   "outputs": [
    {
     "data": {
      "text/plain": [
       "15"
      ]
     },
     "execution_count": 5,
     "metadata": {},
     "output_type": "execute_result"
    }
   ],
   "source": [
    "len(category_combos)"
   ]
  },
  {
   "cell_type": "markdown",
   "metadata": {},
   "source": [
    "# `BaselineModel` Class\n",
    "\n",
    "*Params*\n",
    "- constructor:\n",
    "    + grouping_vars: list of categorical variables to group on for fitting\n",
    "    + numeric_vars:  list of numerical variables to fit \n",
    "    \n",
    "*Methods*\n",
    "- fit():\n",
    "    + For the grouping variables, this calculates the average salary per group and stores this values with each grouping variable as an index\n",
    "    + For the numeric variables, this groups by each value and calculates the mean and stores it with each value of the variable as the index and the average as the value"
   ]
  },
  {
   "cell_type": "code",
   "execution_count": 6,
   "metadata": {},
   "outputs": [],
   "source": [
    "BL = BaselineModel(category_vars = ['jobType'], numeric_vars = ['yearsExperience', 'milesFromMetropolis'])\n",
    "\n",
    "BL.fit(train_salaries)"
   ]
  },
  {
   "cell_type": "code",
   "execution_count": 7,
   "metadata": {},
   "outputs": [
    {
     "data": {
      "text/html": [
       "<div>\n",
       "<style scoped>\n",
       "    .dataframe tbody tr th:only-of-type {\n",
       "        vertical-align: middle;\n",
       "    }\n",
       "\n",
       "    .dataframe tbody tr th {\n",
       "        vertical-align: top;\n",
       "    }\n",
       "\n",
       "    .dataframe thead th {\n",
       "        text-align: right;\n",
       "    }\n",
       "</style>\n",
       "<table border=\"1\" class=\"dataframe\">\n",
       "  <thead>\n",
       "    <tr style=\"text-align: right;\">\n",
       "      <th></th>\n",
       "      <th>salary_preds</th>\n",
       "    </tr>\n",
       "    <tr>\n",
       "      <th>jobType</th>\n",
       "      <th></th>\n",
       "    </tr>\n",
       "  </thead>\n",
       "  <tbody>\n",
       "    <tr>\n",
       "      <th>JANITOR</th>\n",
       "      <td>70.803050</td>\n",
       "    </tr>\n",
       "    <tr>\n",
       "      <th>JUNIOR</th>\n",
       "      <td>95.293570</td>\n",
       "    </tr>\n",
       "    <tr>\n",
       "      <th>SENIOR</th>\n",
       "      <td>105.453358</td>\n",
       "    </tr>\n",
       "    <tr>\n",
       "      <th>MANAGER</th>\n",
       "      <td>115.373455</td>\n",
       "    </tr>\n",
       "    <tr>\n",
       "      <th>VICE_PRESIDENT</th>\n",
       "      <td>125.408850</td>\n",
       "    </tr>\n",
       "    <tr>\n",
       "      <th>CFO</th>\n",
       "      <td>135.419149</td>\n",
       "    </tr>\n",
       "    <tr>\n",
       "      <th>CTO</th>\n",
       "      <td>135.436604</td>\n",
       "    </tr>\n",
       "    <tr>\n",
       "      <th>CEO</th>\n",
       "      <td>145.294699</td>\n",
       "    </tr>\n",
       "  </tbody>\n",
       "</table>\n",
       "</div>"
      ],
      "text/plain": [
       "                salary_preds\n",
       "jobType                     \n",
       "JANITOR            70.803050\n",
       "JUNIOR             95.293570\n",
       "SENIOR            105.453358\n",
       "MANAGER           115.373455\n",
       "VICE_PRESIDENT    125.408850\n",
       "CFO               135.419149\n",
       "CTO               135.436604\n",
       "CEO               145.294699"
      ]
     },
     "execution_count": 7,
     "metadata": {},
     "output_type": "execute_result"
    }
   ],
   "source": [
    "BL.fitted_category_salaries"
   ]
  },
  {
   "cell_type": "code",
   "execution_count": 8,
   "metadata": {},
   "outputs": [
    {
     "data": {
      "text/plain": [
       "{'yearsExperience': yearsExperience\n",
       " 0    -24.075262\n",
       " 1    -22.003893\n",
       " 2    -19.902739\n",
       " 3    -18.064601\n",
       " 4    -16.006295\n",
       " 5    -14.357224\n",
       " 6    -12.178370\n",
       " 7     -9.936446\n",
       " 8     -8.204512\n",
       " 9     -5.968044\n",
       " 10    -3.909673\n",
       " 11    -2.123951\n",
       " 12     0.303384\n",
       " 13     1.826478\n",
       " 14     4.310913\n",
       " 15     5.845097\n",
       " 16     7.997639\n",
       " 17     9.969655\n",
       " 18    12.200942\n",
       " 19    14.059601\n",
       " 20    16.066983\n",
       " 21    18.083717\n",
       " 22    20.265988\n",
       " 23    22.417038\n",
       " 24    23.962186\n",
       " Name: yearsExperience_diff, dtype: float64,\n",
       " 'milesFromMetropolis': milesFromMetropolis\n",
       " 0     19.493479\n",
       " 1     19.439336\n",
       " 2     18.596964\n",
       " 3     18.781135\n",
       " 4     19.073243\n",
       "         ...    \n",
       " 95   -17.967574\n",
       " 96   -18.699601\n",
       " 97   -18.714007\n",
       " 98   -19.227586\n",
       " 99   -20.227277\n",
       " Name: milesFromMetropolis_diff, Length: 100, dtype: float64}"
      ]
     },
     "execution_count": 8,
     "metadata": {},
     "output_type": "execute_result"
    }
   ],
   "source": [
    "BL.fitted_numeric_salaries"
   ]
  },
  {
   "cell_type": "code",
   "execution_count": 9,
   "metadata": {},
   "outputs": [
    {
     "data": {
      "text/html": [
       "<div>\n",
       "<style scoped>\n",
       "    .dataframe tbody tr th:only-of-type {\n",
       "        vertical-align: middle;\n",
       "    }\n",
       "\n",
       "    .dataframe tbody tr th {\n",
       "        vertical-align: top;\n",
       "    }\n",
       "\n",
       "    .dataframe thead th {\n",
       "        text-align: right;\n",
       "    }\n",
       "</style>\n",
       "<table border=\"1\" class=\"dataframe\">\n",
       "  <thead>\n",
       "    <tr style=\"text-align: right;\">\n",
       "      <th></th>\n",
       "      <th>jobId</th>\n",
       "      <th>jobType</th>\n",
       "      <th>degree</th>\n",
       "      <th>major</th>\n",
       "      <th>industry</th>\n",
       "      <th>yearsExperience</th>\n",
       "      <th>milesFromMetropolis</th>\n",
       "      <th>salary</th>\n",
       "      <th>salary_preds</th>\n",
       "      <th>yearsExperience_diff</th>\n",
       "      <th>milesFromMetropolis_diff</th>\n",
       "      <th>sum_numeric_diff</th>\n",
       "      <th>mean_numeric_diff</th>\n",
       "      <th>preds_with_sum</th>\n",
       "      <th>preds_with_mean</th>\n",
       "      <th>category_preds_tmp</th>\n",
       "    </tr>\n",
       "  </thead>\n",
       "  <tbody>\n",
       "    <tr>\n",
       "      <th>891719</th>\n",
       "      <td>JOB1362685299406</td>\n",
       "      <td>SENIOR</td>\n",
       "      <td>BACHELORS</td>\n",
       "      <td>PHYSICS</td>\n",
       "      <td>WEB</td>\n",
       "      <td>21</td>\n",
       "      <td>68</td>\n",
       "      <td>128</td>\n",
       "      <td>116.172347</td>\n",
       "      <td>18.083717</td>\n",
       "      <td>-7.364728</td>\n",
       "      <td>10.718989</td>\n",
       "      <td>5.359495</td>\n",
       "      <td>116.172347</td>\n",
       "      <td>110.812852</td>\n",
       "      <td>105.453358</td>\n",
       "    </tr>\n",
       "    <tr>\n",
       "      <th>177062</th>\n",
       "      <td>JOB1362684584749</td>\n",
       "      <td>CTO</td>\n",
       "      <td>NONE</td>\n",
       "      <td>NONE</td>\n",
       "      <td>HEALTH</td>\n",
       "      <td>1</td>\n",
       "      <td>14</td>\n",
       "      <td>116</td>\n",
       "      <td>127.494060</td>\n",
       "      <td>-22.003893</td>\n",
       "      <td>14.061349</td>\n",
       "      <td>-7.942544</td>\n",
       "      <td>-3.971272</td>\n",
       "      <td>127.494060</td>\n",
       "      <td>131.465332</td>\n",
       "      <td>135.436604</td>\n",
       "    </tr>\n",
       "    <tr>\n",
       "      <th>27080</th>\n",
       "      <td>JOB1362684434767</td>\n",
       "      <td>SENIOR</td>\n",
       "      <td>HIGH_SCHOOL</td>\n",
       "      <td>NONE</td>\n",
       "      <td>OIL</td>\n",
       "      <td>11</td>\n",
       "      <td>49</td>\n",
       "      <td>133</td>\n",
       "      <td>103.411285</td>\n",
       "      <td>-2.123951</td>\n",
       "      <td>0.081878</td>\n",
       "      <td>-2.042073</td>\n",
       "      <td>-1.021036</td>\n",
       "      <td>103.411285</td>\n",
       "      <td>104.432322</td>\n",
       "      <td>105.453358</td>\n",
       "    </tr>\n",
       "    <tr>\n",
       "      <th>546274</th>\n",
       "      <td>JOB1362684953961</td>\n",
       "      <td>CEO</td>\n",
       "      <td>NONE</td>\n",
       "      <td>NONE</td>\n",
       "      <td>AUTO</td>\n",
       "      <td>17</td>\n",
       "      <td>65</td>\n",
       "      <td>126</td>\n",
       "      <td>148.675579</td>\n",
       "      <td>9.969655</td>\n",
       "      <td>-6.588774</td>\n",
       "      <td>3.380881</td>\n",
       "      <td>1.690440</td>\n",
       "      <td>148.675579</td>\n",
       "      <td>146.985139</td>\n",
       "      <td>145.294699</td>\n",
       "    </tr>\n",
       "    <tr>\n",
       "      <th>832069</th>\n",
       "      <td>JOB1362685239756</td>\n",
       "      <td>JUNIOR</td>\n",
       "      <td>HIGH_SCHOOL</td>\n",
       "      <td>NONE</td>\n",
       "      <td>OIL</td>\n",
       "      <td>24</td>\n",
       "      <td>26</td>\n",
       "      <td>137</td>\n",
       "      <td>129.001496</td>\n",
       "      <td>23.962186</td>\n",
       "      <td>9.745740</td>\n",
       "      <td>33.707926</td>\n",
       "      <td>16.853963</td>\n",
       "      <td>129.001496</td>\n",
       "      <td>112.147533</td>\n",
       "      <td>95.293570</td>\n",
       "    </tr>\n",
       "    <tr>\n",
       "      <th>...</th>\n",
       "      <td>...</td>\n",
       "      <td>...</td>\n",
       "      <td>...</td>\n",
       "      <td>...</td>\n",
       "      <td>...</td>\n",
       "      <td>...</td>\n",
       "      <td>...</td>\n",
       "      <td>...</td>\n",
       "      <td>...</td>\n",
       "      <td>...</td>\n",
       "      <td>...</td>\n",
       "      <td>...</td>\n",
       "      <td>...</td>\n",
       "      <td>...</td>\n",
       "      <td>...</td>\n",
       "      <td>...</td>\n",
       "    </tr>\n",
       "    <tr>\n",
       "      <th>259178</th>\n",
       "      <td>JOB1362684666865</td>\n",
       "      <td>CTO</td>\n",
       "      <td>HIGH_SCHOOL</td>\n",
       "      <td>NONE</td>\n",
       "      <td>EDUCATION</td>\n",
       "      <td>1</td>\n",
       "      <td>34</td>\n",
       "      <td>113</td>\n",
       "      <td>119.847574</td>\n",
       "      <td>-22.003893</td>\n",
       "      <td>6.414863</td>\n",
       "      <td>-15.589030</td>\n",
       "      <td>-7.794515</td>\n",
       "      <td>119.847574</td>\n",
       "      <td>127.642089</td>\n",
       "      <td>135.436604</td>\n",
       "    </tr>\n",
       "    <tr>\n",
       "      <th>365838</th>\n",
       "      <td>JOB1362684773525</td>\n",
       "      <td>VICE_PRESIDENT</td>\n",
       "      <td>BACHELORS</td>\n",
       "      <td>COMPSCI</td>\n",
       "      <td>EDUCATION</td>\n",
       "      <td>2</td>\n",
       "      <td>38</td>\n",
       "      <td>109</td>\n",
       "      <td>110.125792</td>\n",
       "      <td>-19.902739</td>\n",
       "      <td>4.619681</td>\n",
       "      <td>-15.283058</td>\n",
       "      <td>-7.641529</td>\n",
       "      <td>110.125792</td>\n",
       "      <td>117.767321</td>\n",
       "      <td>125.408850</td>\n",
       "    </tr>\n",
       "    <tr>\n",
       "      <th>131932</th>\n",
       "      <td>JOB1362684539619</td>\n",
       "      <td>SENIOR</td>\n",
       "      <td>BACHELORS</td>\n",
       "      <td>ENGINEERING</td>\n",
       "      <td>EDUCATION</td>\n",
       "      <td>8</td>\n",
       "      <td>19</td>\n",
       "      <td>123</td>\n",
       "      <td>109.666315</td>\n",
       "      <td>-8.204512</td>\n",
       "      <td>12.417469</td>\n",
       "      <td>4.212957</td>\n",
       "      <td>2.106478</td>\n",
       "      <td>109.666315</td>\n",
       "      <td>107.559836</td>\n",
       "      <td>105.453358</td>\n",
       "    </tr>\n",
       "    <tr>\n",
       "      <th>671155</th>\n",
       "      <td>JOB1362685078842</td>\n",
       "      <td>CEO</td>\n",
       "      <td>MASTERS</td>\n",
       "      <td>COMPSCI</td>\n",
       "      <td>WEB</td>\n",
       "      <td>9</td>\n",
       "      <td>30</td>\n",
       "      <td>165</td>\n",
       "      <td>147.796357</td>\n",
       "      <td>-5.968044</td>\n",
       "      <td>8.469702</td>\n",
       "      <td>2.501658</td>\n",
       "      <td>1.250829</td>\n",
       "      <td>147.796357</td>\n",
       "      <td>146.545528</td>\n",
       "      <td>145.294699</td>\n",
       "    </tr>\n",
       "    <tr>\n",
       "      <th>121958</th>\n",
       "      <td>JOB1362684529645</td>\n",
       "      <td>CTO</td>\n",
       "      <td>MASTERS</td>\n",
       "      <td>PHYSICS</td>\n",
       "      <td>EDUCATION</td>\n",
       "      <td>0</td>\n",
       "      <td>61</td>\n",
       "      <td>79</td>\n",
       "      <td>106.710891</td>\n",
       "      <td>-24.075262</td>\n",
       "      <td>-4.650450</td>\n",
       "      <td>-28.725712</td>\n",
       "      <td>-14.362856</td>\n",
       "      <td>106.710891</td>\n",
       "      <td>121.073748</td>\n",
       "      <td>135.436604</td>\n",
       "    </tr>\n",
       "  </tbody>\n",
       "</table>\n",
       "<p>850000 rows × 16 columns</p>\n",
       "</div>"
      ],
      "text/plain": [
       "                   jobId         jobType       degree        major   industry  \\\n",
       "891719  JOB1362685299406          SENIOR    BACHELORS      PHYSICS        WEB   \n",
       "177062  JOB1362684584749             CTO         NONE         NONE     HEALTH   \n",
       "27080   JOB1362684434767          SENIOR  HIGH_SCHOOL         NONE        OIL   \n",
       "546274  JOB1362684953961             CEO         NONE         NONE       AUTO   \n",
       "832069  JOB1362685239756          JUNIOR  HIGH_SCHOOL         NONE        OIL   \n",
       "...                  ...             ...          ...          ...        ...   \n",
       "259178  JOB1362684666865             CTO  HIGH_SCHOOL         NONE  EDUCATION   \n",
       "365838  JOB1362684773525  VICE_PRESIDENT    BACHELORS      COMPSCI  EDUCATION   \n",
       "131932  JOB1362684539619          SENIOR    BACHELORS  ENGINEERING  EDUCATION   \n",
       "671155  JOB1362685078842             CEO      MASTERS      COMPSCI        WEB   \n",
       "121958  JOB1362684529645             CTO      MASTERS      PHYSICS  EDUCATION   \n",
       "\n",
       "        yearsExperience  milesFromMetropolis  salary  salary_preds  \\\n",
       "891719               21                   68     128    116.172347   \n",
       "177062                1                   14     116    127.494060   \n",
       "27080                11                   49     133    103.411285   \n",
       "546274               17                   65     126    148.675579   \n",
       "832069               24                   26     137    129.001496   \n",
       "...                 ...                  ...     ...           ...   \n",
       "259178                1                   34     113    119.847574   \n",
       "365838                2                   38     109    110.125792   \n",
       "131932                8                   19     123    109.666315   \n",
       "671155                9                   30     165    147.796357   \n",
       "121958                0                   61      79    106.710891   \n",
       "\n",
       "        yearsExperience_diff  milesFromMetropolis_diff  sum_numeric_diff  \\\n",
       "891719             18.083717                 -7.364728         10.718989   \n",
       "177062            -22.003893                 14.061349         -7.942544   \n",
       "27080              -2.123951                  0.081878         -2.042073   \n",
       "546274              9.969655                 -6.588774          3.380881   \n",
       "832069             23.962186                  9.745740         33.707926   \n",
       "...                      ...                       ...               ...   \n",
       "259178            -22.003893                  6.414863        -15.589030   \n",
       "365838            -19.902739                  4.619681        -15.283058   \n",
       "131932             -8.204512                 12.417469          4.212957   \n",
       "671155             -5.968044                  8.469702          2.501658   \n",
       "121958            -24.075262                 -4.650450        -28.725712   \n",
       "\n",
       "        mean_numeric_diff  preds_with_sum  preds_with_mean  category_preds_tmp  \n",
       "891719           5.359495      116.172347       110.812852          105.453358  \n",
       "177062          -3.971272      127.494060       131.465332          135.436604  \n",
       "27080           -1.021036      103.411285       104.432322          105.453358  \n",
       "546274           1.690440      148.675579       146.985139          145.294699  \n",
       "832069          16.853963      129.001496       112.147533           95.293570  \n",
       "...                   ...             ...              ...                 ...  \n",
       "259178          -7.794515      119.847574       127.642089          135.436604  \n",
       "365838          -7.641529      110.125792       117.767321          125.408850  \n",
       "131932           2.106478      109.666315       107.559836          105.453358  \n",
       "671155           1.250829      147.796357       146.545528          145.294699  \n",
       "121958         -14.362856      106.710891       121.073748          135.436604  \n",
       "\n",
       "[850000 rows x 16 columns]"
      ]
     },
     "execution_count": 9,
     "metadata": {},
     "output_type": "execute_result"
    }
   ],
   "source": [
    "preds = BL.predict(train_salaries, return_only_preds = False, return_all_cols=True)\n",
    "preds"
   ]
  },
  {
   "cell_type": "code",
   "execution_count": 10,
   "metadata": {},
   "outputs": [
    {
     "name": "stdout",
     "output_type": "stream",
     "text": [
      "preds_with_sum MSE: 620.6185530723998\n",
      "preds_with_mean MSE: 705.9972780832111\n"
     ]
    }
   ],
   "source": [
    "print(f\"preds_with_sum MSE: {mean_squared_error(preds.salary, preds.preds_with_sum)}\")\n",
    "print(f\"preds_with_mean MSE: {mean_squared_error(preds.salary, preds.preds_with_mean)}\")"
   ]
  },
  {
   "cell_type": "markdown",
   "metadata": {},
   "source": [
    "#### Evaluate function"
   ]
  },
  {
   "cell_type": "code",
   "execution_count": 11,
   "metadata": {},
   "outputs": [],
   "source": [
    "# Args\n",
    "cat_arg = ['jobType']\n",
    "num_arg = ['yearsExperience', 'milesFromMetropolis']\n",
    "\n",
    "# Instantiate model\n",
    "mdl = BaselineModel(category_vars=cat_arg, numeric_vars=num_arg)\n",
    "\n",
    "# Fit the model\n",
    "\n",
    "# Get training error\n",
    "\n",
    "# Get test error\n",
    "\n",
    "# output"
   ]
  },
  {
   "cell_type": "code",
   "execution_count": 14,
   "metadata": {},
   "outputs": [
    {
     "data": {
      "text/plain": [
       "{'training_error': 705.9972780832111, 'test_error': 710.8309714912285}"
      ]
     },
     "execution_count": 14,
     "metadata": {},
     "output_type": "execute_result"
    }
   ],
   "source": [
    "mdl.evaluate(train_salaries, test_salaries, numeric_combo = 'mean')"
   ]
  },
  {
   "cell_type": "markdown",
   "metadata": {},
   "source": [
    "#### data output of the loop\n",
    "\n",
    "for each category combo, turn it into the index  \n",
    "columns measuring MSE for: just categories, years, miles, both, both with mean, both with sum "
   ]
  },
  {
   "cell_type": "code",
   "execution_count": 15,
   "metadata": {},
   "outputs": [
    {
     "data": {
      "text/plain": [
       "[['jobType'],\n",
       " ['degree'],\n",
       " ['major'],\n",
       " ['industry'],\n",
       " ['jobType', 'degree'],\n",
       " ['jobType', 'major'],\n",
       " ['jobType', 'industry'],\n",
       " ['degree', 'major'],\n",
       " ['degree', 'industry'],\n",
       " ['major', 'industry'],\n",
       " ['jobType', 'degree', 'major'],\n",
       " ['jobType', 'degree', 'industry'],\n",
       " ['jobType', 'major', 'industry'],\n",
       " ['degree', 'major', 'industry'],\n",
       " ['jobType', 'degree', 'major', 'industry']]"
      ]
     },
     "execution_count": 15,
     "metadata": {},
     "output_type": "execute_result"
    }
   ],
   "source": [
    "category_combos"
   ]
  },
  {
   "cell_type": "code",
   "execution_count": 19,
   "metadata": {},
   "outputs": [
    {
     "data": {
      "text/plain": [
       "{'only_categorical': <src.Baseline.BaselineModel at 0x2392f4d8048>,\n",
       " 'yearsExperience': <src.Baseline.BaselineModel at 0x2392f4d8208>,\n",
       " 'milesFromMetropolis': <src.Baseline.BaselineModel at 0x2392f4d8ec8>,\n",
       " 'both': <src.Baseline.BaselineModel at 0x2392f39be08>}"
      ]
     },
     "execution_count": 19,
     "metadata": {},
     "output_type": "execute_result"
    }
   ],
   "source": [
    "model_names = ['only_categorical', 'yearsExperience', 'milesFromMetropolis', 'both']\n",
    "\n",
    "models = {model_names[i]: BaselineModel('jobType', numeric_combos[i]) for i in range(len(model_names))}\n",
    "models\n",
    "\n",
    "# for i in category_combos:\n",
    "#     mdl_categorical = BaselineModel(category_vars = i)\n",
    "#     mdl_years = BaselineModel(category_vars = i, numeric_vars='yearsExperience')\n",
    "#     mdl_miles = BaselineModel(category_vars = i, numeric_vars='milesFromMetropolis')\n",
    "#     mdl_both = BaselineModel(category_vars=i, numeric_vars=['yearsExperience', 'milesFromMetropolis'])"
   ]
  },
  {
   "cell_type": "markdown",
   "metadata": {},
   "source": [
    "#### find_best() function prototype"
   ]
  },
  {
   "cell_type": "code",
   "execution_count": 45,
   "metadata": {},
   "outputs": [],
   "source": [
    "df_index = []\n",
    "df_data = []\n",
    "\n",
    "for categories in category_combos:\n",
    "    df_row = {}\n",
    "    df_index.append(\", \".join(categories))\n",
    "    \n",
    "    models = {model_names[i]: BaselineModel(categories, numeric_combos[i]) for i in range(len(model_names))}\n",
    "    \n",
    "    for i in models:\n",
    "        # For both numeric cols calculate mean and sum methods of combining the numeric predictors\n",
    "        if i == 'both':\n",
    "            for combo in ['mean', 'sum']:\n",
    "                df_row[f'{i}_{combo}'] = models[i].evaluate(train_salaries, test_salaries, numeric_combo = combo)['test_error']\n",
    "                \n",
    "        else:\n",
    "            df_row[i] = models[i].evaluate(train_salaries, test_salaries)['test_error']\n",
    "    \n",
    "    df_data.append(df_row)"
   ]
  },
  {
   "cell_type": "code",
   "execution_count": 46,
   "metadata": {},
   "outputs": [
    {
     "data": {
      "text/plain": [
       "1000000.0"
      ]
     },
     "execution_count": 46,
     "metadata": {},
     "output_type": "execute_result"
    }
   ],
   "source": [
    "1e6"
   ]
  },
  {
   "cell_type": "code",
   "execution_count": 72,
   "metadata": {},
   "outputs": [],
   "source": [
    "test_df = pd.DataFrame(df_data, index = df_index)"
   ]
  },
  {
   "cell_type": "code",
   "execution_count": 73,
   "metadata": {},
   "outputs": [
    {
     "data": {
      "text/html": [
       "<div>\n",
       "<style scoped>\n",
       "    .dataframe tbody tr th:only-of-type {\n",
       "        vertical-align: middle;\n",
       "    }\n",
       "\n",
       "    .dataframe tbody tr th {\n",
       "        vertical-align: top;\n",
       "    }\n",
       "\n",
       "    .dataframe thead th {\n",
       "        text-align: right;\n",
       "    }\n",
       "</style>\n",
       "<table border=\"1\" class=\"dataframe\">\n",
       "  <thead>\n",
       "    <tr style=\"text-align: right;\">\n",
       "      <th></th>\n",
       "      <th>only_categorical</th>\n",
       "      <th>yearsExperience</th>\n",
       "      <th>milesFromMetropolis</th>\n",
       "      <th>both_mean</th>\n",
       "      <th>both_sum</th>\n",
       "    </tr>\n",
       "  </thead>\n",
       "  <tbody>\n",
       "    <tr>\n",
       "      <th>jobType</th>\n",
       "      <td>970.339894</td>\n",
       "      <td>757.845939</td>\n",
       "      <td>835.945286</td>\n",
       "      <td>710.830971</td>\n",
       "      <td>622.451475</td>\n",
       "    </tr>\n",
       "    <tr>\n",
       "      <th>degree</th>\n",
       "      <td>1262.336448</td>\n",
       "      <td>1049.941439</td>\n",
       "      <td>1127.962300</td>\n",
       "      <td>1002.887229</td>\n",
       "      <td>914.567436</td>\n",
       "    </tr>\n",
       "    <tr>\n",
       "      <th>major</th>\n",
       "      <td>1288.942168</td>\n",
       "      <td>1075.819089</td>\n",
       "      <td>1155.102219</td>\n",
       "      <td>1029.396013</td>\n",
       "      <td>940.979284</td>\n",
       "    </tr>\n",
       "    <tr>\n",
       "      <th>industry</th>\n",
       "      <td>1376.210472</td>\n",
       "      <td>1162.751731</td>\n",
       "      <td>1242.291772</td>\n",
       "      <td>1116.457111</td>\n",
       "      <td>1027.833176</td>\n",
       "    </tr>\n",
       "    <tr>\n",
       "      <th>jobType, degree</th>\n",
       "      <td>873.828005</td>\n",
       "      <td>661.975171</td>\n",
       "      <td>739.758036</td>\n",
       "      <td>614.801962</td>\n",
       "      <td>526.905347</td>\n",
       "    </tr>\n",
       "    <tr>\n",
       "      <th>jobType, major</th>\n",
       "      <td>881.622029</td>\n",
       "      <td>669.262451</td>\n",
       "      <td>747.865518</td>\n",
       "      <td>622.499344</td>\n",
       "      <td>534.506085</td>\n",
       "    </tr>\n",
       "    <tr>\n",
       "      <th>jobType, industry</th>\n",
       "      <td>839.131042</td>\n",
       "      <td>626.756967</td>\n",
       "      <td>705.366412</td>\n",
       "      <td>579.997049</td>\n",
       "      <td>491.992482</td>\n",
       "    </tr>\n",
       "    <tr>\n",
       "      <th>degree, major</th>\n",
       "      <td>1250.085581</td>\n",
       "      <td>1037.621574</td>\n",
       "      <td>1116.118072</td>\n",
       "      <td>990.805182</td>\n",
       "      <td>902.654209</td>\n",
       "    </tr>\n",
       "    <tr>\n",
       "      <th>degree, industry</th>\n",
       "      <td>1130.474565</td>\n",
       "      <td>918.162213</td>\n",
       "      <td>996.770889</td>\n",
       "      <td>871.401910</td>\n",
       "      <td>783.458682</td>\n",
       "    </tr>\n",
       "    <tr>\n",
       "      <th>major, industry</th>\n",
       "      <td>1145.100338</td>\n",
       "      <td>932.045073</td>\n",
       "      <td>1011.902215</td>\n",
       "      <td>885.909003</td>\n",
       "      <td>797.847095</td>\n",
       "    </tr>\n",
       "    <tr>\n",
       "      <th>jobType, degree, major</th>\n",
       "      <td>861.925204</td>\n",
       "      <td>649.994924</td>\n",
       "      <td>728.257794</td>\n",
       "      <td>603.061718</td>\n",
       "      <td>515.327659</td>\n",
       "    </tr>\n",
       "    <tr>\n",
       "      <th>jobType, degree, industry</th>\n",
       "      <td>742.172699</td>\n",
       "      <td>530.414803</td>\n",
       "      <td>608.762787</td>\n",
       "      <td>483.524154</td>\n",
       "      <td>396.005036</td>\n",
       "    </tr>\n",
       "    <tr>\n",
       "      <th>jobType, major, industry</th>\n",
       "      <td>737.755767</td>\n",
       "      <td>525.575878</td>\n",
       "      <td>604.683313</td>\n",
       "      <td>479.064955</td>\n",
       "      <td>391.503568</td>\n",
       "    </tr>\n",
       "    <tr>\n",
       "      <th>degree, major, industry</th>\n",
       "      <td>1106.550559</td>\n",
       "      <td>894.181359</td>\n",
       "      <td>973.194390</td>\n",
       "      <td>847.623234</td>\n",
       "      <td>759.825335</td>\n",
       "    </tr>\n",
       "    <tr>\n",
       "      <th>jobType, degree, major, industry</th>\n",
       "      <td>719.100285</td>\n",
       "      <td>507.298214</td>\n",
       "      <td>586.064191</td>\n",
       "      <td>460.616562</td>\n",
       "      <td>373.262265</td>\n",
       "    </tr>\n",
       "  </tbody>\n",
       "</table>\n",
       "</div>"
      ],
      "text/plain": [
       "                                  only_categorical  yearsExperience  \\\n",
       "jobType                                 970.339894       757.845939   \n",
       "degree                                 1262.336448      1049.941439   \n",
       "major                                  1288.942168      1075.819089   \n",
       "industry                               1376.210472      1162.751731   \n",
       "jobType, degree                         873.828005       661.975171   \n",
       "jobType, major                          881.622029       669.262451   \n",
       "jobType, industry                       839.131042       626.756967   \n",
       "degree, major                          1250.085581      1037.621574   \n",
       "degree, industry                       1130.474565       918.162213   \n",
       "major, industry                        1145.100338       932.045073   \n",
       "jobType, degree, major                  861.925204       649.994924   \n",
       "jobType, degree, industry               742.172699       530.414803   \n",
       "jobType, major, industry                737.755767       525.575878   \n",
       "degree, major, industry                1106.550559       894.181359   \n",
       "jobType, degree, major, industry        719.100285       507.298214   \n",
       "\n",
       "                                  milesFromMetropolis    both_mean  \\\n",
       "jobType                                    835.945286   710.830971   \n",
       "degree                                    1127.962300  1002.887229   \n",
       "major                                     1155.102219  1029.396013   \n",
       "industry                                  1242.291772  1116.457111   \n",
       "jobType, degree                            739.758036   614.801962   \n",
       "jobType, major                             747.865518   622.499344   \n",
       "jobType, industry                          705.366412   579.997049   \n",
       "degree, major                             1116.118072   990.805182   \n",
       "degree, industry                           996.770889   871.401910   \n",
       "major, industry                           1011.902215   885.909003   \n",
       "jobType, degree, major                     728.257794   603.061718   \n",
       "jobType, degree, industry                  608.762787   483.524154   \n",
       "jobType, major, industry                   604.683313   479.064955   \n",
       "degree, major, industry                    973.194390   847.623234   \n",
       "jobType, degree, major, industry           586.064191   460.616562   \n",
       "\n",
       "                                     both_sum  \n",
       "jobType                            622.451475  \n",
       "degree                             914.567436  \n",
       "major                              940.979284  \n",
       "industry                          1027.833176  \n",
       "jobType, degree                    526.905347  \n",
       "jobType, major                     534.506085  \n",
       "jobType, industry                  491.992482  \n",
       "degree, major                      902.654209  \n",
       "degree, industry                   783.458682  \n",
       "major, industry                    797.847095  \n",
       "jobType, degree, major             515.327659  \n",
       "jobType, degree, industry          396.005036  \n",
       "jobType, major, industry           391.503568  \n",
       "degree, major, industry            759.825335  \n",
       "jobType, degree, major, industry   373.262265  "
      ]
     },
     "execution_count": 73,
     "metadata": {},
     "output_type": "execute_result"
    }
   ],
   "source": [
    "test_df"
   ]
  },
  {
   "cell_type": "code",
   "execution_count": 117,
   "metadata": {},
   "outputs": [
    {
     "data": {
      "image/png": "[encoded data removed]",
      "text/plain": [
       "<Figure size 504x504 with 2 Axes>"
      ]
     },
     "metadata": {
      "needs_background": "light"
     },
     "output_type": "display_data"
    }
   ],
   "source": [
    "fig = plt.figure(figsize=(7,7))\n",
    "ax = sns.heatmap(test_df, annot = True, fmt = '.0f', cmap = 'seismic', linewidths = 0.5)\n",
    "ax.set_xlabel('numeric variable combinations')\n",
    "ax.tick_params('x', rotation = 45)\n",
    "ax.set_ylabel('categorical variable combinations')\n",
    "plt.show()"
   ]
  },
  {
   "cell_type": "code",
   "execution_count": 105,
   "metadata": {},
   "outputs": [
    {
     "data": {
      "text/plain": [
       "<AxesSubplot:>"
      ]
     },
     "execution_count": 105,
     "metadata": {},
     "output_type": "execute_result"
    },
    {
     "data": {
      "image/png": "[encoded data removed]",
      "text/plain": [
       "<Figure size 432x288 with 2 Axes>"
      ]
     },
     "metadata": {
      "needs_background": "light"
     },
     "output_type": "display_data"
    }
   ],
   "source": [
    "sns.heatmap(test_df.iloc[5:10, :], cmap = 'seismic', linewidths = 0.5)"
   ]
  },
  {
   "cell_type": "markdown",
   "metadata": {},
   "source": [
    "### insights from best baseline model\n",
    "\n",
    "in each of the combinations where `jobType` is missing, the MSE is higher than combinations where it is\n",
    "\n",
    "Interestingly, `industry` when used as a single categorical variable predictor is the worst among any other single categorical predictor. But when it is combined with `jobType` then the two variables together are the best among all two-category combinations\n",
    "\n"
   ]
  },
  {
   "cell_type": "code",
   "execution_count": null,
   "metadata": {},
   "outputs": [],
   "source": []
  }
 ],
 "metadata": {
  "kernelspec": {
   "display_name": ".venv",
   "language": "python",
   "name": ".venv"
  },
  "language_info": {
   "codemirror_mode": {
    "name": "ipython",
    "version": 3
   },
   "file_extension": ".py",
   "mimetype": "text/x-python",
   "name": "python",
   "nbconvert_exporter": "python",
   "pygments_lexer": "ipython3",
   "version": "3.7.6"
  }
 },
 "nbformat": 4,
 "nbformat_minor": 4
}
