{
 "cells": [
  {
   "cell_type": "markdown",
   "metadata": {},
   "source": [
    "# Baseline model \n",
    "\n",
    "Ideas based on analysis:\n",
    "- Using an average of one of the categorical variables as the sole predictor\n",
    "- Using a combination of 2 or more (possibly all) of the categorical variables and calculating the average as the predictors\n",
    "- Be able to incorporate the continuous variables\n",
    "    + we can calculate the average of each of the values, subtract those averages from the mean of the overall salary data and add it to the prediction\n",
    "    + do a simple single OLS between the continuous variables and the salary and use the intercept and slope values of fit and combine with the categorical predictors somehow\n",
    "        + they could be averaged? i.e. categorical averages gives a prediction and then the years of experience gets a salary prediction and the two predicted salaries get averaged "
   ]
  }
 ],
 "metadata": {
  "kernelspec": {
   "display_name": ".venv",
   "language": "python",
   "name": ".venv"
  },
  "language_info": {
   "codemirror_mode": {
    "name": "ipython",
    "version": 3
   },
   "file_extension": ".py",
   "mimetype": "text/x-python",
   "name": "python",
   "nbconvert_exporter": "python",
   "pygments_lexer": "ipython3",
   "version": "3.7.6"
  }
 },
 "nbformat": 4,
 "nbformat_minor": 4
}
